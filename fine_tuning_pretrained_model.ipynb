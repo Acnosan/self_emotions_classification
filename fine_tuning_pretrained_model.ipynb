{
 "cells": [
  {
   "cell_type": "code",
   "execution_count": 106,
   "metadata": {},
   "outputs": [],
   "source": [
    "import tensorflow as tf\n",
    "from tensorflow.keras.utils import image_dataset_from_directory\n",
    "from tensorflow.keras.callbacks import ReduceLROnPlateau,EarlyStopping\n",
    "from tensorflow.keras.optimizers import Adam\n",
    "from tensorflow.keras.losses import CategoricalCrossentropy\n",
    "from tensorflow.keras.metrics import Precision,Recall,CategoricalAccuracy\n",
    "import matplotlib.pyplot as plt\n",
    "import pickle\n",
    "import json\n",
    "import os"
   ]
  },
  {
   "cell_type": "code",
   "execution_count": 107,
   "metadata": {},
   "outputs": [],
   "source": [
    "os.chdir(\"/tf-acno-projects/image-classification\")"
   ]
  },
  {
   "cell_type": "code",
   "execution_count": 108,
   "metadata": {},
   "outputs": [
    {
     "name": "stdout",
     "output_type": "stream",
     "text": [
      "Memory limit set for GPU\n",
      "\n",
      "XLA Status Check:\n",
      "XLA JIT enabled: autoclustering\n",
      "XLA devices: [LogicalDevice(name='/device:XLA_GPU:0', device_type='XLA_GPU')]\n"
     ]
    }
   ],
   "source": [
    "os.environ['TF_XLA_FLAGS'] = '--tf_xla_enable_xla_devices'\n",
    "tf.config.optimizer.set_jit(True)  # Enable XLA\n",
    "gpus = tf.config.experimental.list_physical_devices('GPU')\n",
    "if gpus:\n",
    "    try:\n",
    "        for gpu in gpus:\n",
    "            tf.config.experimental.set_virtual_device_configuration(\n",
    "                gpu,\n",
    "                [tf.config.experimental.VirtualDeviceConfiguration(memory_limit=6000)]  # Limit GPU memory usage\n",
    "            )\n",
    "            print(f\"Memory limit set for GPU\")\n",
    "    except RuntimeError as e:\n",
    "        print(e)\n",
    "        \n",
    "# Before training\n",
    "print(\"\\nXLA Status Check:\")\n",
    "print(f\"XLA JIT enabled: {tf.config.optimizer.get_jit()}\")\n",
    "print(f\"XLA devices: {tf.config.list_logical_devices('XLA_GPU')}\")"
   ]
  },
  {
   "cell_type": "code",
   "execution_count": 109,
   "metadata": {},
   "outputs": [],
   "source": [
    "def plot_training_history(train_acc,val_acc,train_loss,val_loss):\n",
    "    plt.figure(figsize=(12, 6))\n",
    "    \n",
    "    plt.subplot(1, 2, 1)\n",
    "    plt.plot(train_acc, 'b-o', label='Training Accuracy')\n",
    "    plt.plot(val_acc, 'r-o', label='Validation Accuracy')\n",
    "    plt.title('Model Accuracy')\n",
    "    plt.xlabel('Epoch')\n",
    "    \n",
    "    plt.ylabel('Accuracy')\n",
    "    plt.legend()\n",
    "    \n",
    "    plt.subplot(1, 2, 2)\n",
    "    plt.plot(train_loss, 'b-o', label='Training Loss')\n",
    "    plt.plot(val_loss, 'r-o', label='Validation Loss')\n",
    "    plt.title('Model Loss')\n",
    "    plt.xlabel('Epoch')\n",
    "    plt.ylabel('Loss')\n",
    "    plt.legend()\n",
    "    \n",
    "    plt.show()"
   ]
  },
  {
   "cell_type": "code",
   "execution_count": 110,
   "metadata": {},
   "outputs": [],
   "source": [
    "model_path = 'models/1_2024_12_5_0.912.keras'"
   ]
  },
  {
   "cell_type": "code",
   "execution_count": 111,
   "metadata": {},
   "outputs": [],
   "source": [
    "pretrained_model = tf.keras.models.load_model(model_path)"
   ]
  },
  {
   "cell_type": "code",
   "execution_count": 112,
   "metadata": {},
   "outputs": [],
   "source": [
    "data_dir = 'faces_data'\n",
    "autotune = tf.data.AUTOTUNE\n",
    "img_size = (128,128,3)\n",
    "batch_size = 32\n",
    "learning_rate = 0.00005\n",
    "MAX_IMAGES_USED = 1500"
   ]
  },
  {
   "cell_type": "code",
   "execution_count": 113,
   "metadata": {},
   "outputs": [],
   "source": [
    "def prepare_dataset(is_training,dataset,batch_size,shuffle_buffer=None):\n",
    "    dataset = dataset.map(\n",
    "        lambda x,y: (tf.cast(x,tf.float32)/255.0,y),\n",
    "        num_parallel_calls = autotune\n",
    "    )\n",
    "    \n",
    "    if is_training:\n",
    "#The shuffle buffer size controls how much data is loaded into memory for shuffling. \n",
    "# A smaller value will reduce memory usage and initialization time, but it might reduce shuffle quality.\n",
    "        dataset = dataset.shuffle(shuffle_buffer)\n",
    "    dataset = dataset.batch(batch_size)\n",
    "    \n",
    "    return dataset.prefetch(autotune)"
   ]
  },
  {
   "cell_type": "markdown",
   "metadata": {},
   "source": [
    "#### filtering the dataset using MAX_IMAGES_USED"
   ]
  },
  {
   "cell_type": "code",
   "execution_count": 114,
   "metadata": {},
   "outputs": [
    {
     "name": "stdout",
     "output_type": "stream",
     "text": [
      "Found 11107 files belonging to 5 classes.\n",
      "Class counts: {0: 1500, 4: 1500, 3: 1500, 1: 1500, 2: 1500}\n"
     ]
    }
   ],
   "source": [
    "tf.keras.backend.clear_session()\n",
    "original_dataset = image_dataset_from_directory(\n",
    "    data_dir,\n",
    "    image_size=(128,128),\n",
    "    label_mode='categorical',# Ensure labels are one-hot encoded\n",
    "    batch_size= batch_size,\n",
    ")\n",
    "# Collect images and labels\n",
    "all_images = []\n",
    "all_labels = []\n",
    "class_counts = {}\n",
    "for images, labels in original_dataset:\n",
    "    labels_np = labels.numpy()\n",
    "    for i in range (len(images)):\n",
    "        label_int = int(tf.argmax(labels_np[i]))\n",
    "        if class_counts.get(label_int, 0) < MAX_IMAGES_USED:\n",
    "            all_images.append(images[i])\n",
    "            all_labels.append(labels_np[i])\n",
    "            class_counts[label_int] = class_counts.get(label_int, 0) + 1\n",
    "# Print class distribution\n",
    "print(\"Class counts:\", class_counts)\n",
    "# Convert to tensor dataset\n",
    "all_images = tf.stack(all_images)\n",
    "all_labels = tf.stack(all_labels)  # Ensure labels are integers\n",
    "dataset = tf.data.Dataset.from_tensor_slices((all_images, all_labels))"
   ]
  },
  {
   "cell_type": "code",
   "execution_count": 115,
   "metadata": {},
   "outputs": [
    {
     "name": "stdout",
     "output_type": "stream",
     "text": [
      "class 0 : label : angry\n",
      "\n",
      "class 1 : label : disgusted\n",
      "\n",
      "class 2 : label : happy\n",
      "\n",
      "class 3 : label : sad\n",
      "\n",
      "class 4 : label : shocked\n",
      "\n"
     ]
    }
   ],
   "source": [
    "for i,class_name in enumerate(original_dataset.class_names):\n",
    "    print(f\"class {i} : label : {class_name}\\n\")"
   ]
  },
  {
   "cell_type": "code",
   "execution_count": 116,
   "metadata": {},
   "outputs": [],
   "source": [
    "train_size = int(0.8* len(all_images))\n",
    "val_size = int(0.1 * len(all_images))\n",
    "# Split the dataset\n",
    "training_split = dataset.take(train_size)\n",
    "remaining = dataset.skip(train_size)\n",
    "\n",
    "validation_split = remaining.take(val_size)\n",
    "testing_split = remaining.skip(val_size)\n"
   ]
  },
  {
   "cell_type": "code",
   "execution_count": 117,
   "metadata": {},
   "outputs": [],
   "source": [
    "callbacks = [\n",
    "    EarlyStopping(monitor='val_loss',patience=25,min_delta=0.0001,restore_best_weights=True),\n",
    "    ReduceLROnPlateau(monitor=\"val_loss\",factor=0.5, patience=10,min_delta=0.001,min_lr=1e-6),\n",
    "]"
   ]
  },
  {
   "cell_type": "code",
   "execution_count": 118,
   "metadata": {},
   "outputs": [],
   "source": [
    "train_dataset = prepare_dataset(True,training_split,batch_size,2500) # Shuffle buffer size\twith 7500/3 = 2500 \n",
    "test_dataset = prepare_dataset(False,testing_split,batch_size)\n",
    "validation_dataset = prepare_dataset(False,validation_split,batch_size)\n",
    "\n",
    "for image,_ in train_dataset.take(1):\n",
    "    input_example = image.numpy()"
   ]
  },
  {
   "cell_type": "code",
   "execution_count": 119,
   "metadata": {},
   "outputs": [],
   "source": [
    "pretrained_model.compile(\n",
    "    optimizer=Adam(learning_rate=learning_rate),\n",
    "    loss = CategoricalCrossentropy(),\n",
    "    metrics = [Precision(),Recall(),CategoricalAccuracy()]\n",
    ")"
   ]
  },
  {
   "cell_type": "code",
   "execution_count": 120,
   "metadata": {},
   "outputs": [
    {
     "name": "stdout",
     "output_type": "stream",
     "text": [
      "Epoch 1/150\n",
      "188/188 [==============================] - 16s 26ms/step - loss: 4.5661 - precision: 0.5622 - recall: 0.5040 - categorical_accuracy: 0.5317 - val_loss: 2.9736 - val_precision: 0.5830 - val_recall: 0.5107 - val_categorical_accuracy: 0.5520 - lr: 5.0000e-05\n",
      "Epoch 2/150\n",
      "188/188 [==============================] - 7s 34ms/step - loss: 2.7378 - precision: 0.5857 - recall: 0.4453 - categorical_accuracy: 0.5123 - val_loss: 1.9580 - val_precision: 0.6435 - val_recall: 0.4693 - val_categorical_accuracy: 0.5467 - lr: 5.0000e-05\n",
      "Epoch 3/150\n",
      "188/188 [==============================] - 3s 16ms/step - loss: 2.0599 - precision: 0.6068 - recall: 0.3593 - categorical_accuracy: 0.4763 - val_loss: 1.6426 - val_precision: 0.6464 - val_recall: 0.3827 - val_categorical_accuracy: 0.5200 - lr: 5.0000e-05\n",
      "Epoch 4/150\n",
      "188/188 [==============================] - 3s 15ms/step - loss: 1.7429 - precision: 0.6451 - recall: 0.3138 - categorical_accuracy: 0.4638 - val_loss: 1.5227 - val_precision: 0.7046 - val_recall: 0.3467 - val_categorical_accuracy: 0.5133 - lr: 5.0000e-05\n",
      "Epoch 5/150\n",
      "188/188 [==============================] - 3s 15ms/step - loss: 1.6496 - precision: 0.6709 - recall: 0.2912 - categorical_accuracy: 0.4522 - val_loss: 1.4552 - val_precision: 0.7296 - val_recall: 0.3453 - val_categorical_accuracy: 0.5267 - lr: 5.0000e-05\n",
      "Epoch 6/150\n",
      "188/188 [==============================] - 3s 15ms/step - loss: 1.5686 - precision: 0.7101 - recall: 0.2887 - categorical_accuracy: 0.4578 - val_loss: 1.4123 - val_precision: 0.7545 - val_recall: 0.3360 - val_categorical_accuracy: 0.5320 - lr: 5.0000e-05\n",
      "Epoch 7/150\n",
      "188/188 [==============================] - 3s 15ms/step - loss: 1.4878 - precision: 0.7352 - recall: 0.2957 - categorical_accuracy: 0.4695 - val_loss: 1.3864 - val_precision: 0.7605 - val_recall: 0.3387 - val_categorical_accuracy: 0.5373 - lr: 5.0000e-05\n",
      "Epoch 8/150\n",
      "188/188 [==============================] - 3s 15ms/step - loss: 1.4359 - precision: 0.7498 - recall: 0.3042 - categorical_accuracy: 0.4860 - val_loss: 1.3642 - val_precision: 0.7659 - val_recall: 0.3533 - val_categorical_accuracy: 0.5373 - lr: 5.0000e-05\n",
      "Epoch 9/150\n",
      "188/188 [==============================] - 2s 8ms/step - loss: 1.3912 - precision: 0.7652 - recall: 0.3133 - categorical_accuracy: 0.4960 - val_loss: 1.3429 - val_precision: 0.7726 - val_recall: 0.3533 - val_categorical_accuracy: 0.5400 - lr: 5.0000e-05\n",
      "Epoch 10/150\n",
      "188/188 [==============================] - 3s 15ms/step - loss: 1.3596 - precision: 0.7831 - recall: 0.3135 - categorical_accuracy: 0.4998 - val_loss: 1.3250 - val_precision: 0.7768 - val_recall: 0.3573 - val_categorical_accuracy: 0.5467 - lr: 5.0000e-05\n",
      "Epoch 11/150\n",
      "188/188 [==============================] - 3s 15ms/step - loss: 1.3217 - precision: 0.7942 - recall: 0.3242 - categorical_accuracy: 0.5050 - val_loss: 1.3105 - val_precision: 0.7820 - val_recall: 0.3587 - val_categorical_accuracy: 0.5507 - lr: 5.0000e-05\n",
      "Epoch 12/150\n",
      "188/188 [==============================] - 3s 15ms/step - loss: 1.2945 - precision: 0.8024 - recall: 0.3398 - categorical_accuracy: 0.5247 - val_loss: 1.2916 - val_precision: 0.7810 - val_recall: 0.3613 - val_categorical_accuracy: 0.5613 - lr: 5.0000e-05\n",
      "Epoch 13/150\n",
      "188/188 [==============================] - 3s 15ms/step - loss: 1.2570 - precision: 0.8122 - recall: 0.3395 - categorical_accuracy: 0.5292 - val_loss: 1.2811 - val_precision: 0.7841 - val_recall: 0.3680 - val_categorical_accuracy: 0.5587 - lr: 5.0000e-05\n",
      "Epoch 14/150\n",
      "188/188 [==============================] - 3s 15ms/step - loss: 1.2296 - precision: 0.8132 - recall: 0.3475 - categorical_accuracy: 0.5347 - val_loss: 1.2712 - val_precision: 0.7775 - val_recall: 0.3773 - val_categorical_accuracy: 0.5613 - lr: 5.0000e-05\n",
      "Epoch 15/150\n",
      "188/188 [==============================] - 3s 15ms/step - loss: 1.2144 - precision: 0.8133 - recall: 0.3578 - categorical_accuracy: 0.5382 - val_loss: 1.2615 - val_precision: 0.7875 - val_recall: 0.3853 - val_categorical_accuracy: 0.5707 - lr: 5.0000e-05\n",
      "Epoch 16/150\n",
      "188/188 [==============================] - 3s 15ms/step - loss: 1.1856 - precision: 0.8319 - recall: 0.3613 - categorical_accuracy: 0.5488 - val_loss: 1.2492 - val_precision: 0.7832 - val_recall: 0.3853 - val_categorical_accuracy: 0.5680 - lr: 5.0000e-05\n",
      "Epoch 17/150\n",
      "188/188 [==============================] - 3s 16ms/step - loss: 1.1737 - precision: 0.8302 - recall: 0.3667 - categorical_accuracy: 0.5523 - val_loss: 1.2413 - val_precision: 0.7913 - val_recall: 0.3893 - val_categorical_accuracy: 0.5667 - lr: 5.0000e-05\n",
      "Epoch 18/150\n",
      "188/188 [==============================] - 3s 16ms/step - loss: 1.1488 - precision: 0.8339 - recall: 0.3832 - categorical_accuracy: 0.5607 - val_loss: 1.2361 - val_precision: 0.7851 - val_recall: 0.3947 - val_categorical_accuracy: 0.5720 - lr: 5.0000e-05\n",
      "Epoch 19/150\n",
      "188/188 [==============================] - 2s 8ms/step - loss: 1.1337 - precision: 0.8352 - recall: 0.3825 - categorical_accuracy: 0.5627 - val_loss: 1.2404 - val_precision: 0.7746 - val_recall: 0.3987 - val_categorical_accuracy: 0.5667 - lr: 5.0000e-05\n",
      "Epoch 20/150\n",
      "188/188 [==============================] - 3s 15ms/step - loss: 1.1114 - precision: 0.8388 - recall: 0.3947 - categorical_accuracy: 0.5667 - val_loss: 1.2388 - val_precision: 0.7806 - val_recall: 0.4080 - val_categorical_accuracy: 0.5693 - lr: 5.0000e-05\n",
      "Epoch 21/150\n",
      "188/188 [==============================] - 3s 15ms/step - loss: 1.0914 - precision: 0.8377 - recall: 0.3975 - categorical_accuracy: 0.5690 - val_loss: 1.2381 - val_precision: 0.7702 - val_recall: 0.4067 - val_categorical_accuracy: 0.5693 - lr: 5.0000e-05\n",
      "Epoch 22/150\n",
      "188/188 [==============================] - 3s 15ms/step - loss: 1.0724 - precision: 0.8475 - recall: 0.4065 - categorical_accuracy: 0.5728 - val_loss: 1.2268 - val_precision: 0.7857 - val_recall: 0.4107 - val_categorical_accuracy: 0.5840 - lr: 5.0000e-05\n",
      "Epoch 23/150\n",
      "188/188 [==============================] - 3s 15ms/step - loss: 1.0608 - precision: 0.8590 - recall: 0.4152 - categorical_accuracy: 0.5792 - val_loss: 1.2319 - val_precision: 0.7670 - val_recall: 0.4213 - val_categorical_accuracy: 0.5760 - lr: 5.0000e-05\n",
      "Epoch 24/150\n",
      "188/188 [==============================] - 3s 15ms/step - loss: 1.0385 - precision: 0.8530 - recall: 0.4285 - categorical_accuracy: 0.5905 - val_loss: 1.2195 - val_precision: 0.7734 - val_recall: 0.4187 - val_categorical_accuracy: 0.5920 - lr: 5.0000e-05\n",
      "Epoch 25/150\n",
      "188/188 [==============================] - 3s 15ms/step - loss: 1.0268 - precision: 0.8594 - recall: 0.4300 - categorical_accuracy: 0.5893 - val_loss: 1.2243 - val_precision: 0.7646 - val_recall: 0.4200 - val_categorical_accuracy: 0.5787 - lr: 5.0000e-05\n",
      "Epoch 26/150\n",
      "188/188 [==============================] - 3s 15ms/step - loss: 1.0047 - precision: 0.8559 - recall: 0.4407 - categorical_accuracy: 0.5987 - val_loss: 1.2216 - val_precision: 0.7632 - val_recall: 0.4253 - val_categorical_accuracy: 0.5867 - lr: 5.0000e-05\n",
      "Epoch 27/150\n",
      "188/188 [==============================] - 3s 15ms/step - loss: 1.0012 - precision: 0.8484 - recall: 0.4403 - categorical_accuracy: 0.5958 - val_loss: 1.2228 - val_precision: 0.7618 - val_recall: 0.4307 - val_categorical_accuracy: 0.5813 - lr: 5.0000e-05\n",
      "Epoch 28/150\n",
      "188/188 [==============================] - 3s 15ms/step - loss: 0.9889 - precision: 0.8630 - recall: 0.4452 - categorical_accuracy: 0.6083 - val_loss: 1.2413 - val_precision: 0.7546 - val_recall: 0.4387 - val_categorical_accuracy: 0.5827 - lr: 5.0000e-05\n",
      "Epoch 29/150\n",
      "188/188 [==============================] - 2s 10ms/step - loss: 0.9840 - precision: 0.8552 - recall: 0.4428 - categorical_accuracy: 0.6007 - val_loss: 1.2330 - val_precision: 0.7581 - val_recall: 0.4347 - val_categorical_accuracy: 0.5827 - lr: 5.0000e-05\n",
      "Epoch 30/150\n",
      "188/188 [==============================] - 3s 15ms/step - loss: 0.9564 - precision: 0.8612 - recall: 0.4582 - categorical_accuracy: 0.6110 - val_loss: 1.2323 - val_precision: 0.7726 - val_recall: 0.4440 - val_categorical_accuracy: 0.5867 - lr: 5.0000e-05\n",
      "Epoch 31/150\n",
      "188/188 [==============================] - 3s 15ms/step - loss: 0.9528 - precision: 0.8743 - recall: 0.4648 - categorical_accuracy: 0.6158 - val_loss: 1.2414 - val_precision: 0.7608 - val_recall: 0.4453 - val_categorical_accuracy: 0.5907 - lr: 5.0000e-05\n",
      "Epoch 32/150\n",
      "188/188 [==============================] - 3s 15ms/step - loss: 0.9341 - precision: 0.8699 - recall: 0.4748 - categorical_accuracy: 0.6200 - val_loss: 1.2373 - val_precision: 0.7619 - val_recall: 0.4480 - val_categorical_accuracy: 0.5947 - lr: 5.0000e-05\n",
      "Epoch 33/150\n",
      "188/188 [==============================] - 3s 16ms/step - loss: 0.9384 - precision: 0.8606 - recall: 0.4713 - categorical_accuracy: 0.6172 - val_loss: 1.2406 - val_precision: 0.7595 - val_recall: 0.4547 - val_categorical_accuracy: 0.5973 - lr: 5.0000e-05\n",
      "Epoch 34/150\n",
      "188/188 [==============================] - 3s 15ms/step - loss: 0.9150 - precision: 0.8702 - recall: 0.4873 - categorical_accuracy: 0.6310 - val_loss: 1.2417 - val_precision: 0.7539 - val_recall: 0.4533 - val_categorical_accuracy: 0.6013 - lr: 5.0000e-05\n",
      "Epoch 35/150\n",
      "188/188 [==============================] - 3s 15ms/step - loss: 0.9089 - precision: 0.8670 - recall: 0.4825 - categorical_accuracy: 0.6300 - val_loss: 1.2429 - val_precision: 0.7506 - val_recall: 0.4533 - val_categorical_accuracy: 0.6040 - lr: 2.5000e-05\n",
      "Epoch 36/150\n",
      "188/188 [==============================] - 3s 15ms/step - loss: 0.9109 - precision: 0.8665 - recall: 0.4920 - categorical_accuracy: 0.6337 - val_loss: 1.2526 - val_precision: 0.7505 - val_recall: 0.4573 - val_categorical_accuracy: 0.6000 - lr: 2.5000e-05\n",
      "Epoch 37/150\n",
      "188/188 [==============================] - 3s 15ms/step - loss: 0.8921 - precision: 0.8742 - recall: 0.4933 - categorical_accuracy: 0.6353 - val_loss: 1.2539 - val_precision: 0.7484 - val_recall: 0.4560 - val_categorical_accuracy: 0.6013 - lr: 2.5000e-05\n",
      "Epoch 38/150\n",
      "188/188 [==============================] - 3s 15ms/step - loss: 0.8849 - precision: 0.8664 - recall: 0.4970 - categorical_accuracy: 0.6357 - val_loss: 1.2523 - val_precision: 0.7424 - val_recall: 0.4573 - val_categorical_accuracy: 0.6000 - lr: 2.5000e-05\n",
      "Epoch 39/150\n",
      "188/188 [==============================] - 2s 8ms/step - loss: 0.8883 - precision: 0.8672 - recall: 0.4928 - categorical_accuracy: 0.6362 - val_loss: 1.2554 - val_precision: 0.7430 - val_recall: 0.4587 - val_categorical_accuracy: 0.5947 - lr: 2.5000e-05\n",
      "Epoch 40/150\n",
      "188/188 [==============================] - 3s 15ms/step - loss: 0.8854 - precision: 0.8667 - recall: 0.4940 - categorical_accuracy: 0.6395 - val_loss: 1.2652 - val_precision: 0.7389 - val_recall: 0.4640 - val_categorical_accuracy: 0.5973 - lr: 2.5000e-05\n",
      "Epoch 41/150\n",
      "188/188 [==============================] - 3s 16ms/step - loss: 0.8683 - precision: 0.8741 - recall: 0.5057 - categorical_accuracy: 0.6522 - val_loss: 1.2726 - val_precision: 0.7363 - val_recall: 0.4653 - val_categorical_accuracy: 0.5987 - lr: 2.5000e-05\n",
      "Epoch 42/150\n",
      "188/188 [==============================] - 3s 15ms/step - loss: 0.8762 - precision: 0.8772 - recall: 0.4988 - categorical_accuracy: 0.6407 - val_loss: 1.2682 - val_precision: 0.7370 - val_recall: 0.4707 - val_categorical_accuracy: 0.5960 - lr: 2.5000e-05\n",
      "Epoch 43/150\n",
      "188/188 [==============================] - 3s 15ms/step - loss: 0.8654 - precision: 0.8697 - recall: 0.5095 - categorical_accuracy: 0.6490 - val_loss: 1.2682 - val_precision: 0.7395 - val_recall: 0.4693 - val_categorical_accuracy: 0.5973 - lr: 2.5000e-05\n",
      "Epoch 44/150\n",
      "188/188 [==============================] - 3s 15ms/step - loss: 0.8601 - precision: 0.8801 - recall: 0.5090 - categorical_accuracy: 0.6507 - val_loss: 1.2674 - val_precision: 0.7411 - val_recall: 0.4693 - val_categorical_accuracy: 0.6000 - lr: 2.5000e-05\n",
      "Epoch 45/150\n",
      "188/188 [==============================] - 3s 15ms/step - loss: 0.8615 - precision: 0.8609 - recall: 0.5012 - categorical_accuracy: 0.6400 - val_loss: 1.2766 - val_precision: 0.7371 - val_recall: 0.4747 - val_categorical_accuracy: 0.5973 - lr: 1.2500e-05\n",
      "Epoch 46/150\n",
      "188/188 [==============================] - 3s 15ms/step - loss: 0.8620 - precision: 0.8721 - recall: 0.5068 - categorical_accuracy: 0.6423 - val_loss: 1.2790 - val_precision: 0.7355 - val_recall: 0.4747 - val_categorical_accuracy: 0.5920 - lr: 1.2500e-05\n",
      "Epoch 47/150\n",
      "188/188 [==============================] - 3s 15ms/step - loss: 0.8523 - precision: 0.8727 - recall: 0.5075 - categorical_accuracy: 0.6422 - val_loss: 1.2866 - val_precision: 0.7291 - val_recall: 0.4773 - val_categorical_accuracy: 0.5933 - lr: 1.2500e-05\n",
      "Epoch 48/150\n",
      "188/188 [==============================] - 3s 15ms/step - loss: 0.8418 - precision: 0.8814 - recall: 0.5165 - categorical_accuracy: 0.6510 - val_loss: 1.2854 - val_precision: 0.7271 - val_recall: 0.4760 - val_categorical_accuracy: 0.5987 - lr: 1.2500e-05\n",
      "Epoch 49/150\n",
      "188/188 [==============================] - 2s 8ms/step - loss: 0.8560 - precision: 0.8710 - recall: 0.5133 - categorical_accuracy: 0.6473 - val_loss: 1.2875 - val_precision: 0.7310 - val_recall: 0.4747 - val_categorical_accuracy: 0.5933 - lr: 1.2500e-05\n"
     ]
    }
   ],
   "source": [
    "training_history = pretrained_model.fit(\n",
    "    train_dataset,\n",
    "    epochs=150,\n",
    "    callbacks= callbacks,\n",
    "    validation_data=validation_dataset,\n",
    "    verbose=1\n",
    ")"
   ]
  },
  {
   "cell_type": "code",
   "execution_count": 121,
   "metadata": {},
   "outputs": [
    {
     "name": "stdout",
     "output_type": "stream",
     "text": [
      "Training Accuracy: 0.65, Validation Accuracy: 0.59\n",
      "Training Precision: 0.87, Validation Precision: 0.73\n",
      "Training Recall: 0.51, Validation Recall: 0.47\n",
      "Training Loss: 0.86, Validation Loss: 1.29\n"
     ]
    }
   ],
   "source": [
    "train_accuracy = training_history.history['categorical_accuracy'][-1]  # Last epoch's training accuracy\n",
    "val_accuracy = training_history.history['val_categorical_accuracy'][-1]  # Last epoch's validation accuracy\n",
    "\n",
    "# If Precision and Recall are included in the metrics\n",
    "train_precision = training_history.history['precision'][-1]\n",
    "val_precision = training_history.history['val_precision'][-1]\n",
    "\n",
    "train_recall = training_history.history['recall'][-1]\n",
    "val_recall = training_history.history['val_recall'][-1]\n",
    "\n",
    "train_loss = training_history.history['loss'][-1]\n",
    "val_loss = training_history.history['val_loss'][-1]\n",
    "\n",
    "# Print the results\n",
    "print(f\"Training Accuracy: {train_accuracy:.2f}, Validation Accuracy: {val_accuracy:.2f}\")\n",
    "print(f\"Training Precision: {train_precision:.2f}, Validation Precision: {val_precision:.2f}\")\n",
    "print(f\"Training Recall: {train_recall:.2f}, Validation Recall: {val_recall:.2f}\")\n",
    "print(f\"Training Loss: {train_loss:.2f}, Validation Loss: {val_loss:.2f}\")"
   ]
  },
  {
   "cell_type": "code",
   "execution_count": 122,
   "metadata": {},
   "outputs": [
    {
     "data": {
      "image/png": "[encoded data removed]",
      "text/plain": [
       "<Figure size 1200x600 with 2 Axes>"
      ]
     },
     "metadata": {},
     "output_type": "display_data"
    }
   ],
   "source": [
    "plot_training_history(\n",
    "    training_history.history['categorical_accuracy'],\n",
    "    training_history.history['val_categorical_accuracy'],\n",
    "    training_history.history['loss'],\n",
    "    training_history.history['val_loss']\n",
    "                      )"
   ]
  },
  {
   "cell_type": "code",
   "execution_count": 123,
   "metadata": {},
   "outputs": [
    {
     "name": "stdout",
     "output_type": "stream",
     "text": [
      "24/24 [==============================] - 5s 47ms/step - loss: 0.8783 - precision: 0.8982 - recall: 0.6000 - categorical_accuracy: 0.7453\n",
      "{'loss': 0.878342866897583, 'precision': 0.8982036113739014, 'recall': 0.6000000238418579, 'categorical_accuracy': 0.7453333139419556}\n"
     ]
    }
   ],
   "source": [
    "results = pretrained_model.evaluate(test_dataset)\n",
    "metric_names = pretrained_model.metrics_names  # Get metric names\n",
    "results_dict = dict(zip(metric_names, results))  # Create a dictionary\n",
    "\n",
    "print(results_dict)"
   ]
  },
  {
   "cell_type": "markdown",
   "metadata": {},
   "source": [
    "# Model Performance Results\n",
    "\n",
    "## Initial Model (Old)\n",
    "- **Validation Metrics**\n",
    "    - Accuracy: 0.9397\n",
    "    - Loss: 0.1974\n",
    "- **Training Metrics**\n",
    "    - Accuracy: 0.8877\n",
    "    - Loss: 0.2755\n",
    "- **Final Test Results**\n",
    "    - Accuracy: 0.9246\n",
    "    - Loss: 0.2040\n",
    "\n",
    "---"
   ]
  },
  {
   "cell_type": "code",
   "execution_count": 124,
   "metadata": {},
   "outputs": [],
   "source": [
    "from datetime import datetime\n",
    "timestamp = datetime.now().strftime(\"%d_%m_%Y_%HH_%M\")"
   ]
  },
  {
   "cell_type": "code",
   "execution_count": 125,
   "metadata": {},
   "outputs": [
    {
     "name": "stdout",
     "output_type": "stream",
     "text": [
      "Model will be saved to: models/re_trained_07_02_2025_19H_26_0.745.keras\n"
     ]
    }
   ],
   "source": [
    "# Check if 'categorical_accuracy' exists and is a float\n",
    "if 'categorical_accuracy' in results_dict and isinstance(results_dict['categorical_accuracy'], (float, int)):\n",
    "    model_save_path = f\"models/re_trained_{timestamp}_{results_dict['categorical_accuracy']:.3f}.keras\"\n",
    "    print(f\"Model will be saved to: {model_save_path}\")\n",
    "else:\n",
    "    print(\"Error: 'categorical_accuracy' key is missing or its value is not a float.\")"
   ]
  },
  {
   "cell_type": "code",
   "execution_count": 126,
   "metadata": {},
   "outputs": [],
   "source": [
    "pretrained_model.save(model_save_path)"
   ]
  },
  {
   "cell_type": "code",
   "execution_count": 127,
   "metadata": {},
   "outputs": [],
   "source": [
    "params = {\n",
    "        \"img_size\": img_size,\n",
    "        \"batch_size\": batch_size,\n",
    "        \"learning_rate\": learning_rate,\n",
    "        \"MAX_IMAGES_USED\": MAX_IMAGES_USED,\n",
    "}\n",
    "\n",
    "metrics = {\n",
    "        'train_accuracy': train_accuracy,\n",
    "        'train_precision': train_precision,\n",
    "        'train_recall': train_recall,\n",
    "        'train_loss': train_loss,\n",
    "\n",
    "        'val_accuracy': val_accuracy,\n",
    "        'val_precision': val_precision,\n",
    "        'val_recall': val_recall,\n",
    "        'val_loss': val_loss,\n",
    "\n",
    "        'test_accuracy': results_dict['categorical_accuracy'],\n",
    "        'test_loss': results_dict['loss'],\n",
    "}\n",
    "\n",
    "model = {\n",
    "        'model_architecture': pretrained_model,\n",
    "        'model_name':'pre_trained_model',\n",
    "}"
   ]
  },
  {
   "cell_type": "code",
   "execution_count": 128,
   "metadata": {},
   "outputs": [],
   "source": [
    "params_path = 'mlflow_details/mlflow_params.json'\n",
    "metrics_path = 'mlflow_details/mlflow_metrics.json'\n",
    "model_path = 'mlflow_details/mlflow_model.pkl'\n",
    "input_path = 'mlflow_details/mlflow_input_example.pkl'\n",
    "\n",
    "with open(params_path, 'w') as f:\n",
    "    json.dump(params, f)\n",
    "    \n",
    "with open(metrics_path, 'w') as f:\n",
    "    json.dump(metrics, f)\n",
    "    \n",
    "with open(model_path, 'wb') as f:\n",
    "    pickle.dump(model, f)\n",
    "    \n",
    "with open(input_path, 'wb') as f:\n",
    "    pickle.dump(input_example, f) "
   ]
  }
 ],
 "metadata": {
  "kernelspec": {
   "display_name": "Python 3 (ipykernel)",
   "language": "python",
   "name": "python3"
  },
  "language_info": {
   "codemirror_mode": {
    "name": "ipython",
    "version": 3
   },
   "file_extension": ".py",
   "mimetype": "text/x-python",
   "name": "python",
   "nbconvert_exporter": "python",
   "pygments_lexer": "ipython3",
   "version": "3.11.0rc1"
  }
 },
 "nbformat": 4,
 "nbformat_minor": 2
}
