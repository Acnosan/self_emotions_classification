{
 "cells": [
  {
   "cell_type": "code",
   "execution_count": 1,
   "metadata": {},
   "outputs": [],
   "source": [
    "import os\n",
    "os.chdir(\"/tf-acno-projects/image-classification\")"
   ]
  },
  {
   "cell_type": "code",
   "execution_count": 2,
   "metadata": {},
   "outputs": [
    {
     "name": "stderr",
     "output_type": "stream",
     "text": [
      "2025-02-06 13:10:38.268385: E tensorflow/compiler/xla/stream_executor/cuda/cuda_dnn.cc:9342] Unable to register cuDNN factory: Attempting to register factory for plugin cuDNN when one has already been registered\n",
      "2025-02-06 13:10:38.268423: E tensorflow/compiler/xla/stream_executor/cuda/cuda_fft.cc:609] Unable to register cuFFT factory: Attempting to register factory for plugin cuFFT when one has already been registered\n",
      "2025-02-06 13:10:38.270618: E tensorflow/compiler/xla/stream_executor/cuda/cuda_blas.cc:1518] Unable to register cuBLAS factory: Attempting to register factory for plugin cuBLAS when one has already been registered\n",
      "2025-02-06 13:10:38.480141: I tensorflow/core/platform/cpu_feature_guard.cc:182] This TensorFlow binary is optimized to use available CPU instructions in performance-critical operations.\n",
      "To enable the following instructions: AVX2 FMA, in other operations, rebuild TensorFlow with the appropriate compiler flags.\n"
     ]
    },
    {
     "name": "stdout",
     "output_type": "stream",
     "text": [
      "Memory limit set for GPU\n",
      "\n",
      "XLA Status Check:\n",
      "XLA JIT enabled: autoclustering\n",
      "XLA devices: [LogicalDevice(name='/device:XLA_GPU:0', device_type='XLA_GPU')]\n"
     ]
    },
    {
     "name": "stderr",
     "output_type": "stream",
     "text": [
      "2025-02-06 13:10:42.113715: I tensorflow/compiler/xla/stream_executor/cuda/cuda_gpu_executor.cc:880] could not open file to read NUMA node: /sys/bus/pci/devices/0000:01:00.0/numa_node\n",
      "Your kernel may have been built without NUMA support.\n",
      "2025-02-06 13:10:42.153098: I tensorflow/compiler/xla/stream_executor/cuda/cuda_gpu_executor.cc:880] could not open file to read NUMA node: /sys/bus/pci/devices/0000:01:00.0/numa_node\n",
      "Your kernel may have been built without NUMA support.\n",
      "2025-02-06 13:10:42.153130: I tensorflow/compiler/xla/stream_executor/cuda/cuda_gpu_executor.cc:880] could not open file to read NUMA node: /sys/bus/pci/devices/0000:01:00.0/numa_node\n",
      "Your kernel may have been built without NUMA support.\n",
      "2025-02-06 13:10:42.163098: I tensorflow/compiler/xla/service/service.cc:168] XLA service 0x4465a640 initialized for platform Host (this does not guarantee that XLA will be used). Devices:\n",
      "2025-02-06 13:10:42.163116: I tensorflow/compiler/xla/service/service.cc:176]   StreamExecutor device (0): Host, Default Version\n",
      "2025-02-06 13:10:42.163151: E ./tensorflow/compiler/xla/stream_executor/stream_executor_internal.h:124] SetPriority unimplemented for this stream.\n",
      "2025-02-06 13:10:42.163229: I tensorflow/compiler/xla/stream_executor/cuda/cuda_gpu_executor.cc:880] could not open file to read NUMA node: /sys/bus/pci/devices/0000:01:00.0/numa_node\n",
      "Your kernel may have been built without NUMA support.\n",
      "2025-02-06 13:10:42.163252: I tensorflow/compiler/xla/stream_executor/cuda/cuda_gpu_executor.cc:880] could not open file to read NUMA node: /sys/bus/pci/devices/0000:01:00.0/numa_node\n",
      "Your kernel may have been built without NUMA support.\n",
      "2025-02-06 13:10:42.163264: I tensorflow/compiler/xla/stream_executor/cuda/cuda_gpu_executor.cc:880] could not open file to read NUMA node: /sys/bus/pci/devices/0000:01:00.0/numa_node\n",
      "Your kernel may have been built without NUMA support.\n",
      "2025-02-06 13:10:42.294323: I tensorflow/compiler/xla/stream_executor/cuda/cuda_gpu_executor.cc:880] could not open file to read NUMA node: /sys/bus/pci/devices/0000:01:00.0/numa_node\n",
      "Your kernel may have been built without NUMA support.\n",
      "2025-02-06 13:10:42.294343: I tensorflow/core/common_runtime/gpu/gpu_device.cc:1977] Could not identify NUMA node of platform GPU id 0, defaulting to 0.  Your kernel may not have been built with NUMA support.\n",
      "2025-02-06 13:10:42.294365: I tensorflow/compiler/xla/stream_executor/cuda/cuda_gpu_executor.cc:880] could not open file to read NUMA node: /sys/bus/pci/devices/0000:01:00.0/numa_node\n",
      "Your kernel may have been built without NUMA support.\n",
      "2025-02-06 13:10:42.294383: I tensorflow/compiler/xla/stream_executor/cuda/cuda_gpu_executor.cc:880] could not open file to read NUMA node: /sys/bus/pci/devices/0000:01:00.0/numa_node\n",
      "Your kernel may have been built without NUMA support.\n",
      "2025-02-06 13:10:42.294401: I tensorflow/core/common_runtime/gpu/gpu_device.cc:1886] Created device /job:localhost/replica:0/task:0/device:GPU:0 with 6000 MB memory:  -> device: 0, name: NVIDIA GeForce RTX 3050, pci bus id: 0000:01:00.0, compute capability: 8.6\n",
      "2025-02-06 13:10:42.298205: I tensorflow/compiler/xla/service/service.cc:168] XLA service 0x442081d0 initialized for platform CUDA (this does not guarantee that XLA will be used). Devices:\n",
      "2025-02-06 13:10:42.298229: I tensorflow/compiler/xla/service/service.cc:176]   StreamExecutor device (0): NVIDIA GeForce RTX 3050, Compute Capability 8.6\n"
     ]
    }
   ],
   "source": [
    "import tensorflow as tf\n",
    "from tensorflow.keras.utils import image_dataset_from_directory\n",
    "from tensorflow.keras.callbacks import ReduceLROnPlateau,EarlyStopping\n",
    "from tensorflow.keras.optimizers import Adam\n",
    "from tensorflow.keras.losses import CategoricalCrossentropy\n",
    "from tensorflow.keras.metrics import Precision,Recall,CategoricalAccuracy\n",
    "import matplotlib.pyplot as plt\n",
    "os.environ['TF_XLA_FLAGS'] = '--tf_xla_enable_xla_devices'\n",
    "tf.config.optimizer.set_jit(True)  # Enable XLA\n",
    "gpus = tf.config.experimental.list_physical_devices('GPU')\n",
    "if gpus:\n",
    "    try:\n",
    "        for gpu in gpus:\n",
    "            tf.config.experimental.set_virtual_device_configuration(\n",
    "                gpu,\n",
    "                [tf.config.experimental.VirtualDeviceConfiguration(memory_limit=6000)]  # Limit GPU memory usage\n",
    "            )\n",
    "            print(f\"Memory limit set for GPU\")\n",
    "    except RuntimeError as e:\n",
    "        print(e)\n",
    "        \n",
    "# Before training\n",
    "print(\"\\nXLA Status Check:\")\n",
    "print(f\"XLA JIT enabled: {tf.config.optimizer.get_jit()}\")\n",
    "print(f\"XLA devices: {tf.config.list_logical_devices('XLA_GPU')}\")"
   ]
  },
  {
   "cell_type": "code",
   "execution_count": 3,
   "metadata": {},
   "outputs": [],
   "source": [
    "def plot_training_history(train_acc,val_acc,train_loss,val_loss):\n",
    "    plt.figure(figsize=(12, 6))\n",
    "    \n",
    "    plt.subplot(1, 2, 1)\n",
    "    plt.plot(train_acc, 'b-o', label='Training Accuracy')\n",
    "    plt.plot(val_acc, 'r-o', label='Validation Accuracy')\n",
    "    plt.title('Model Accuracy')\n",
    "    plt.xlabel('Epoch')\n",
    "    \n",
    "    plt.ylabel('Accuracy')\n",
    "    plt.legend()\n",
    "    \n",
    "    plt.subplot(1, 2, 2)\n",
    "    plt.plot(train_loss, 'b-o', label='Training Loss')\n",
    "    plt.plot(val_loss, 'r-o', label='Validation Loss')\n",
    "    plt.title('Model Loss')\n",
    "    plt.xlabel('Epoch')\n",
    "    plt.ylabel('Loss')\n",
    "    plt.legend()\n",
    "    \n",
    "    plt.show()"
   ]
  },
  {
   "cell_type": "code",
   "execution_count": 4,
   "metadata": {},
   "outputs": [
    {
     "name": "stdout",
     "output_type": "stream",
     "text": [
      "INFO:tensorflow:Mixed precision compatibility check (mixed_float16): OK\n",
      "Your GPU will likely run quickly with dtype policy mixed_float16 as it has compute capability of at least 7.0. Your GPU: NVIDIA GeForce RTX 3050, compute capability 8.6\n"
     ]
    },
    {
     "name": "stderr",
     "output_type": "stream",
     "text": [
      "2025-02-06 13:10:42.564870: I tensorflow/compiler/xla/stream_executor/cuda/cuda_gpu_executor.cc:880] could not open file to read NUMA node: /sys/bus/pci/devices/0000:01:00.0/numa_node\n",
      "Your kernel may have been built without NUMA support.\n"
     ]
    }
   ],
   "source": [
    "pretrained_model = tf.keras.models.load_model('models/re_trained_0.912.keras')"
   ]
  },
  {
   "cell_type": "code",
   "execution_count": 5,
   "metadata": {},
   "outputs": [],
   "source": [
    "data_dir = 'faces_data'\n",
    "autotune = tf.data.AUTOTUNE\n",
    "img_size = (128,128,3)\n",
    "batch_size = 32\n",
    "learning_rate = 0.0001\n",
    "MAX_IMAGES_USED = 1500"
   ]
  },
  {
   "cell_type": "code",
   "execution_count": 6,
   "metadata": {},
   "outputs": [],
   "source": [
    "def prepare_dataset(is_training,dataset,batch_size,shuffle_buffer=None):\n",
    "    dataset = dataset.map(\n",
    "        lambda x,y: (tf.cast(x,tf.float32)/255.0,y),\n",
    "        num_parallel_calls = autotune\n",
    "    )\n",
    "    \n",
    "    if is_training:\n",
    "#The shuffle buffer size controls how much data is loaded into memory for shuffling. \n",
    "# A smaller value will reduce memory usage and initialization time, but it might reduce shuffle quality.\n",
    "        dataset = dataset.shuffle(shuffle_buffer)\n",
    "    dataset = dataset.batch(batch_size)\n",
    "    \n",
    "    return dataset.prefetch(autotune)"
   ]
  },
  {
   "cell_type": "markdown",
   "metadata": {},
   "source": [
    "#### filtering the dataset using MAX_IMAGES_USED"
   ]
  },
  {
   "cell_type": "code",
   "execution_count": 7,
   "metadata": {},
   "outputs": [
    {
     "name": "stdout",
     "output_type": "stream",
     "text": [
      "Found 11107 files belonging to 5 classes.\n",
      "Class counts: {2: 1500, 4: 1500, 3: 1500, 0: 1500, 1: 1500}\n"
     ]
    },
    {
     "name": "stderr",
     "output_type": "stream",
     "text": [
      "2025-02-06 13:10:51.184914: W tensorflow/tsl/framework/cpu_allocator_impl.cc:83] Allocation of 1474560000 exceeds 10% of free system memory.\n"
     ]
    }
   ],
   "source": [
    "tf.keras.backend.clear_session()\n",
    "original_dataset = image_dataset_from_directory(\n",
    "    data_dir,\n",
    "    image_size=(128,128),\n",
    "    label_mode='categorical',# Ensure labels are one-hot encoded\n",
    "    batch_size= batch_size,\n",
    ")\n",
    "# Collect images and labels\n",
    "all_images = []\n",
    "all_labels = []\n",
    "class_counts = {}\n",
    "\n",
    "for images, labels in original_dataset:\n",
    "    labels_np = labels.numpy()\n",
    "    for i in range (len(images)):\n",
    "        label_int = int(tf.argmax(labels_np[i]))\n",
    "        if class_counts.get(label_int, 0) < MAX_IMAGES_USED:\n",
    "            all_images.append(images[i])\n",
    "            all_labels.append(labels_np[i])\n",
    "            class_counts[label_int] = class_counts.get(label_int, 0) + 1\n",
    "# Print class distribution\n",
    "print(\"Class counts:\", class_counts)\n",
    "# Convert to tensor dataset\n",
    "all_images = tf.stack(all_images)\n",
    "all_labels = tf.stack(all_labels)  # Ensure labels are integers\n",
    "dataset = tf.data.Dataset.from_tensor_slices((all_images, all_labels))"
   ]
  },
  {
   "cell_type": "code",
   "execution_count": 8,
   "metadata": {},
   "outputs": [
    {
     "name": "stdout",
     "output_type": "stream",
     "text": [
      "class 0 : label : angry\n",
      "\n",
      "class 1 : label : disgusted\n",
      "\n",
      "class 2 : label : happy\n",
      "\n",
      "class 3 : label : sad\n",
      "\n",
      "class 4 : label : shocked\n",
      "\n"
     ]
    }
   ],
   "source": [
    "for i,class_name in enumerate(original_dataset.class_names):\n",
    "    print(f\"class {i} : label : {class_name}\\n\")"
   ]
  },
  {
   "cell_type": "code",
   "execution_count": 9,
   "metadata": {},
   "outputs": [],
   "source": [
    "train_size = int(0.8* len(all_images))\n",
    "training_split = dataset.take(train_size)\n",
    "validation_split = dataset.skip(train_size)"
   ]
  },
  {
   "cell_type": "code",
   "execution_count": 10,
   "metadata": {},
   "outputs": [],
   "source": [
    "callbacks = [\n",
    "    EarlyStopping(monitor='val_loss',patience=20,min_delta=0.0005,restore_best_weights=True),\n",
    "    ReduceLROnPlateau(monitor=\"val_loss\",factor=0.5, patience=10,min_delta=0.001,min_lr=1e-6),\n",
    "]"
   ]
  },
  {
   "cell_type": "code",
   "execution_count": 11,
   "metadata": {},
   "outputs": [],
   "source": [
    "train_dataset = prepare_dataset(True,dataset,batch_size,2500) # Shuffle buffer size\twith 7500/3 = 2500 \n",
    "test_dataset = prepare_dataset(False,dataset,batch_size)\n",
    "validation_dataset = prepare_dataset(False,dataset,batch_size)"
   ]
  },
  {
   "cell_type": "code",
   "execution_count": 12,
   "metadata": {},
   "outputs": [],
   "source": [
    "pretrained_model.compile(\n",
    "    optimizer=Adam(learning_rate=learning_rate),\n",
    "    loss = CategoricalCrossentropy(),\n",
    "    metrics = [Precision(),Recall(),CategoricalAccuracy()]\n",
    ")"
   ]
  },
  {
   "cell_type": "code",
   "execution_count": 13,
   "metadata": {},
   "outputs": [
    {
     "name": "stderr",
     "output_type": "stream",
     "text": [
      "2025-02-06 13:10:51.851925: W tensorflow/tsl/framework/cpu_allocator_impl.cc:83] Allocation of 1474560000 exceeds 10% of free system memory.\n"
     ]
    },
    {
     "name": "stdout",
     "output_type": "stream",
     "text": [
      "Epoch 1/150\n"
     ]
    },
    {
     "name": "stderr",
     "output_type": "stream",
     "text": [
      "2025-02-06 13:10:53.587066: I tensorflow/compiler/mlir/tensorflow/utils/dump_mlir_util.cc:269] disabling MLIR crash reproducer, set env var `MLIR_CRASH_REPRODUCER_DIRECTORY` to enable.\n",
      "2025-02-06 13:10:53.671059: I tensorflow/compiler/xla/stream_executor/cuda/cuda_dnn.cc:442] Loaded cuDNN version 8600\n",
      "2025-02-06 13:10:56.428234: I ./tensorflow/compiler/jit/device_compiler.h:186] Compiled cluster using XLA!  This line is logged at most once for the lifetime of the process.\n",
      "2025-02-06 13:11:02.874953: I tensorflow/compiler/xla/stream_executor/gpu/asm_compiler.cc:328] ptxas warning : Registers are spilled to local memory in function 'triton_gemm_dot_226', 16 bytes spill stores, 16 bytes spill loads\n",
      "\n",
      "2025-02-06 13:11:02.899254: I tensorflow/compiler/xla/stream_executor/gpu/asm_compiler.cc:328] ptxas warning : Registers are spilled to local memory in function 'triton_gemm_dot_226', 8 bytes spill stores, 8 bytes spill loads\n",
      "\n"
     ]
    },
    {
     "name": "stdout",
     "output_type": "stream",
     "text": [
      "235/235 [==============================] - ETA: 0s - loss: 0.4004 - precision: 0.9410 - recall: 0.7843 - categorical_accuracy: 0.8332"
     ]
    },
    {
     "name": "stderr",
     "output_type": "stream",
     "text": [
      "2025-02-06 13:11:08.810127: W tensorflow/tsl/framework/cpu_allocator_impl.cc:83] Allocation of 1474560000 exceeds 10% of free system memory.\n"
     ]
    },
    {
     "name": "stdout",
     "output_type": "stream",
     "text": [
      "235/235 [==============================] - 20s 31ms/step - loss: 0.4004 - precision: 0.9410 - recall: 0.7843 - categorical_accuracy: 0.8332 - val_loss: 0.3056 - val_precision: 0.9669 - val_recall: 0.8341 - val_categorical_accuracy: 0.8789 - lr: 1.0000e-04\n",
      "Epoch 2/150\n",
      "233/235 [============================>.] - ETA: 0s - loss: 0.3962 - precision: 0.9449 - recall: 0.7849 - categorical_accuracy: 0.8370"
     ]
    },
    {
     "name": "stderr",
     "output_type": "stream",
     "text": [
      "2025-02-06 13:11:23.001508: I tensorflow/compiler/xla/stream_executor/gpu/asm_compiler.cc:328] ptxas warning : Registers are spilled to local memory in function 'triton_gemm_dot_226', 12 bytes spill stores, 12 bytes spill loads\n",
      "\n",
      "2025-02-06 13:11:23.033410: I tensorflow/compiler/xla/stream_executor/gpu/asm_compiler.cc:328] ptxas warning : Registers are spilled to local memory in function 'triton_gemm_dot_226', 8 bytes spill stores, 8 bytes spill loads\n",
      "\n"
     ]
    },
    {
     "name": "stdout",
     "output_type": "stream",
     "text": [
      "235/235 [==============================] - ETA: 0s - loss: 0.3970 - precision: 0.9446 - recall: 0.7845 - categorical_accuracy: 0.8368"
     ]
    },
    {
     "name": "stderr",
     "output_type": "stream",
     "text": [
      "2025-02-06 13:11:27.001805: I tensorflow/compiler/xla/stream_executor/gpu/asm_compiler.cc:328] ptxas warning : Registers are spilled to local memory in function 'triton_gemm_dot_177', 4 bytes spill stores, 4 bytes spill loads\n",
      "\n"
     ]
    },
    {
     "name": "stdout",
     "output_type": "stream",
     "text": [
      "235/235 [==============================] - 16s 69ms/step - loss: 0.3970 - precision: 0.9446 - recall: 0.7845 - categorical_accuracy: 0.8368 - val_loss: 0.3036 - val_precision: 0.9676 - val_recall: 0.8335 - val_categorical_accuracy: 0.8787 - lr: 1.0000e-04\n",
      "Epoch 3/150\n",
      "235/235 [==============================] - 3s 14ms/step - loss: 0.3944 - precision: 0.9449 - recall: 0.7824 - categorical_accuracy: 0.8376 - val_loss: 0.3023 - val_precision: 0.9677 - val_recall: 0.8356 - val_categorical_accuracy: 0.8795 - lr: 1.0000e-04\n",
      "Epoch 4/150\n",
      "235/235 [==============================] - 3s 14ms/step - loss: 0.3913 - precision: 0.9486 - recall: 0.7901 - categorical_accuracy: 0.8461 - val_loss: 0.3010 - val_precision: 0.9689 - val_recall: 0.8359 - val_categorical_accuracy: 0.8795 - lr: 1.0000e-04\n",
      "Epoch 5/150\n",
      "235/235 [==============================] - 3s 13ms/step - loss: 0.3908 - precision: 0.9494 - recall: 0.7879 - categorical_accuracy: 0.8441 - val_loss: 0.3006 - val_precision: 0.9681 - val_recall: 0.8367 - val_categorical_accuracy: 0.8801 - lr: 1.0000e-04\n",
      "Epoch 6/150\n",
      "235/235 [==============================] - 3s 13ms/step - loss: 0.3910 - precision: 0.9443 - recall: 0.7864 - categorical_accuracy: 0.8417 - val_loss: 0.2996 - val_precision: 0.9681 - val_recall: 0.8368 - val_categorical_accuracy: 0.8808 - lr: 1.0000e-04\n",
      "Epoch 7/150\n",
      "235/235 [==============================] - 3s 13ms/step - loss: 0.3879 - precision: 0.9474 - recall: 0.7883 - categorical_accuracy: 0.8413 - val_loss: 0.2995 - val_precision: 0.9688 - val_recall: 0.8368 - val_categorical_accuracy: 0.8817 - lr: 1.0000e-04\n",
      "Epoch 8/150\n",
      "235/235 [==============================] - 3s 13ms/step - loss: 0.3919 - precision: 0.9508 - recall: 0.7887 - categorical_accuracy: 0.8452 - val_loss: 0.2996 - val_precision: 0.9700 - val_recall: 0.8364 - val_categorical_accuracy: 0.8825 - lr: 1.0000e-04\n",
      "Epoch 9/150\n",
      "235/235 [==============================] - 3s 13ms/step - loss: 0.3828 - precision: 0.9535 - recall: 0.7936 - categorical_accuracy: 0.8481 - val_loss: 0.2986 - val_precision: 0.9692 - val_recall: 0.8377 - val_categorical_accuracy: 0.8825 - lr: 1.0000e-04\n",
      "Epoch 10/150\n",
      "235/235 [==============================] - 3s 13ms/step - loss: 0.3811 - precision: 0.9451 - recall: 0.7889 - categorical_accuracy: 0.8467 - val_loss: 0.2990 - val_precision: 0.9699 - val_recall: 0.8377 - val_categorical_accuracy: 0.8829 - lr: 1.0000e-04\n",
      "Epoch 11/150\n",
      "235/235 [==============================] - 3s 13ms/step - loss: 0.3834 - precision: 0.9513 - recall: 0.7920 - categorical_accuracy: 0.8456 - val_loss: 0.2970 - val_precision: 0.9687 - val_recall: 0.8384 - val_categorical_accuracy: 0.8831 - lr: 1.0000e-04\n",
      "Epoch 12/150\n",
      "235/235 [==============================] - 3s 13ms/step - loss: 0.3814 - precision: 0.9535 - recall: 0.7929 - categorical_accuracy: 0.8489 - val_loss: 0.2964 - val_precision: 0.9688 - val_recall: 0.8393 - val_categorical_accuracy: 0.8840 - lr: 1.0000e-04\n",
      "Epoch 13/150\n",
      "235/235 [==============================] - 3s 10ms/step - loss: 0.3798 - precision: 0.9495 - recall: 0.7925 - categorical_accuracy: 0.8468 - val_loss: 0.2973 - val_precision: 0.9701 - val_recall: 0.8379 - val_categorical_accuracy: 0.8828 - lr: 1.0000e-04\n",
      "Epoch 14/150\n",
      "235/235 [==============================] - 3s 13ms/step - loss: 0.3807 - precision: 0.9556 - recall: 0.7949 - categorical_accuracy: 0.8532 - val_loss: 0.2965 - val_precision: 0.9702 - val_recall: 0.8389 - val_categorical_accuracy: 0.8833 - lr: 1.0000e-04\n",
      "Epoch 15/150\n",
      "235/235 [==============================] - 2s 10ms/step - loss: 0.3791 - precision: 0.9497 - recall: 0.7933 - categorical_accuracy: 0.8460 - val_loss: 0.2967 - val_precision: 0.9699 - val_recall: 0.8372 - val_categorical_accuracy: 0.8828 - lr: 1.0000e-04\n",
      "Epoch 16/150\n",
      "235/235 [==============================] - 5s 19ms/step - loss: 0.3864 - precision: 0.9501 - recall: 0.7915 - categorical_accuracy: 0.8464 - val_loss: 0.2953 - val_precision: 0.9707 - val_recall: 0.8379 - val_categorical_accuracy: 0.8841 - lr: 1.0000e-04\n",
      "Epoch 17/150\n",
      "235/235 [==============================] - 6s 19ms/step - loss: 0.3820 - precision: 0.9486 - recall: 0.7921 - categorical_accuracy: 0.8476 - val_loss: 0.2949 - val_precision: 0.9711 - val_recall: 0.8383 - val_categorical_accuracy: 0.8843 - lr: 1.0000e-04\n",
      "Epoch 18/150\n",
      "235/235 [==============================] - 3s 12ms/step - loss: 0.3843 - precision: 0.9485 - recall: 0.7900 - categorical_accuracy: 0.8445 - val_loss: 0.2952 - val_precision: 0.9702 - val_recall: 0.8391 - val_categorical_accuracy: 0.8843 - lr: 1.0000e-04\n",
      "Epoch 19/150\n",
      "235/235 [==============================] - 3s 11ms/step - loss: 0.3790 - precision: 0.9488 - recall: 0.7957 - categorical_accuracy: 0.8524 - val_loss: 0.2998 - val_precision: 0.9691 - val_recall: 0.8400 - val_categorical_accuracy: 0.8839 - lr: 1.0000e-04\n",
      "Epoch 20/150\n",
      "235/235 [==============================] - 3s 14ms/step - loss: 0.3822 - precision: 0.9462 - recall: 0.7925 - categorical_accuracy: 0.8485 - val_loss: 0.2960 - val_precision: 0.9706 - val_recall: 0.8397 - val_categorical_accuracy: 0.8840 - lr: 1.0000e-04\n",
      "Epoch 21/150\n",
      "235/235 [==============================] - 3s 14ms/step - loss: 0.3742 - precision: 0.9519 - recall: 0.7968 - categorical_accuracy: 0.8528 - val_loss: 0.2939 - val_precision: 0.9706 - val_recall: 0.8400 - val_categorical_accuracy: 0.8849 - lr: 1.0000e-04\n",
      "Epoch 22/150\n",
      "235/235 [==============================] - 3s 14ms/step - loss: 0.3786 - precision: 0.9514 - recall: 0.7943 - categorical_accuracy: 0.8509 - val_loss: 0.2943 - val_precision: 0.9704 - val_recall: 0.8397 - val_categorical_accuracy: 0.8852 - lr: 1.0000e-04\n",
      "Epoch 23/150\n",
      "235/235 [==============================] - 3s 13ms/step - loss: 0.3757 - precision: 0.9505 - recall: 0.7961 - categorical_accuracy: 0.8524 - val_loss: 0.2927 - val_precision: 0.9697 - val_recall: 0.8407 - val_categorical_accuracy: 0.8852 - lr: 1.0000e-04\n",
      "Epoch 24/150\n",
      "235/235 [==============================] - 3s 13ms/step - loss: 0.3786 - precision: 0.9531 - recall: 0.7957 - categorical_accuracy: 0.8492 - val_loss: 0.2931 - val_precision: 0.9706 - val_recall: 0.8411 - val_categorical_accuracy: 0.8849 - lr: 1.0000e-04\n",
      "Epoch 25/150\n",
      "235/235 [==============================] - 3s 14ms/step - loss: 0.3780 - precision: 0.9495 - recall: 0.7923 - categorical_accuracy: 0.8488 - val_loss: 0.2906 - val_precision: 0.9687 - val_recall: 0.8421 - val_categorical_accuracy: 0.8856 - lr: 1.0000e-04\n",
      "Epoch 26/150\n",
      "235/235 [==============================] - 3s 14ms/step - loss: 0.3724 - precision: 0.9463 - recall: 0.7936 - categorical_accuracy: 0.8521 - val_loss: 0.2914 - val_precision: 0.9688 - val_recall: 0.8416 - val_categorical_accuracy: 0.8861 - lr: 1.0000e-04\n",
      "Epoch 27/150\n",
      "235/235 [==============================] - 3s 13ms/step - loss: 0.3740 - precision: 0.9522 - recall: 0.7961 - categorical_accuracy: 0.8516 - val_loss: 0.2914 - val_precision: 0.9700 - val_recall: 0.8412 - val_categorical_accuracy: 0.8859 - lr: 1.0000e-04\n",
      "Epoch 28/150\n",
      "235/235 [==============================] - 3s 14ms/step - loss: 0.3820 - precision: 0.9480 - recall: 0.7925 - categorical_accuracy: 0.8479 - val_loss: 0.2911 - val_precision: 0.9696 - val_recall: 0.8412 - val_categorical_accuracy: 0.8857 - lr: 1.0000e-04\n",
      "Epoch 29/150\n",
      "235/235 [==============================] - 3s 14ms/step - loss: 0.3721 - precision: 0.9551 - recall: 0.7997 - categorical_accuracy: 0.8540 - val_loss: 0.2899 - val_precision: 0.9704 - val_recall: 0.8407 - val_categorical_accuracy: 0.8868 - lr: 1.0000e-04\n",
      "Epoch 30/150\n",
      "235/235 [==============================] - 3s 14ms/step - loss: 0.3678 - precision: 0.9525 - recall: 0.7997 - categorical_accuracy: 0.8548 - val_loss: 0.2894 - val_precision: 0.9693 - val_recall: 0.8420 - val_categorical_accuracy: 0.8859 - lr: 1.0000e-04\n",
      "Epoch 31/150\n",
      "235/235 [==============================] - 3s 14ms/step - loss: 0.3713 - precision: 0.9495 - recall: 0.7967 - categorical_accuracy: 0.8507 - val_loss: 0.2887 - val_precision: 0.9687 - val_recall: 0.8428 - val_categorical_accuracy: 0.8869 - lr: 1.0000e-04\n",
      "Epoch 32/150\n",
      "235/235 [==============================] - 3s 13ms/step - loss: 0.3727 - precision: 0.9527 - recall: 0.7957 - categorical_accuracy: 0.8547 - val_loss: 0.2899 - val_precision: 0.9682 - val_recall: 0.8407 - val_categorical_accuracy: 0.8852 - lr: 1.0000e-04\n",
      "Epoch 33/150\n",
      "235/235 [==============================] - 3s 13ms/step - loss: 0.3752 - precision: 0.9531 - recall: 0.7948 - categorical_accuracy: 0.8515 - val_loss: 0.2895 - val_precision: 0.9689 - val_recall: 0.8420 - val_categorical_accuracy: 0.8856 - lr: 1.0000e-04\n",
      "Epoch 34/150\n",
      "235/235 [==============================] - 3s 13ms/step - loss: 0.3740 - precision: 0.9481 - recall: 0.7940 - categorical_accuracy: 0.8496 - val_loss: 0.2894 - val_precision: 0.9699 - val_recall: 0.8416 - val_categorical_accuracy: 0.8863 - lr: 1.0000e-04\n",
      "Epoch 35/150\n",
      "235/235 [==============================] - 3s 13ms/step - loss: 0.3713 - precision: 0.9531 - recall: 0.7965 - categorical_accuracy: 0.8508 - val_loss: 0.2890 - val_precision: 0.9694 - val_recall: 0.8415 - val_categorical_accuracy: 0.8860 - lr: 1.0000e-04\n",
      "Epoch 36/150\n",
      "235/235 [==============================] - 3s 14ms/step - loss: 0.3719 - precision: 0.9481 - recall: 0.7943 - categorical_accuracy: 0.8460 - val_loss: 0.2902 - val_precision: 0.9693 - val_recall: 0.8409 - val_categorical_accuracy: 0.8857 - lr: 1.0000e-04\n",
      "Epoch 37/150\n",
      "235/235 [==============================] - 3s 13ms/step - loss: 0.3712 - precision: 0.9520 - recall: 0.7960 - categorical_accuracy: 0.8531 - val_loss: 0.2885 - val_precision: 0.9698 - val_recall: 0.8432 - val_categorical_accuracy: 0.8873 - lr: 1.0000e-04\n",
      "Epoch 38/150\n",
      "235/235 [==============================] - 3s 13ms/step - loss: 0.3671 - precision: 0.9498 - recall: 0.7991 - categorical_accuracy: 0.8524 - val_loss: 0.2888 - val_precision: 0.9695 - val_recall: 0.8431 - val_categorical_accuracy: 0.8877 - lr: 1.0000e-04\n",
      "Epoch 39/150\n",
      "235/235 [==============================] - 3s 14ms/step - loss: 0.3695 - precision: 0.9490 - recall: 0.7996 - categorical_accuracy: 0.8508 - val_loss: 0.2881 - val_precision: 0.9695 - val_recall: 0.8433 - val_categorical_accuracy: 0.8868 - lr: 1.0000e-04\n",
      "Epoch 40/150\n",
      "235/235 [==============================] - 3s 14ms/step - loss: 0.3676 - precision: 0.9506 - recall: 0.8005 - categorical_accuracy: 0.8552 - val_loss: 0.2876 - val_precision: 0.9682 - val_recall: 0.8435 - val_categorical_accuracy: 0.8871 - lr: 1.0000e-04\n",
      "Epoch 41/150\n",
      "235/235 [==============================] - 3s 13ms/step - loss: 0.3656 - precision: 0.9531 - recall: 0.8021 - categorical_accuracy: 0.8553 - val_loss: 0.2884 - val_precision: 0.9693 - val_recall: 0.8429 - val_categorical_accuracy: 0.8869 - lr: 1.0000e-04\n",
      "Epoch 42/150\n",
      "235/235 [==============================] - 3s 13ms/step - loss: 0.3687 - precision: 0.9515 - recall: 0.7960 - categorical_accuracy: 0.8523 - val_loss: 0.2915 - val_precision: 0.9674 - val_recall: 0.8437 - val_categorical_accuracy: 0.8859 - lr: 1.0000e-04\n",
      "Epoch 43/150\n",
      "235/235 [==============================] - 3s 13ms/step - loss: 0.3775 - precision: 0.9510 - recall: 0.7977 - categorical_accuracy: 0.8516 - val_loss: 0.2872 - val_precision: 0.9690 - val_recall: 0.8423 - val_categorical_accuracy: 0.8855 - lr: 1.0000e-04\n",
      "Epoch 44/150\n",
      "235/235 [==============================] - 3s 13ms/step - loss: 0.3728 - precision: 0.9514 - recall: 0.7943 - categorical_accuracy: 0.8501 - val_loss: 0.2857 - val_precision: 0.9692 - val_recall: 0.8429 - val_categorical_accuracy: 0.8872 - lr: 1.0000e-04\n",
      "Epoch 45/150\n",
      "235/235 [==============================] - 3s 13ms/step - loss: 0.3721 - precision: 0.9519 - recall: 0.7972 - categorical_accuracy: 0.8519 - val_loss: 0.2858 - val_precision: 0.9693 - val_recall: 0.8429 - val_categorical_accuracy: 0.8873 - lr: 1.0000e-04\n",
      "Epoch 46/150\n",
      "235/235 [==============================] - 3s 14ms/step - loss: 0.3693 - precision: 0.9530 - recall: 0.8008 - categorical_accuracy: 0.8531 - val_loss: 0.2856 - val_precision: 0.9684 - val_recall: 0.8427 - val_categorical_accuracy: 0.8872 - lr: 1.0000e-04\n",
      "Epoch 47/150\n",
      "235/235 [==============================] - 3s 14ms/step - loss: 0.3618 - precision: 0.9502 - recall: 0.8017 - categorical_accuracy: 0.8537 - val_loss: 0.2859 - val_precision: 0.9689 - val_recall: 0.8427 - val_categorical_accuracy: 0.8873 - lr: 1.0000e-04\n",
      "Epoch 48/150\n",
      "235/235 [==============================] - 3s 13ms/step - loss: 0.3672 - precision: 0.9530 - recall: 0.8004 - categorical_accuracy: 0.8584 - val_loss: 0.2855 - val_precision: 0.9698 - val_recall: 0.8425 - val_categorical_accuracy: 0.8876 - lr: 1.0000e-04\n",
      "Epoch 49/150\n",
      "235/235 [==============================] - 3s 13ms/step - loss: 0.3684 - precision: 0.9494 - recall: 0.7976 - categorical_accuracy: 0.8520 - val_loss: 0.2853 - val_precision: 0.9696 - val_recall: 0.8427 - val_categorical_accuracy: 0.8881 - lr: 1.0000e-04\n",
      "Epoch 50/150\n",
      "235/235 [==============================] - 3s 13ms/step - loss: 0.3688 - precision: 0.9523 - recall: 0.7988 - categorical_accuracy: 0.8529 - val_loss: 0.2857 - val_precision: 0.9691 - val_recall: 0.8443 - val_categorical_accuracy: 0.8879 - lr: 1.0000e-04\n",
      "Epoch 51/150\n",
      "235/235 [==============================] - 3s 13ms/step - loss: 0.3712 - precision: 0.9504 - recall: 0.8000 - categorical_accuracy: 0.8493 - val_loss: 0.2858 - val_precision: 0.9694 - val_recall: 0.8436 - val_categorical_accuracy: 0.8875 - lr: 1.0000e-04\n",
      "Epoch 52/150\n",
      "235/235 [==============================] - 3s 13ms/step - loss: 0.3639 - precision: 0.9539 - recall: 0.8025 - categorical_accuracy: 0.8555 - val_loss: 0.2850 - val_precision: 0.9695 - val_recall: 0.8439 - val_categorical_accuracy: 0.8876 - lr: 1.0000e-04\n",
      "Epoch 53/150\n",
      "235/235 [==============================] - 3s 13ms/step - loss: 0.3668 - precision: 0.9512 - recall: 0.7999 - categorical_accuracy: 0.8527 - val_loss: 0.2841 - val_precision: 0.9696 - val_recall: 0.8433 - val_categorical_accuracy: 0.8876 - lr: 1.0000e-04\n",
      "Epoch 54/150\n",
      "235/235 [==============================] - 3s 13ms/step - loss: 0.3680 - precision: 0.9522 - recall: 0.8000 - categorical_accuracy: 0.8527 - val_loss: 0.2873 - val_precision: 0.9666 - val_recall: 0.8449 - val_categorical_accuracy: 0.8879 - lr: 1.0000e-04\n",
      "Epoch 55/150\n",
      "235/235 [==============================] - 3s 14ms/step - loss: 0.3693 - precision: 0.9512 - recall: 0.7987 - categorical_accuracy: 0.8559 - val_loss: 0.2863 - val_precision: 0.9680 - val_recall: 0.8437 - val_categorical_accuracy: 0.8877 - lr: 1.0000e-04\n",
      "Epoch 56/150\n",
      "235/235 [==============================] - 3s 14ms/step - loss: 0.3658 - precision: 0.9532 - recall: 0.8012 - categorical_accuracy: 0.8551 - val_loss: 0.2855 - val_precision: 0.9698 - val_recall: 0.8425 - val_categorical_accuracy: 0.8875 - lr: 1.0000e-04\n",
      "Epoch 57/150\n",
      "235/235 [==============================] - 3s 14ms/step - loss: 0.3593 - precision: 0.9545 - recall: 0.8048 - categorical_accuracy: 0.8583 - val_loss: 0.2848 - val_precision: 0.9680 - val_recall: 0.8432 - val_categorical_accuracy: 0.8871 - lr: 1.0000e-04\n",
      "Epoch 58/150\n",
      "235/235 [==============================] - 3s 14ms/step - loss: 0.3637 - precision: 0.9534 - recall: 0.8025 - categorical_accuracy: 0.8573 - val_loss: 0.2821 - val_precision: 0.9688 - val_recall: 0.8441 - val_categorical_accuracy: 0.8883 - lr: 1.0000e-04\n",
      "Epoch 59/150\n",
      "235/235 [==============================] - 3s 14ms/step - loss: 0.3665 - precision: 0.9516 - recall: 0.8001 - categorical_accuracy: 0.8520 - val_loss: 0.2836 - val_precision: 0.9692 - val_recall: 0.8441 - val_categorical_accuracy: 0.8885 - lr: 1.0000e-04\n",
      "Epoch 60/150\n",
      "235/235 [==============================] - 3s 13ms/step - loss: 0.3624 - precision: 0.9495 - recall: 0.8029 - categorical_accuracy: 0.8568 - val_loss: 0.2821 - val_precision: 0.9687 - val_recall: 0.8447 - val_categorical_accuracy: 0.8883 - lr: 1.0000e-04\n",
      "Epoch 61/150\n",
      "235/235 [==============================] - 3s 13ms/step - loss: 0.3631 - precision: 0.9506 - recall: 0.8005 - categorical_accuracy: 0.8552 - val_loss: 0.2837 - val_precision: 0.9668 - val_recall: 0.8465 - val_categorical_accuracy: 0.8879 - lr: 1.0000e-04\n",
      "Epoch 62/150\n",
      "235/235 [==============================] - 3s 14ms/step - loss: 0.3617 - precision: 0.9493 - recall: 0.8007 - categorical_accuracy: 0.8560 - val_loss: 0.2848 - val_precision: 0.9680 - val_recall: 0.8436 - val_categorical_accuracy: 0.8873 - lr: 1.0000e-04\n",
      "Epoch 63/150\n",
      "235/235 [==============================] - 3s 13ms/step - loss: 0.3643 - precision: 0.9514 - recall: 0.8020 - categorical_accuracy: 0.8559 - val_loss: 0.2817 - val_precision: 0.9678 - val_recall: 0.8459 - val_categorical_accuracy: 0.8881 - lr: 1.0000e-04\n",
      "Epoch 64/150\n",
      "235/235 [==============================] - 4s 14ms/step - loss: 0.3696 - precision: 0.9556 - recall: 0.8000 - categorical_accuracy: 0.8595 - val_loss: 0.2812 - val_precision: 0.9681 - val_recall: 0.8461 - val_categorical_accuracy: 0.8888 - lr: 1.0000e-04\n",
      "Epoch 65/150\n",
      "235/235 [==============================] - 3s 14ms/step - loss: 0.3597 - precision: 0.9574 - recall: 0.8039 - categorical_accuracy: 0.8555 - val_loss: 0.2823 - val_precision: 0.9684 - val_recall: 0.8449 - val_categorical_accuracy: 0.8887 - lr: 1.0000e-04\n",
      "Epoch 66/150\n",
      "235/235 [==============================] - 3s 14ms/step - loss: 0.3590 - precision: 0.9518 - recall: 0.8051 - categorical_accuracy: 0.8580 - val_loss: 0.2830 - val_precision: 0.9683 - val_recall: 0.8441 - val_categorical_accuracy: 0.8881 - lr: 1.0000e-04\n",
      "Epoch 67/150\n",
      "235/235 [==============================] - 4s 16ms/step - loss: 0.3591 - precision: 0.9523 - recall: 0.8032 - categorical_accuracy: 0.8545 - val_loss: 0.2819 - val_precision: 0.9687 - val_recall: 0.8448 - val_categorical_accuracy: 0.8879 - lr: 1.0000e-04\n",
      "Epoch 68/150\n",
      "235/235 [==============================] - 3s 13ms/step - loss: 0.3625 - precision: 0.9516 - recall: 0.8016 - categorical_accuracy: 0.8573 - val_loss: 0.2836 - val_precision: 0.9688 - val_recall: 0.8447 - val_categorical_accuracy: 0.8885 - lr: 1.0000e-04\n",
      "Epoch 69/150\n",
      "235/235 [==============================] - 3s 13ms/step - loss: 0.3588 - precision: 0.9502 - recall: 0.8035 - categorical_accuracy: 0.8555 - val_loss: 0.2809 - val_precision: 0.9683 - val_recall: 0.8461 - val_categorical_accuracy: 0.8889 - lr: 5.0000e-05\n",
      "Epoch 70/150\n",
      "235/235 [==============================] - 3s 13ms/step - loss: 0.3529 - precision: 0.9531 - recall: 0.8075 - categorical_accuracy: 0.8605 - val_loss: 0.2802 - val_precision: 0.9683 - val_recall: 0.8464 - val_categorical_accuracy: 0.8887 - lr: 5.0000e-05\n",
      "Epoch 71/150\n",
      "235/235 [==============================] - 3s 13ms/step - loss: 0.3598 - precision: 0.9544 - recall: 0.8003 - categorical_accuracy: 0.8583 - val_loss: 0.2799 - val_precision: 0.9687 - val_recall: 0.8453 - val_categorical_accuracy: 0.8885 - lr: 5.0000e-05\n",
      "Epoch 72/150\n",
      "235/235 [==============================] - 3s 14ms/step - loss: 0.3576 - precision: 0.9544 - recall: 0.8032 - categorical_accuracy: 0.8559 - val_loss: 0.2786 - val_precision: 0.9683 - val_recall: 0.8469 - val_categorical_accuracy: 0.8896 - lr: 5.0000e-05\n",
      "Epoch 73/150\n",
      "235/235 [==============================] - 3s 14ms/step - loss: 0.3552 - precision: 0.9525 - recall: 0.8052 - categorical_accuracy: 0.8567 - val_loss: 0.2797 - val_precision: 0.9687 - val_recall: 0.8460 - val_categorical_accuracy: 0.8895 - lr: 5.0000e-05\n",
      "Epoch 74/150\n",
      "235/235 [==============================] - 3s 14ms/step - loss: 0.3539 - precision: 0.9519 - recall: 0.8051 - categorical_accuracy: 0.8572 - val_loss: 0.2781 - val_precision: 0.9686 - val_recall: 0.8463 - val_categorical_accuracy: 0.8893 - lr: 5.0000e-05\n",
      "Epoch 75/150\n",
      "235/235 [==============================] - 3s 14ms/step - loss: 0.3530 - precision: 0.9508 - recall: 0.8047 - categorical_accuracy: 0.8604 - val_loss: 0.2801 - val_precision: 0.9697 - val_recall: 0.8447 - val_categorical_accuracy: 0.8892 - lr: 5.0000e-05\n",
      "Epoch 76/150\n",
      "235/235 [==============================] - 3s 14ms/step - loss: 0.3548 - precision: 0.9536 - recall: 0.8064 - categorical_accuracy: 0.8564 - val_loss: 0.2789 - val_precision: 0.9674 - val_recall: 0.8471 - val_categorical_accuracy: 0.8893 - lr: 5.0000e-05\n",
      "Epoch 77/150\n",
      "235/235 [==============================] - 3s 13ms/step - loss: 0.3499 - precision: 0.9561 - recall: 0.8095 - categorical_accuracy: 0.8600 - val_loss: 0.2783 - val_precision: 0.9680 - val_recall: 0.8471 - val_categorical_accuracy: 0.8901 - lr: 5.0000e-05\n",
      "Epoch 78/150\n",
      "235/235 [==============================] - 3s 12ms/step - loss: 0.3521 - precision: 0.9488 - recall: 0.8057 - categorical_accuracy: 0.8576 - val_loss: 0.2782 - val_precision: 0.9680 - val_recall: 0.8473 - val_categorical_accuracy: 0.8895 - lr: 5.0000e-05\n",
      "Epoch 79/150\n",
      "235/235 [==============================] - 3s 13ms/step - loss: 0.3553 - precision: 0.9520 - recall: 0.8071 - categorical_accuracy: 0.8617 - val_loss: 0.2790 - val_precision: 0.9689 - val_recall: 0.8469 - val_categorical_accuracy: 0.8900 - lr: 5.0000e-05\n",
      "Epoch 80/150\n",
      "235/235 [==============================] - 3s 13ms/step - loss: 0.3561 - precision: 0.9500 - recall: 0.8011 - categorical_accuracy: 0.8572 - val_loss: 0.2777 - val_precision: 0.9677 - val_recall: 0.8473 - val_categorical_accuracy: 0.8900 - lr: 5.0000e-05\n",
      "Epoch 81/150\n",
      "235/235 [==============================] - 3s 14ms/step - loss: 0.3494 - precision: 0.9553 - recall: 0.8095 - categorical_accuracy: 0.8587 - val_loss: 0.2780 - val_precision: 0.9677 - val_recall: 0.8468 - val_categorical_accuracy: 0.8899 - lr: 5.0000e-05\n",
      "Epoch 82/150\n",
      "235/235 [==============================] - 3s 13ms/step - loss: 0.3484 - precision: 0.9500 - recall: 0.8064 - categorical_accuracy: 0.8569 - val_loss: 0.2780 - val_precision: 0.9681 - val_recall: 0.8469 - val_categorical_accuracy: 0.8899 - lr: 5.0000e-05\n",
      "Epoch 83/150\n",
      "235/235 [==============================] - 3s 14ms/step - loss: 0.3442 - precision: 0.9579 - recall: 0.8121 - categorical_accuracy: 0.8657 - val_loss: 0.2776 - val_precision: 0.9687 - val_recall: 0.8468 - val_categorical_accuracy: 0.8900 - lr: 2.5000e-05\n",
      "Epoch 84/150\n",
      "235/235 [==============================] - 3s 14ms/step - loss: 0.3484 - precision: 0.9518 - recall: 0.8079 - categorical_accuracy: 0.8588 - val_loss: 0.2770 - val_precision: 0.9687 - val_recall: 0.8467 - val_categorical_accuracy: 0.8899 - lr: 2.5000e-05\n",
      "Epoch 85/150\n",
      "235/235 [==============================] - 3s 14ms/step - loss: 0.3527 - precision: 0.9527 - recall: 0.8076 - categorical_accuracy: 0.8585 - val_loss: 0.2772 - val_precision: 0.9684 - val_recall: 0.8471 - val_categorical_accuracy: 0.8897 - lr: 2.5000e-05\n",
      "Epoch 86/150\n",
      "235/235 [==============================] - 3s 14ms/step - loss: 0.3532 - precision: 0.9544 - recall: 0.8056 - categorical_accuracy: 0.8592 - val_loss: 0.2773 - val_precision: 0.9683 - val_recall: 0.8469 - val_categorical_accuracy: 0.8900 - lr: 2.5000e-05\n",
      "Epoch 87/150\n",
      "235/235 [==============================] - 3s 12ms/step - loss: 0.3459 - precision: 0.9525 - recall: 0.8068 - categorical_accuracy: 0.8599 - val_loss: 0.2770 - val_precision: 0.9686 - val_recall: 0.8468 - val_categorical_accuracy: 0.8904 - lr: 2.5000e-05\n",
      "Epoch 88/150\n",
      "235/235 [==============================] - 3s 14ms/step - loss: 0.3509 - precision: 0.9517 - recall: 0.8072 - categorical_accuracy: 0.8572 - val_loss: 0.2766 - val_precision: 0.9682 - val_recall: 0.8472 - val_categorical_accuracy: 0.8900 - lr: 2.5000e-05\n",
      "Epoch 89/150\n",
      "235/235 [==============================] - 3s 13ms/step - loss: 0.3413 - precision: 0.9558 - recall: 0.8125 - categorical_accuracy: 0.8631 - val_loss: 0.2762 - val_precision: 0.9680 - val_recall: 0.8476 - val_categorical_accuracy: 0.8901 - lr: 2.5000e-05\n",
      "Epoch 90/150\n",
      "235/235 [==============================] - 3s 13ms/step - loss: 0.3533 - precision: 0.9515 - recall: 0.8048 - categorical_accuracy: 0.8552 - val_loss: 0.2769 - val_precision: 0.9686 - val_recall: 0.8467 - val_categorical_accuracy: 0.8900 - lr: 2.5000e-05\n",
      "Epoch 91/150\n",
      "235/235 [==============================] - 3s 13ms/step - loss: 0.3486 - precision: 0.9535 - recall: 0.8072 - categorical_accuracy: 0.8589 - val_loss: 0.2768 - val_precision: 0.9686 - val_recall: 0.8469 - val_categorical_accuracy: 0.8899 - lr: 2.5000e-05\n",
      "Epoch 92/150\n",
      "235/235 [==============================] - 3s 14ms/step - loss: 0.3455 - precision: 0.9564 - recall: 0.8101 - categorical_accuracy: 0.8617 - val_loss: 0.2771 - val_precision: 0.9689 - val_recall: 0.8464 - val_categorical_accuracy: 0.8896 - lr: 2.5000e-05\n",
      "Epoch 93/150\n",
      "235/235 [==============================] - 3s 14ms/step - loss: 0.3455 - precision: 0.9546 - recall: 0.8104 - categorical_accuracy: 0.8619 - val_loss: 0.2766 - val_precision: 0.9682 - val_recall: 0.8472 - val_categorical_accuracy: 0.8903 - lr: 2.5000e-05\n",
      "Epoch 94/150\n",
      "235/235 [==============================] - 3s 13ms/step - loss: 0.3427 - precision: 0.9557 - recall: 0.8080 - categorical_accuracy: 0.8605 - val_loss: 0.2767 - val_precision: 0.9683 - val_recall: 0.8467 - val_categorical_accuracy: 0.8895 - lr: 2.5000e-05\n",
      "Epoch 95/150\n",
      "235/235 [==============================] - 3s 14ms/step - loss: 0.3463 - precision: 0.9545 - recall: 0.8088 - categorical_accuracy: 0.8623 - val_loss: 0.2765 - val_precision: 0.9681 - val_recall: 0.8469 - val_categorical_accuracy: 0.8899 - lr: 2.5000e-05\n",
      "Epoch 96/150\n",
      "235/235 [==============================] - 3s 13ms/step - loss: 0.3518 - precision: 0.9536 - recall: 0.8051 - categorical_accuracy: 0.8551 - val_loss: 0.2768 - val_precision: 0.9681 - val_recall: 0.8471 - val_categorical_accuracy: 0.8897 - lr: 2.5000e-05\n",
      "Epoch 97/150\n",
      "235/235 [==============================] - 3s 14ms/step - loss: 0.3502 - precision: 0.9528 - recall: 0.8049 - categorical_accuracy: 0.8564 - val_loss: 0.2765 - val_precision: 0.9682 - val_recall: 0.8472 - val_categorical_accuracy: 0.8903 - lr: 2.5000e-05\n",
      "Epoch 98/150\n",
      "235/235 [==============================] - 3s 14ms/step - loss: 0.3423 - precision: 0.9573 - recall: 0.8121 - categorical_accuracy: 0.8624 - val_loss: 0.2760 - val_precision: 0.9689 - val_recall: 0.8464 - val_categorical_accuracy: 0.8900 - lr: 2.5000e-05\n",
      "Epoch 99/150\n",
      "235/235 [==============================] - 3s 14ms/step - loss: 0.3482 - precision: 0.9531 - recall: 0.8075 - categorical_accuracy: 0.8611 - val_loss: 0.2764 - val_precision: 0.9687 - val_recall: 0.8465 - val_categorical_accuracy: 0.8897 - lr: 2.5000e-05\n",
      "Epoch 100/150\n",
      "235/235 [==============================] - 3s 14ms/step - loss: 0.3464 - precision: 0.9512 - recall: 0.8085 - categorical_accuracy: 0.8611 - val_loss: 0.2762 - val_precision: 0.9683 - val_recall: 0.8472 - val_categorical_accuracy: 0.8899 - lr: 1.2500e-05\n",
      "Epoch 101/150\n",
      "235/235 [==============================] - 3s 14ms/step - loss: 0.3484 - precision: 0.9529 - recall: 0.8071 - categorical_accuracy: 0.8609 - val_loss: 0.2761 - val_precision: 0.9679 - val_recall: 0.8473 - val_categorical_accuracy: 0.8895 - lr: 1.2500e-05\n",
      "Epoch 102/150\n",
      "235/235 [==============================] - 4s 15ms/step - loss: 0.3459 - precision: 0.9559 - recall: 0.8089 - categorical_accuracy: 0.8613 - val_loss: 0.2758 - val_precision: 0.9677 - val_recall: 0.8475 - val_categorical_accuracy: 0.8899 - lr: 1.2500e-05\n",
      "Epoch 103/150\n",
      "235/235 [==============================] - 4s 15ms/step - loss: 0.3441 - precision: 0.9547 - recall: 0.8099 - categorical_accuracy: 0.8628 - val_loss: 0.2759 - val_precision: 0.9674 - val_recall: 0.8475 - val_categorical_accuracy: 0.8896 - lr: 1.2500e-05\n",
      "Epoch 104/150\n",
      "235/235 [==============================] - 4s 15ms/step - loss: 0.3504 - precision: 0.9528 - recall: 0.8055 - categorical_accuracy: 0.8584 - val_loss: 0.2756 - val_precision: 0.9674 - val_recall: 0.8479 - val_categorical_accuracy: 0.8905 - lr: 1.2500e-05\n",
      "Epoch 105/150\n",
      "235/235 [==============================] - 3s 14ms/step - loss: 0.3491 - precision: 0.9562 - recall: 0.8084 - categorical_accuracy: 0.8604 - val_loss: 0.2759 - val_precision: 0.9671 - val_recall: 0.8476 - val_categorical_accuracy: 0.8903 - lr: 1.2500e-05\n",
      "Epoch 106/150\n",
      "235/235 [==============================] - 3s 14ms/step - loss: 0.3470 - precision: 0.9532 - recall: 0.8091 - categorical_accuracy: 0.8629 - val_loss: 0.2759 - val_precision: 0.9679 - val_recall: 0.8473 - val_categorical_accuracy: 0.8900 - lr: 1.2500e-05\n",
      "Epoch 107/150\n",
      "235/235 [==============================] - 3s 14ms/step - loss: 0.3477 - precision: 0.9548 - recall: 0.8087 - categorical_accuracy: 0.8596 - val_loss: 0.2755 - val_precision: 0.9671 - val_recall: 0.8477 - val_categorical_accuracy: 0.8900 - lr: 1.2500e-05\n",
      "Epoch 108/150\n",
      "235/235 [==============================] - 3s 14ms/step - loss: 0.3504 - precision: 0.9522 - recall: 0.8068 - categorical_accuracy: 0.8577 - val_loss: 0.2758 - val_precision: 0.9672 - val_recall: 0.8480 - val_categorical_accuracy: 0.8900 - lr: 1.2500e-05\n",
      "Epoch 109/150\n",
      "235/235 [==============================] - 3s 14ms/step - loss: 0.3498 - precision: 0.9535 - recall: 0.8060 - categorical_accuracy: 0.8596 - val_loss: 0.2758 - val_precision: 0.9674 - val_recall: 0.8476 - val_categorical_accuracy: 0.8901 - lr: 1.2500e-05\n",
      "Epoch 110/150\n",
      "235/235 [==============================] - 4s 15ms/step - loss: 0.3411 - precision: 0.9542 - recall: 0.8108 - categorical_accuracy: 0.8601 - val_loss: 0.2755 - val_precision: 0.9674 - val_recall: 0.8476 - val_categorical_accuracy: 0.8900 - lr: 6.2500e-06\n",
      "Epoch 111/150\n",
      "235/235 [==============================] - 3s 14ms/step - loss: 0.3440 - precision: 0.9573 - recall: 0.8132 - categorical_accuracy: 0.8645 - val_loss: 0.2756 - val_precision: 0.9674 - val_recall: 0.8476 - val_categorical_accuracy: 0.8900 - lr: 6.2500e-06\n",
      "Epoch 112/150\n",
      "235/235 [==============================] - 3s 14ms/step - loss: 0.3436 - precision: 0.9572 - recall: 0.8103 - categorical_accuracy: 0.8647 - val_loss: 0.2754 - val_precision: 0.9677 - val_recall: 0.8472 - val_categorical_accuracy: 0.8900 - lr: 6.2500e-06\n",
      "Epoch 113/150\n",
      "235/235 [==============================] - 3s 14ms/step - loss: 0.3501 - precision: 0.9502 - recall: 0.8061 - categorical_accuracy: 0.8583 - val_loss: 0.2758 - val_precision: 0.9677 - val_recall: 0.8473 - val_categorical_accuracy: 0.8899 - lr: 6.2500e-06\n",
      "Epoch 114/150\n",
      "235/235 [==============================] - 3s 14ms/step - loss: 0.3475 - precision: 0.9545 - recall: 0.8076 - categorical_accuracy: 0.8608 - val_loss: 0.2757 - val_precision: 0.9677 - val_recall: 0.8475 - val_categorical_accuracy: 0.8897 - lr: 6.2500e-06\n",
      "Epoch 115/150\n",
      "235/235 [==============================] - 3s 14ms/step - loss: 0.3448 - precision: 0.9540 - recall: 0.8080 - categorical_accuracy: 0.8616 - val_loss: 0.2756 - val_precision: 0.9676 - val_recall: 0.8477 - val_categorical_accuracy: 0.8899 - lr: 6.2500e-06\n",
      "Epoch 116/150\n",
      "235/235 [==============================] - 3s 14ms/step - loss: 0.3452 - precision: 0.9543 - recall: 0.8097 - categorical_accuracy: 0.8627 - val_loss: 0.2756 - val_precision: 0.9676 - val_recall: 0.8476 - val_categorical_accuracy: 0.8899 - lr: 6.2500e-06\n",
      "Epoch 117/150\n",
      "235/235 [==============================] - 3s 14ms/step - loss: 0.3419 - precision: 0.9567 - recall: 0.8135 - categorical_accuracy: 0.8664 - val_loss: 0.2754 - val_precision: 0.9676 - val_recall: 0.8477 - val_categorical_accuracy: 0.8900 - lr: 6.2500e-06\n",
      "Epoch 118/150\n",
      "235/235 [==============================] - 3s 14ms/step - loss: 0.3460 - precision: 0.9540 - recall: 0.8069 - categorical_accuracy: 0.8609 - val_loss: 0.2753 - val_precision: 0.9677 - val_recall: 0.8476 - val_categorical_accuracy: 0.8901 - lr: 6.2500e-06\n",
      "Epoch 119/150\n",
      "235/235 [==============================] - 3s 14ms/step - loss: 0.3408 - precision: 0.9574 - recall: 0.8124 - categorical_accuracy: 0.8651 - val_loss: 0.2753 - val_precision: 0.9674 - val_recall: 0.8479 - val_categorical_accuracy: 0.8903 - lr: 6.2500e-06\n",
      "Epoch 120/150\n",
      "235/235 [==============================] - 3s 14ms/step - loss: 0.3430 - precision: 0.9544 - recall: 0.8119 - categorical_accuracy: 0.8625 - val_loss: 0.2752 - val_precision: 0.9674 - val_recall: 0.8479 - val_categorical_accuracy: 0.8903 - lr: 3.1250e-06\n",
      "Epoch 121/150\n",
      "235/235 [==============================] - 3s 14ms/step - loss: 0.3439 - precision: 0.9558 - recall: 0.8109 - categorical_accuracy: 0.8635 - val_loss: 0.2753 - val_precision: 0.9677 - val_recall: 0.8477 - val_categorical_accuracy: 0.8903 - lr: 3.1250e-06\n",
      "Epoch 122/150\n",
      "235/235 [==============================] - 3s 13ms/step - loss: 0.3412 - precision: 0.9541 - recall: 0.8093 - categorical_accuracy: 0.8665 - val_loss: 0.2752 - val_precision: 0.9679 - val_recall: 0.8476 - val_categorical_accuracy: 0.8903 - lr: 3.1250e-06\n",
      "Epoch 123/150\n",
      "235/235 [==============================] - 3s 14ms/step - loss: 0.3457 - precision: 0.9528 - recall: 0.8067 - categorical_accuracy: 0.8580 - val_loss: 0.2752 - val_precision: 0.9676 - val_recall: 0.8477 - val_categorical_accuracy: 0.8903 - lr: 3.1250e-06\n",
      "Epoch 124/150\n",
      "235/235 [==============================] - 3s 14ms/step - loss: 0.3464 - precision: 0.9527 - recall: 0.8089 - categorical_accuracy: 0.8613 - val_loss: 0.2752 - val_precision: 0.9679 - val_recall: 0.8473 - val_categorical_accuracy: 0.8904 - lr: 3.1250e-06\n"
     ]
    }
   ],
   "source": [
    "training_history = pretrained_model.fit(\n",
    "    train_dataset,\n",
    "    epochs=150,\n",
    "    callbacks= callbacks,\n",
    "    validation_data=validation_dataset,\n",
    "    verbose=1\n",
    ")"
   ]
  },
  {
   "cell_type": "code",
   "execution_count": 14,
   "metadata": {},
   "outputs": [
    {
     "name": "stdout",
     "output_type": "stream",
     "text": [
      "Training Accuracy: 0.86, Validation Accuracy: 0.89\n",
      "Training Precision: 0.95, Validation Precision: 0.97\n",
      "Training Recall: 0.81, Validation Recall: 0.85\n",
      "Training Loss: 0.35, Validation Loss: 0.28\n"
     ]
    }
   ],
   "source": [
    "train_accuracy = training_history.history['categorical_accuracy'][-1]  # Last epoch's training accuracy\n",
    "val_accuracy = training_history.history['val_categorical_accuracy'][-1]  # Last epoch's validation accuracy\n",
    "\n",
    "# If Precision and Recall are included in the metrics\n",
    "train_precision = training_history.history['precision'][-1]\n",
    "val_precision = training_history.history['val_precision'][-1]\n",
    "\n",
    "train_recall = training_history.history['recall'][-1]\n",
    "val_recall = training_history.history['val_recall'][-1]\n",
    "\n",
    "train_loss = training_history.history['loss'][-1]\n",
    "val_loss = training_history.history['val_loss'][-1]\n",
    "\n",
    "# Print the results\n",
    "print(f\"Training Accuracy: {train_accuracy:.2f}, Validation Accuracy: {val_accuracy:.2f}\")\n",
    "print(f\"Training Precision: {train_precision:.2f}, Validation Precision: {val_precision:.2f}\")\n",
    "print(f\"Training Recall: {train_recall:.2f}, Validation Recall: {val_recall:.2f}\")\n",
    "print(f\"Training Loss: {train_loss:.2f}, Validation Loss: {val_loss:.2f}\")"
   ]
  },
  {
   "cell_type": "code",
   "execution_count": 15,
   "metadata": {},
   "outputs": [
    {
     "data": {
      "image/png": "[encoded data removed]",
      "text/plain": [
       "<Figure size 1200x600 with 2 Axes>"
      ]
     },
     "metadata": {},
     "output_type": "display_data"
    }
   ],
   "source": [
    "plot_training_history(\n",
    "    training_history.history['categorical_accuracy'],\n",
    "    training_history.history['val_categorical_accuracy'],\n",
    "    training_history.history['loss'],\n",
    "    training_history.history['val_loss']\n",
    "                      )"
   ]
  },
  {
   "cell_type": "code",
   "execution_count": 16,
   "metadata": {},
   "outputs": [
    {
     "name": "stderr",
     "output_type": "stream",
     "text": [
      "2025-02-06 13:18:13.562264: W tensorflow/tsl/framework/cpu_allocator_impl.cc:83] Allocation of 1474560000 exceeds 10% of free system memory.\n"
     ]
    },
    {
     "name": "stdout",
     "output_type": "stream",
     "text": [
      "235/235 [==============================] - 2s 5ms/step - loss: 0.2756 - precision: 0.9674 - recall: 0.8479 - categorical_accuracy: 0.8905\n",
      "{'loss': 0.2755949795246124, 'precision': 0.9674425721168518, 'recall': 0.8478666543960571, 'categorical_accuracy': 0.8905333280563354}\n"
     ]
    }
   ],
   "source": [
    "results = pretrained_model.evaluate(test_dataset)\n",
    "metric_names = pretrained_model.metrics_names  # Get metric names\n",
    "results_dict = dict(zip(metric_names, results))  # Create a dictionary\n",
    "\n",
    "print(results_dict)\n",
    "#print(f\"\\nFinal Test Accuracy: {test_accuracy:.4f},Final Test Loss: {test_loss:.4f}\")"
   ]
  },
  {
   "cell_type": "markdown",
   "metadata": {},
   "source": [
    "# Model Performance Results\n",
    "\n",
    "## Initial Model (Old)\n",
    "- **Validation Metrics**\n",
    "    - Accuracy: 0.9397\n",
    "    - Loss: 0.1974\n",
    "- **Training Metrics**\n",
    "    - Accuracy: 0.8877\n",
    "    - Loss: 0.2755\n",
    "- **Final Test Results**\n",
    "    - Accuracy: 0.9246\n",
    "    - Loss: 0.2040\n",
    "\n",
    "---\n",
    "\n",
    "## Pretrained Model Retraining\n",
    "- **Validation Metrics**\n",
    "    - Accuracy: 0.87\n",
    "    - Loss: 0.31\n",
    "- **Training Metrics**\n",
    "    - Accuracy: 0.84\n",
    "    - Loss: 0.39\n",
    "- **Test Results**\n",
    "    - Loss: 0.3069\n",
    "    - Precision: 0.9663\n",
    "    - Recall: 0.8305\n",
    "    - Categorical Accuracy: 0.8741\n",
    "\n",
    "---\n",
    "\n",
    "## Results (05/02/2025)\n",
    "- **Training Metrics**\n",
    "    - Accuracy: 0.87\n",
    "    - Precision: 0.94\n",
    "    - Recall: 0.83\n",
    "    - Loss: 0.35\n",
    "- **Validation Metrics**\n",
    "    - Accuracy: 0.92\n",
    "    - Precision: 0.97\n",
    "    - Recall: 0.89\n",
    "    - Loss: 0.24\n",
    "- **Test Results**\n",
    "    - Loss: 0.2391\n",
    "    - Precision: 0.9656\n",
    "    - Recall: 0.8924\n",
    "    - Categorical Accuracy: 0.9234\n",
    "\n",
    "## Latest Results (06/02/2025)\n",
    "- **Training Metrics**\n",
    "    - Accuracy: 0.85\n",
    "    - Precision: 0.94\n",
    "    - Recall: 0.81\n",
    "    - Loss: 0.36\n",
    "- **Validation Metrics**\n",
    "    - Accuracy: 0.90\n",
    "    - Precision: 0.96\n",
    "    - Recall: 0.86\n",
    "    - Loss: 0.27\n",
    "- **Test Results**\n",
    "    - Loss: 0.27121\n",
    "    - Precision: 0.96334\n",
    "    - Recall: 0.8621\n",
    "    - Categorical Accuracy: 0.89933"
   ]
  },
  {
   "cell_type": "code",
   "execution_count": 17,
   "metadata": {},
   "outputs": [],
   "source": [
    "from datetime import datetime\n",
    "timestamp = datetime.now().strftime(\"%d_%m_%Y_%HH_%M\")"
   ]
  },
  {
   "cell_type": "code",
   "execution_count": 18,
   "metadata": {},
   "outputs": [
    {
     "name": "stdout",
     "output_type": "stream",
     "text": [
      "Model will be saved to: models/re_trained_06_02_2025_13H_18_0.891.keras\n"
     ]
    }
   ],
   "source": [
    "# Check if 'categorical_accuracy' exists and is a float\n",
    "if 'categorical_accuracy' in results_dict and isinstance(results_dict['categorical_accuracy'], (float, int)):\n",
    "    model_save_path = f\"models/re_trained_{timestamp}_{results_dict['categorical_accuracy']:.3f}.keras\"\n",
    "    print(f\"Model will be saved to: {model_save_path}\")\n",
    "else:\n",
    "    print(\"Error: 'categorical_accuracy' key is missing or its value is not a float.\")"
   ]
  },
  {
   "cell_type": "code",
   "execution_count": 19,
   "metadata": {},
   "outputs": [],
   "source": [
    "pretrained_model.save(model_save_path)"
   ]
  },
  {
   "cell_type": "code",
   "execution_count": null,
   "metadata": {},
   "outputs": [],
   "source": []
  }
 ],
 "metadata": {
  "kernelspec": {
   "display_name": "Python 3 (ipykernel)",
   "language": "python",
   "name": "python3"
  },
  "language_info": {
   "codemirror_mode": {
    "name": "ipython",
    "version": 3
   },
   "file_extension": ".py",
   "mimetype": "text/x-python",
   "name": "python",
   "nbconvert_exporter": "python",
   "pygments_lexer": "ipython3",
   "version": "3.11.0rc1"
  }
 },
 "nbformat": 4,
 "nbformat_minor": 2
}
