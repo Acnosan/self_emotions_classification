{
 "cells": [
  {
   "cell_type": "code",
   "execution_count": 1,
   "id": "207ff942-a9fa-484a-a7a8-c37d671911ce",
   "metadata": {},
   "outputs": [],
   "source": [
    "import tensorflow as tf"
   ]
  },
  {
   "cell_type": "code",
   "execution_count": 2,
   "id": "1b8ccf20-94a2-4519-a6a5-d6ed4a7c44b3",
   "metadata": {},
   "outputs": [],
   "source": [
    "# Clear previous sessions\n",
    "tf.keras.backend.clear_session()\n",
    "model_name = 'emotions_5_class_model_28-10.keras'\n",
    "model_path = '/tf-acno-projects/image-classification/models/' + model_name"
   ]
  },
  {
   "cell_type": "code",
   "execution_count": 3,
   "id": "2e32ab39-b8b0-40ef-a202-69bfc3d45c8e",
   "metadata": {},
   "outputs": [],
   "source": [
    "# Load your Keras model\n",
    "with tf.device('/CPU:0'):\n",
    "    try:\n",
    "        model = tf.keras.models.load_model(model_path)\n",
    "        print(\"Model loaded successfully\")\n",
    "    except Exception as e:\n",
    "        print(\"Error loading model:\", e)"
   ]
  },
  {
   "cell_type": "code",
   "execution_count": 4,
   "id": "afc170f7-3d44-4662-bd75-4e7399cd0d5e",
   "metadata": {},
   "outputs": [],
   "source": [
    "\n",
    "# If loading is successful, proceed to convert\n",
    "if model is not None:\n",
    "    try:\n",
    "        converter = tf.lite.TFLiteConverter.from_keras_model(model)\n",
    "        tflite_model = converter.convert()\n",
    "        print(\"Model converted to TensorFlow Lite successfully\")\n",
    "    except Exception as e:\n",
    "        print(\"Error converting model:\", e)"
   ]
  },
  {
   "cell_type": "code",
   "execution_count": 5,
   "id": "2dfa041c-8ba7-4b69-91f4-95b4eaf0efe6",
   "metadata": {},
   "outputs": [],
   "source": [
    "# Save the TensorFlow Lite model\n",
    "with open('optimized_five_emotions_model.tflite', 'wb') as f:\n",
    "    f.write(tflite_model)"
   ]
  }
 ],
 "metadata": {
  "kernelspec": {
   "display_name": "Python 3 (ipykernel)",
   "language": "python",
   "name": "python3"
  }
 },
 "nbformat": 4,
 "nbformat_minor": 5
}
