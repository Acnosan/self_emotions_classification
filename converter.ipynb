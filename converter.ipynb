{
 "cells": [
  {
   "cell_type": "code",
   "execution_count": 2,
   "id": "207ff942-a9fa-484a-a7a8-c37d671911ce",
   "metadata": {},
   "outputs": [],
   "source": [
    "import tensorflow as tf"
   ]
  },
  {
   "cell_type": "code",
   "execution_count": 3,
   "id": "1b8ccf20-94a2-4519-a6a5-d6ed4a7c44b3",
   "metadata": {},
   "outputs": [],
   "source": [
    "# Clear previous sessions\n",
    "tf.keras.backend.clear_session()"
   ]
  },
  {
   "cell_type": "code",
   "execution_count": 4,
   "id": "2e32ab39-b8b0-40ef-a202-69bfc3d45c8e",
   "metadata": {},
   "outputs": [
    {
     "name": "stderr",
     "output_type": "stream",
     "text": [
      "WARNING: All log messages before absl::InitializeLog() is called are written to STDERR\n",
      "I0000 00:00:1728590341.215899      45 cuda_executor.cc:1001] could not open file to read NUMA node: /sys/bus/pci/devices/0000:01:00.0/numa_node\n",
      "Your kernel may have been built without NUMA support.\n",
      "I0000 00:00:1728590341.223195      45 cuda_executor.cc:1001] could not open file to read NUMA node: /sys/bus/pci/devices/0000:01:00.0/numa_node\n",
      "Your kernel may have been built without NUMA support.\n",
      "I0000 00:00:1728590341.223247      45 cuda_executor.cc:1001] could not open file to read NUMA node: /sys/bus/pci/devices/0000:01:00.0/numa_node\n",
      "Your kernel may have been built without NUMA support.\n",
      "I0000 00:00:1728590341.230741      45 cuda_executor.cc:1001] could not open file to read NUMA node: /sys/bus/pci/devices/0000:01:00.0/numa_node\n",
      "Your kernel may have been built without NUMA support.\n",
      "I0000 00:00:1728590341.230885      45 cuda_executor.cc:1001] could not open file to read NUMA node: /sys/bus/pci/devices/0000:01:00.0/numa_node\n",
      "Your kernel may have been built without NUMA support.\n",
      "I0000 00:00:1728590341.230972      45 cuda_executor.cc:1001] could not open file to read NUMA node: /sys/bus/pci/devices/0000:01:00.0/numa_node\n",
      "Your kernel may have been built without NUMA support.\n",
      "I0000 00:00:1728590341.403299      45 cuda_executor.cc:1001] could not open file to read NUMA node: /sys/bus/pci/devices/0000:01:00.0/numa_node\n",
      "Your kernel may have been built without NUMA support.\n",
      "I0000 00:00:1728590341.403386      45 cuda_executor.cc:1001] could not open file to read NUMA node: /sys/bus/pci/devices/0000:01:00.0/numa_node\n",
      "Your kernel may have been built without NUMA support.\n",
      "2024-10-10 19:59:01.403398: I tensorflow/core/common_runtime/gpu/gpu_device.cc:2112] Could not identify NUMA node of platform GPU id 0, defaulting to 0.  Your kernel may not have been built with NUMA support.\n",
      "I0000 00:00:1728590341.403434      45 cuda_executor.cc:1001] could not open file to read NUMA node: /sys/bus/pci/devices/0000:01:00.0/numa_node\n",
      "Your kernel may have been built without NUMA support.\n",
      "2024-10-10 19:59:01.403459: I tensorflow/core/common_runtime/gpu/gpu_device.cc:2021] Created device /job:localhost/replica:0/task:0/device:GPU:0 with 5593 MB memory:  -> device: 0, name: NVIDIA GeForce RTX 3050, pci bus id: 0000:01:00.0, compute capability: 8.6\n"
     ]
    },
    {
     "name": "stdout",
     "output_type": "stream",
     "text": [
      "Model loaded successfully\n"
     ]
    }
   ],
   "source": [
    "# Load your Keras model\n",
    "with tf.device('/CPU:0'):\n",
    "    try:\n",
    "        model = tf.keras.models.load_model('models/emotions_model.keras')\n",
    "        print(\"Model loaded successfully\")\n",
    "    except Exception as e:\n",
    "        print(\"Error loading model:\", e)"
   ]
  },
  {
   "cell_type": "code",
   "execution_count": 5,
   "id": "afc170f7-3d44-4662-bd75-4e7399cd0d5e",
   "metadata": {},
   "outputs": [
    {
     "name": "stdout",
     "output_type": "stream",
     "text": [
      "INFO:tensorflow:Assets written to: /tmp/tmpxppg8m2b/assets\n"
     ]
    },
    {
     "name": "stderr",
     "output_type": "stream",
     "text": [
      "INFO:tensorflow:Assets written to: /tmp/tmpxppg8m2b/assets\n"
     ]
    },
    {
     "name": "stdout",
     "output_type": "stream",
     "text": [
      "Saved artifact at '/tmp/tmpxppg8m2b'. The following endpoints are available:\n",
      "\n",
      "* Endpoint 'serve'\n",
      "  args_0 (POSITIONAL_ONLY): TensorSpec(shape=(None, 256, 256, 3), dtype=tf.float32, name='input_layer')\n",
      "Output Type:\n",
      "  TensorSpec(shape=(None, 3), dtype=tf.float32, name=None)\n",
      "Captures:\n",
      "  140339102706448: TensorSpec(shape=(), dtype=tf.resource, name=None)\n",
      "  140339102708176: TensorSpec(shape=(), dtype=tf.resource, name=None)\n",
      "  140339102706640: TensorSpec(shape=(), dtype=tf.resource, name=None)\n",
      "  140339102709136: TensorSpec(shape=(), dtype=tf.resource, name=None)\n",
      "  140339102710288: TensorSpec(shape=(), dtype=tf.resource, name=None)\n",
      "  140339102711056: TensorSpec(shape=(), dtype=tf.resource, name=None)\n",
      "  140339102711248: TensorSpec(shape=(), dtype=tf.resource, name=None)\n",
      "  140339102711440: TensorSpec(shape=(), dtype=tf.resource, name=None)\n",
      "  140339078955088: TensorSpec(shape=(), dtype=tf.resource, name=None)\n",
      "  140339078956048: TensorSpec(shape=(), dtype=tf.resource, name=None)\n",
      "Model converted to TensorFlow Lite successfully\n"
     ]
    },
    {
     "name": "stderr",
     "output_type": "stream",
     "text": [
      "WARNING: All log messages before absl::InitializeLog() is called are written to STDERR\n",
      "W0000 00:00:1728590362.522927      45 tf_tfl_flatbuffer_helpers.cc:392] Ignored output_format.\n",
      "W0000 00:00:1728590362.522996      45 tf_tfl_flatbuffer_helpers.cc:395] Ignored drop_control_dependency.\n",
      "2024-10-10 19:59:22.523785: I tensorflow/cc/saved_model/reader.cc:83] Reading SavedModel from: /tmp/tmpxppg8m2b\n",
      "2024-10-10 19:59:22.524690: I tensorflow/cc/saved_model/reader.cc:52] Reading meta graph with tags { serve }\n",
      "2024-10-10 19:59:22.524713: I tensorflow/cc/saved_model/reader.cc:147] Reading SavedModel debug info (if present) from: /tmp/tmpxppg8m2b\n",
      "2024-10-10 19:59:22.531851: I tensorflow/compiler/mlir/mlir_graph_optimization_pass.cc:388] MLIR V1 optimization pass is not enabled\n",
      "2024-10-10 19:59:22.533420: I tensorflow/cc/saved_model/loader.cc:236] Restoring SavedModel bundle.\n",
      "2024-10-10 19:59:22.610085: I tensorflow/cc/saved_model/loader.cc:220] Running initialization op on SavedModel bundle at path: /tmp/tmpxppg8m2b\n",
      "2024-10-10 19:59:22.626383: I tensorflow/cc/saved_model/loader.cc:462] SavedModel load for tags { serve }; Status: success: OK. Took 102602 microseconds.\n",
      "2024-10-10 19:59:22.665624: I tensorflow/compiler/mlir/tensorflow/utils/dump_mlir_util.cc:268] disabling MLIR crash reproducer, set env var `MLIR_CRASH_REPRODUCER_DIRECTORY` to enable.\n"
     ]
    }
   ],
   "source": [
    "\n",
    "# If loading is successful, proceed to convert\n",
    "if model is not None:\n",
    "    try:\n",
    "        converter = tf.lite.TFLiteConverter.from_keras_model(model)\n",
    "        tflite_model = converter.convert()\n",
    "        print(\"Model converted to TensorFlow Lite successfully\")\n",
    "    except Exception as e:\n",
    "        print(\"Error converting model:\", e)"
   ]
  },
  {
   "cell_type": "code",
   "execution_count": 6,
   "id": "2dfa041c-8ba7-4b69-91f4-95b4eaf0efe6",
   "metadata": {},
   "outputs": [],
   "source": [
    "# Save the TensorFlow Lite model\n",
    "with open('optimized_emotions_model.tflite', 'wb') as f:\n",
    "    f.write(tflite_model)"
   ]
  }
 ],
 "metadata": {
  "kernelspec": {
   "display_name": "Python 3 (ipykernel)",
   "language": "python",
   "name": "python3"
  },
  "language_info": {
   "codemirror_mode": {
    "name": "ipython",
    "version": 3
   },
   "file_extension": ".py",
   "mimetype": "text/x-python",
   "name": "python",
   "nbconvert_exporter": "python",
   "pygments_lexer": "ipython3",
   "version": "3.11.0rc1"
  }
 },
 "nbformat": 4,
 "nbformat_minor": 5
}
