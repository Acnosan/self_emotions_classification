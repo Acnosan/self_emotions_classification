{
 "cells": [
  {
   "cell_type": "code",
   "execution_count": null,
   "id": "08b5159f-0691-4441-b2a0-ba6e1ccb858c",
   "metadata": {},
   "outputs": [],
   "source": [
    "import tensorflow as tf\n",
    "from tensorflow.keras import Sequential,losses,mixed_precision\n",
    "from tensorflow.keras.layers import InputLayer,Dropout, Dense, Conv2D, MaxPooling2D, Flatten\n",
    "from tensorflow.keras.layers import RandomFlip,RandomRotation,RandomZoom,RandomTranslation,RandomBrightness,RandomContrast\n",
    "from tensorflow.keras.optimizers import Adam\n",
    "from tensorflow.keras.regularizers import l2\n",
    "from tensorflow.keras.callbacks import ModelCheckpoint, EarlyStopping, ReduceLROnPlateau\n",
    "from tensorflow.keras.models import load_model\n",
    "from IPython.display import display, HTML\n",
    "import matplotlib.pyplot as plt\n",
    "import numpy as np\n",
    "\n",
    "import os\n",
    "os.chdir('/tf-acno-projects/image-classification/')"
   ]
  },
  {
   "cell_type": "code",
   "execution_count": null,
   "id": "c14da090",
   "metadata": {},
   "outputs": [],
   "source": [
    "gpus = tf.config.experimental.list_physical_devices('GPU')\n",
    "if gpus:\n",
    "    try:\n",
    "        for gpu in gpus:\n",
    "            tf.config.experimental.set_virtual_device_configuration(\n",
    "                gpu,\n",
    "                [tf.config.experimental.VirtualDeviceConfiguration(memory_limit=4500)]  # Limit GPU memory usage\n",
    "            )\n",
    "            print(f\"Memory limit set for GPU\\n\")\n",
    "    except RuntimeError as e:\n",
    "        print(e)\n",
    "# Before training\n",
    "print(\"\\nXLA Status Check:\")\n",
    "print(f\"XLA JIT enabled: {tf.config.optimizer.get_jit()}\")\n",
    "print(f\"XLA devices: {tf.config.list_logical_devices('XLA_GPU')}\")"
   ]
  },
  {
   "cell_type": "code",
   "execution_count": null,
   "id": "92021dc7",
   "metadata": {},
   "outputs": [],
   "source": [
    "mixed_precision.set_global_policy('mixed_float16')\n",
    "tf.config.optimizer.set_jit(True)  # Enable XLA\n",
    "os.environ['TF_XLA_FLAGS'] = '--tf_xla_enable_xla_devices'\n",
    "\n",
    "AUTOTUNE = tf.data.AUTOTUNE\n",
    "data_dir = 'faces_data'\n",
    "training_cache = 'ds_cache/te_cache'\n",
    "validation_cache = 'ds_cache/val_cache'\n",
    "test_cache = 'ds_cache/te_cache'\n",
    "input_shape=(128,128,3)"
   ]
  },
  {
   "cell_type": "code",
   "execution_count": null,
   "id": "fa53f4e3",
   "metadata": {},
   "outputs": [],
   "source": [
    "data_augmentation = Sequential([\n",
    "    RandomRotation(0.3),\n",
    "    RandomZoom(0.2),\n",
    "    RandomFlip(\"horizontal_and_vertical\"),\n",
    "    RandomBrightness(0.3),\n",
    "    RandomContrast(0.3),\n",
    "    RandomTranslation(0.2, 0.2)\n",
    "])"
   ]
  },
  {
   "cell_type": "code",
   "execution_count": null,
   "id": "fe0f632e",
   "metadata": {},
   "outputs": [],
   "source": [
    "def prepare_dataset(ds, batch_size, is_training=True,cache_path=None):\n",
    "    # Apply data augmentation only during training\n",
    "    if is_training:\n",
    "        ds = ds.map(\n",
    "            lambda x, y: (data_augmentation(x, training=True), y),\n",
    "            num_parallel_calls=AUTOTUNE\n",
    "        )\n",
    "    \n",
    "    # Normalize images\n",
    "    ds = ds.map(\n",
    "        lambda x, y: (tf.cast(x, tf.float32) / 255.0, y),\n",
    "        num_parallel_calls=AUTOTUNE\n",
    "    )\n",
    "    \n",
    "    ds = ds.cache(cache_path)\n",
    "         \n",
    "    if is_training:\n",
    "        ds = ds.shuffle(1000)\n",
    "    \n",
    "    ds = ds.batch(batch_size).prefetch(AUTOTUNE)\n",
    "    \n",
    "    return ds"
   ]
  },
  {
   "cell_type": "code",
   "execution_count": null,
   "id": "0fe4b84c",
   "metadata": {},
   "outputs": [],
   "source": [
    "def get_class_distribution(dataset):\n",
    "    class_counts = np.zeros(5, dtype=np.int32)  # Assuming 5 classes\n",
    "    \n",
    "    for _, labels in dataset:\n",
    "        # Convert tensor to numpy if needed\n",
    "        if tf.is_tensor(labels):\n",
    "            labels = labels.numpy()\n",
    "        # Sum along batch dimension\n",
    "        class_counts += np.sum(labels, axis=0)\n",
    "        \n",
    "    return class_counts"
   ]
  },
  {
   "cell_type": "code",
   "execution_count": null,
   "id": "cef12c45",
   "metadata": {},
   "outputs": [],
   "source": [
    "def plot_training_history(train_acc,val_acc,train_loss,val_loss):\n",
    "    plt.figure(figsize=(12, 6))\n",
    "    \n",
    "    plt.subplot(1, 2, 1)\n",
    "    plt.plot(train_acc, label='Training Accuracy')\n",
    "    plt.plot(val_acc, label='Validation Accuracy')\n",
    "    plt.title('Model Accuracy')\n",
    "    plt.xlabel('Epoch')\n",
    "    \n",
    "    plt.ylabel('Accuracy')\n",
    "    plt.legend()\n",
    "    \n",
    "    plt.subplot(1, 2, 2)\n",
    "    plt.plot(train_loss, label='Training Loss')\n",
    "    plt.plot(val_loss, label='Validation Loss')\n",
    "    plt.title('Model Loss')\n",
    "    plt.xlabel('Epoch')\n",
    "    plt.ylabel('Loss')\n",
    "    plt.legend()\n",
    "    \n",
    "    plt.show()"
   ]
  },
  {
   "cell_type": "code",
   "execution_count": null,
   "id": "5d7e4328-34ec-4c19-9bd1-42747b8ba05a",
   "metadata": {},
   "outputs": [],
   "source": [
    "def create_model():\n",
    "    regularization_value = 0.001    \n",
    "    model = Sequential([\n",
    "       InputLayer(shape=input_shape),\n",
    "       Conv2D(16,(3,3),\n",
    "              strides=1,\n",
    "              activation='relu',\n",
    "              kernel_regularizer=l2(regularization_value),),\n",
    "       MaxPooling2D(),\n",
    "       Dropout(0.20),  \n",
    "       \n",
    "       Conv2D(32,(3,3),\n",
    "              strides=1,\n",
    "              activation='relu',\n",
    "              kernel_regularizer=l2(regularization_value)),\n",
    "       MaxPooling2D(),\n",
    "       Dropout(0.30),  \n",
    "                     \n",
    "       Flatten(),\n",
    "       Dense(64,\n",
    "              activation='relu',\n",
    "              kernel_regularizer=l2(regularization_value)),\n",
    "       Dropout(0.5),\n",
    "       Dense(5,\n",
    "              activation='softmax',\n",
    "              dtype='float32')\n",
    "       ])\n",
    "\n",
    "    return model"
   ]
  },
  {
   "cell_type": "code",
   "execution_count": null,
   "id": "4cc54027-b8a5-4e31-ba41-e583e9f21039",
   "metadata": {},
   "outputs": [],
   "source": [
    "dataset = tf.keras.utils.image_dataset_from_directory(\n",
    "    data_dir,\n",
    "    image_size=(128, 128),\n",
    "    label_mode='categorical',# Ensure labels are one-hot encoded\n",
    "    batch_size= None,\n",
    "    shuffle=False\n",
    ")\n",
    "# Check class names and indices\n",
    "class_names = dataset.class_names\n",
    "for i, class_name in enumerate(class_names):\n",
    "    print(f\"Class: {class_name}, Index: {i}\\n\")"
   ]
  },
  {
   "cell_type": "code",
   "execution_count": null,
   "id": "e7f179c1-a508-4cd2-8b80-396fe21b7656",
   "metadata": {},
   "outputs": [],
   "source": [
    "DATASET_SIZE = tf.data.experimental.cardinality(dataset).numpy()\n",
    "# Define the sizes of your splits\n",
    "train_size = int(0.8 * DATASET_SIZE)\n",
    "val_size = int(0.1 * DATASET_SIZE)\n",
    "test_size = DATASET_SIZE - train_size - val_size\n",
    "\n",
    "# Split the dataset\n",
    "train_dataset = dataset.take(train_size) # takes 80% of the dataset\n",
    "remaining = dataset.skip(train_size) # skips the first 80% means here we have the 20%\n",
    "val_dataset = remaining.take(val_size) # First 10% of the remaining 20%\n",
    "test_dataset = remaining.skip(val_size) # take the next 10% from the 20% remaining before"
   ]
  },
  {
   "cell_type": "code",
   "execution_count": null,
   "id": "faf9e2e1",
   "metadata": {},
   "outputs": [],
   "source": [
    "# Get distribution\n",
    "train_dist = get_class_distribution(train_dataset)\n",
    "\n",
    "# Calculate class weights\n",
    "total_samples = sum(train_dist)\n",
    "n_classes = len(train_dist)\n",
    "class_weights = {\n",
    "    i: total_samples / (n_classes * count) if count> 0 else 0\n",
    "    for i, count in enumerate(train_dist)\n",
    "}"
   ]
  },
  {
   "cell_type": "code",
   "execution_count": null,
   "id": "cbdae474",
   "metadata": {},
   "outputs": [],
   "source": [
    "callbacks = [\n",
    "    EarlyStopping(monitor=\"val_loss\", mode=\"min\", patience=20,min_delta=0.001),\n",
    "    ReduceLROnPlateau(monitor=\"val_loss\", mode=\"min\", factor=0.2, patience=10)\n",
    "]"
   ]
  },
  {
   "cell_type": "code",
   "execution_count": null,
   "id": "4e8ef9f2-8c2f-4766-bca3-eb5dcdc061d7",
   "metadata": {
    "scrolled": true
   },
   "outputs": [],
   "source": [
    "input_shape = (128,128,3)\n",
    "batch_sizes = [8,16,32,64]\n",
    "learning_rates = [0.0001,0.0005]\n",
    "Epochs = 100\n",
    "results = []\n",
    "\n",
    "for batch_size in batch_sizes:\n",
    "    # Configure datasets with current batch size\n",
    "    train_ds = prepare_dataset(train_dataset, batch_size,cache_path=training_cache)\n",
    "    val_ds = prepare_dataset(val_dataset, batch_size, is_training=False,cache_path=validation_cache)\n",
    "    \n",
    "    for lr in learning_rates:\n",
    "        tf.keras.backend.clear_session()\n",
    "        optimizer = Adam(learning_rate=lr)\n",
    "        loss_scaling_optimizer = mixed_precision.LossScaleOptimizer(optimizer)\n",
    "        print(f\"Training On ... \\t Batch : {batch_size} , LR : {lr}\")\n",
    "        model = create_model()\n",
    "        model.compile(\n",
    "            optimizer=loss_scaling_optimizer,\n",
    "            loss=losses.categorical_crossentropy,\n",
    "            metrics=['accuracy'])\n",
    "        \n",
    "        history = model.fit(train_ds,\n",
    "                            epochs=Epochs,\n",
    "                            validation_data=val_ds,\n",
    "                            class_weight=class_weights,  # Add class weights here\n",
    "                            callbacks=callbacks,\n",
    "                            verbose=0)\n",
    "        \n",
    "        # Evaluate on validation set\n",
    "        val_loss, val_accuracy = model.evaluate(val_ds, verbose=0)\n",
    "        \n",
    "        results.append({\n",
    "            'batch_size': batch_size,\n",
    "            'learning_rate': lr,\n",
    "            'val_accuracy': val_accuracy,\n",
    "            'val_loss' : val_loss,\n",
    "            'accuracy': history['accuracy'][-1],\n",
    "            'loss': history['loss'][-1],\n",
    "        })"
   ]
  },
  {
   "cell_type": "code",
   "execution_count": null,
   "id": "635d25bb",
   "metadata": {},
   "outputs": [],
   "source": [
    "display(HTML(\"<h1 style='color: red;'>Execution complete! 🎉</h1>\"))\n",
    "display(HTML(\"<h1 style='color: green;'>Execution complete! 🎉</h1>\"))\n",
    "display(HTML(\"<h1 style='color: blue;'>Execution complete! 🎉</h1>\"))\n",
    "display(HTML(\"<h1 style='color: yellow;'>Execution complete! 🎉</h1>\"))"
   ]
  },
  {
   "cell_type": "code",
   "execution_count": null,
   "id": "91b1e526-b87d-4bf1-909a-cd720a878e0c",
   "metadata": {
    "scrolled": true
   },
   "outputs": [],
   "source": [
    "best_result = max(results, key=lambda x: x['val_accuracy'])  \n",
    "\n",
    "print(\"\\nBest parameters:\")\n",
    "print(f\"Batch Size: {best_result['batch_size']}\")\n",
    "print(f\"Learning Rate: {best_result['learning_rate']}\")\n",
    "print(f\"Validation Accuracy: {best_result['val_accuracy']:.4f}\") \n",
    "print(f\"Validation Loss: {best_result['val_loss']:.4f}\")  \n",
    "print(f\"Accuracy: {best_result['accuracy']:.4f}\")  \n",
    "print(f\"Loss: {best_result['loss']:.4f}\") \n",
    "\n",
    "# Plot of the training accuracy and loss\n",
    "plot_training_history(\n",
    "    best_result['accuracy'],\n",
    "    best_result['val_accuracy'],\n",
    "    best_result['loss'],\n",
    "    best_result['val_loss'],\n",
    ")"
   ]
  },
  {
   "cell_type": "code",
   "execution_count": null,
   "id": "3acc93e7-60b3-4d2e-bfbc-005ec75793d5",
   "metadata": {},
   "outputs": [],
   "source": [
    "# Train final model with best parameters\n",
    "tf.keras.backend.clear_session()\n",
    "optimizer = Adam(learning_rate=best_result['learning_rate'])\n",
    "loss_scaling_optimizer = mixed_precision.LossScaleOptimizer(optimizer)\n",
    "\n",
    "final_model = create_model(input_shape)\n",
    "final_model.compile(optimizer=loss_scaling_optimizer,\n",
    "                    loss=losses.categorical_crossentropy,\n",
    "                    metrics=['accuracy'])"
   ]
  },
  {
   "cell_type": "code",
   "execution_count": null,
   "id": "24f2d90e",
   "metadata": {},
   "outputs": [],
   "source": [
    "callbacks = callbacks + [ModelCheckpoint(\"best_model.keras\", monitor=\"val_loss\", mode=\"min\", save_best_only=True)]"
   ]
  },
  {
   "cell_type": "code",
   "execution_count": null,
   "id": "18c3249a-c2f6-4a1f-9bdc-0064d500a807",
   "metadata": {
    "scrolled": true
   },
   "outputs": [],
   "source": [
    "final_train_batches = prepare_dataset(train_dataset, best_result['batch_size'],cache_path=training_cache)\n",
    "final_val_batches = prepare_dataset(val_dataset, best_result['batch_size'], is_training=False,cache_path=validation_cache)\n",
    "\n",
    "final_history = final_model.fit(final_train_batches,\n",
    "                                epochs=150,  # You might want to increase epochs for final training\n",
    "                                validation_data=final_val_batches,\n",
    "                                callbacks=callbacks)\n"
   ]
  },
  {
   "cell_type": "code",
   "execution_count": null,
   "id": "41e56867-bbea-4a43-b6ee-35aae3918929",
   "metadata": {},
   "outputs": [],
   "source": [
    "train_loss = final_history.history['loss']\n",
    "val_loss = final_history.history['val_loss']\n",
    "train_acc = final_history.history['accuracy']\n",
    "val_acc = final_history.history['val_accuracy']\n",
    "\n",
    "plot_training_history(train_acc,val_acc,train_loss,val_loss)"
   ]
  },
  {
   "cell_type": "code",
   "execution_count": null,
   "id": "4851feff",
   "metadata": {},
   "outputs": [],
   "source": [
    "# Load the best model saved by ModelCheckpoint\n",
    "best_model = load_model(\"best_model.keras\")"
   ]
  },
  {
   "cell_type": "code",
   "execution_count": null,
   "id": "319b6777-d8d2-4b41-bed3-b123bc9e57bb",
   "metadata": {},
   "outputs": [],
   "source": [
    "# Evaluate on test set\n",
    "final_test_batches = prepare_dataset(test_dataset, best_result['batch_size'],is_training=False,cache_path=test_cache)\n",
    "test_loss, test_accuracy = best_model.evaluate(final_test_batches)\n",
    "print(f\"\\nFinal Test Accuracy: {test_accuracy:.4f},Final Test Loss: {test_loss:.4f}\")"
   ]
  },
  {
   "cell_type": "markdown",
   "id": "6008cde4",
   "metadata": {},
   "source": [
    "Final Test Accuracy: 0.9250,Final Test Loss: 0.1644\n"
   ]
  },
  {
   "cell_type": "code",
   "execution_count": null,
   "id": "f1e128a6-3124-45db-9f09-42146e60f8cc",
   "metadata": {},
   "outputs": [],
   "source": [
    "final_model.save(os.path.join('models','emotions_5_class_model_28-10.keras'))"
   ]
  }
 ],
 "metadata": {
  "kernelspec": {
   "display_name": "Python 3 (ipykernel)",
   "language": "python",
   "name": "python3"
  },
  "language_info": {
   "codemirror_mode": {
    "name": "ipython",
    "version": 3
   },
   "file_extension": ".py",
   "mimetype": "text/x-python",
   "name": "python",
   "nbconvert_exporter": "python",
   "pygments_lexer": "ipython3",
   "version": "3.11.0rc1"
  }
 },
 "nbformat": 4,
 "nbformat_minor": 5
}
