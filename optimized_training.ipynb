{
 "cells": [
  {
   "cell_type": "code",
   "execution_count": 5,
   "id": "08b5159f-0691-4441-b2a0-ba6e1ccb858c",
   "metadata": {},
   "outputs": [],
   "source": [
    "import tensorflow as tf\n",
    "from tensorflow.keras import Sequential,mixed_precision\n",
    "from tensorflow.keras.losses import CategoricalCrossentropy\n",
    "from tensorflow.keras.layers import InputLayer,Dropout, Dense, Conv2D, MaxPooling2D, Flatten\n",
    "from tensorflow.keras.layers import RandomFlip,RandomRotation,RandomZoom,RandomBrightness\n",
    "from tensorflow.keras.optimizers import Adam\n",
    "from tensorflow.keras.regularizers import l2\n",
    "from tensorflow.keras.callbacks import EarlyStopping, ReduceLROnPlateau\n",
    "import matplotlib.pyplot as plt\n",
    "import numpy as np\n",
    "from datetime import datetime\n",
    "import os\n",
    "\n",
    "os.chdir('/tf-acno-projects/image-classification/')\n",
    "os.environ['TF_XLA_FLAGS'] = '--tf_xla_enable_xla_devices'"
   ]
  },
  {
   "cell_type": "code",
   "execution_count": 6,
   "id": "c14da090",
   "metadata": {},
   "outputs": [
    {
     "name": "stdout",
     "output_type": "stream",
     "text": [
      "Memory limit set for GPU\n",
      "\n",
      "XLA Status Check:\n",
      "XLA JIT enabled: autoclustering\n",
      "XLA devices: [LogicalDevice(name='/device:XLA_GPU:0', device_type='XLA_GPU')]\n"
     ]
    }
   ],
   "source": [
    "tf.config.optimizer.set_jit(True)  # Enable XLA\n",
    "gpus = tf.config.experimental.list_physical_devices('GPU')\n",
    "if gpus:\n",
    "    try:\n",
    "        for gpu in gpus:\n",
    "            tf.config.experimental.set_virtual_device_configuration(\n",
    "                gpu,\n",
    "                [tf.config.experimental.VirtualDeviceConfiguration(memory_limit=6000)]  # Limit GPU memory usage\n",
    "            )\n",
    "            print(f\"Memory limit set for GPU\")\n",
    "    except RuntimeError as e:\n",
    "        print(e)\n",
    "        \n",
    "# Before training\n",
    "mixed_precision.set_global_policy('mixed_float16')\n",
    "print(\"\\nXLA Status Check:\")\n",
    "print(f\"XLA JIT enabled: {tf.config.optimizer.get_jit()}\")\n",
    "print(f\"XLA devices: {tf.config.list_logical_devices('XLA_GPU')}\")"
   ]
  },
  {
   "cell_type": "code",
   "execution_count": 7,
   "id": "92021dc7",
   "metadata": {},
   "outputs": [],
   "source": [
    "AUTOTUNE = tf.data.AUTOTUNE\n",
    "data_dir = 'faces_data/'\n",
    "input_shape=(128,128,3)"
   ]
  },
  {
   "cell_type": "code",
   "execution_count": 4,
   "id": "fa53f4e3",
   "metadata": {},
   "outputs": [],
   "source": [
    "data_augmentation = Sequential([\n",
    "    RandomRotation(0.1),\n",
    "    RandomZoom(0.1),\n",
    "    RandomFlip(\"horizontal\"),\n",
    "    RandomBrightness(0.1),\n",
    "])"
   ]
  },
  {
   "cell_type": "code",
   "execution_count": 5,
   "id": "fe0f632e",
   "metadata": {},
   "outputs": [],
   "source": [
    "def prepare_dataset(ds, batch_size, is_training=True):\n",
    "\n",
    "    # Normalize images\n",
    "    ds = ds.map(\n",
    "        lambda x, y: (tf.cast(x, tf.float32) / 255.0, y),\n",
    "        num_parallel_calls=AUTOTUNE\n",
    "    )\n",
    "\n",
    "    if is_training:\n",
    "        ds = ds.shuffle(4000)\n",
    "        \n",
    "    ds = ds.batch(batch_size)\n",
    "    \n",
    "        \n",
    "    return ds.prefetch(AUTOTUNE)"
   ]
  },
  {
   "cell_type": "code",
   "execution_count": null,
   "id": "a2c71a39",
   "metadata": {},
   "outputs": [],
   "source": [
    "# data_aug images\n",
    "\"\"\"\n",
    "if is_training:\n",
    "    ds = ds.map(\n",
    "        lambda x,y: (data_augmentation(x,training=True),y),\n",
    "        num_parallel_calls=AUTOTUNE\n",
    "    )\"\"\""
   ]
  },
  {
   "cell_type": "code",
   "execution_count": 6,
   "id": "0fe4b84c",
   "metadata": {},
   "outputs": [],
   "source": [
    "def get_class_distribution(dataset):\n",
    "    class_counts = tf.zeros(5, dtype=tf.int32)\n",
    "    for _, labels in dataset:\n",
    "        class_counts += tf.cast(labels, tf.int32) # each individual sample's label in the dataset ; ( use reduce_sum if it was batched)\n",
    "    return class_counts.numpy()\n"
   ]
  },
  {
   "cell_type": "code",
   "execution_count": 7,
   "id": "cef12c45",
   "metadata": {},
   "outputs": [],
   "source": [
    "def plot_training_history(train_acc,val_acc,train_loss,val_loss):\n",
    "    plt.figure(figsize=(12, 6))\n",
    "    \n",
    "    plt.subplot(1, 2, 1)\n",
    "    plt.plot(train_acc, label='Training Accuracy')\n",
    "    plt.plot(val_acc, label='Validation Accuracy')\n",
    "    plt.title('Model Accuracy')\n",
    "    plt.xlabel('Epoch')\n",
    "    \n",
    "    plt.ylabel('Accuracy')\n",
    "    plt.legend()\n",
    "    \n",
    "    plt.subplot(1, 2, 2)\n",
    "    plt.plot(train_loss, label='Training Loss')\n",
    "    plt.plot(val_loss, label='Validation Loss')\n",
    "    plt.title('Model Loss')\n",
    "    plt.xlabel('Epoch')\n",
    "    plt.ylabel('Loss')\n",
    "    plt.legend()\n",
    "    \n",
    "    plt.show()"
   ]
  },
  {
   "cell_type": "code",
   "execution_count": 8,
   "id": "5d7e4328-34ec-4c19-9bd1-42747b8ba05a",
   "metadata": {},
   "outputs": [],
   "source": [
    "def create_model1():\n",
    "       regularization_value = 0.0001    \n",
    "       model = Sequential([\n",
    "              InputLayer(shape=input_shape),\n",
    "              Conv2D(8,(3,3),\n",
    "                     strides=1,\n",
    "                     #kernel_initializer='he_normal',\n",
    "                     activation='relu',\n",
    "                     kernel_regularizer=l2(regularization_value),\n",
    "                     ),\n",
    "              MaxPooling2D(),\n",
    "              #Dropout(0.1),\n",
    "              Conv2D(16,(3,3),\n",
    "                     strides=1,\n",
    "                     #kernel_initializer='he_normal',\n",
    "                     activation='relu',\n",
    "                     kernel_regularizer=l2(regularization_value)\n",
    "                     ),\n",
    "              MaxPooling2D(),\n",
    "              Conv2D(8,(3,3),\n",
    "                     strides=1,\n",
    "                     #kernel_initializer='he_normal',\n",
    "                     activation='relu',\n",
    "                     kernel_regularizer=l2(regularization_value)\n",
    "                     ),\n",
    "              MaxPooling2D(),\n",
    "              #Dropout(0.2), \n",
    "              Flatten(),\n",
    "                     \n",
    "              Dense(32,\n",
    "                     #kernel_initializer='he_normal',\n",
    "                     activation='relu',\n",
    "                     kernel_regularizer=l2(regularization_value)\n",
    "                     ),\n",
    "              Dropout(0.4),\n",
    "              Dense(5,\n",
    "                     activation='softmax',\n",
    "                     #kernel_initializer='glorot_uniform'\n",
    "                     )\n",
    "       ])\n",
    "       return model"
   ]
  },
  {
   "cell_type": "code",
   "execution_count": 9,
   "id": "4cc54027-b8a5-4e31-ba41-e583e9f21039",
   "metadata": {},
   "outputs": [],
   "source": [
    "\n",
    "dataset = tf.keras.utils.image_dataset_from_directory(\n",
    "    data_dir,\n",
    "    image_size=(128, 128),\n",
    "    label_mode='categorical',# Ensure labels are one-hot encoded\n",
    "    batch_size= None,\n",
    ")\n",
    "# Check class names and indices\n",
    "class_names = dataset.class_names\n",
    "for i, class_name in enumerate(class_names):\n",
    "    print(f\"Class: {class_name}, Index: {i}\\n\")\n",
    "    "
   ]
  },
  {
   "cell_type": "code",
   "execution_count": 10,
   "id": "e7f179c1-a508-4cd2-8b80-396fe21b7656",
   "metadata": {},
   "outputs": [],
   "source": [
    "DATASET_SIZE = tf.data.experimental.cardinality(dataset).numpy()\n",
    "# Define the sizes of your splits\n",
    "train_size = int(0.8 * DATASET_SIZE)\n",
    "val_size = int(0.1 * DATASET_SIZE)\n",
    "test_size = DATASET_SIZE - train_size - val_size\n",
    "\n",
    "# Split the dataset\n",
    "train_dataset = dataset.take(train_size)\n",
    "remaining = dataset.skip(train_size)\n",
    "val_dataset = remaining.take(val_size)\n",
    "test_dataset = remaining.skip(val_size)"
   ]
  },
  {
   "cell_type": "code",
   "execution_count": 11,
   "id": "194968b1",
   "metadata": {},
   "outputs": [],
   "source": [
    "# Get one batch of data\n",
    "for images, labels in train_dataset.take(1):  # Take 1 batch\n",
    "    print(\"Images shape:\", images.shape)\n",
    "    print(\"Labels shape:\", labels.shape)\n",
    "    print(\"Labels:\", labels.numpy())  # Convert to numpy array for easier viewing\n",
    "\n",
    "# Check the unique values in labels to determine the format\n",
    "unique_labels = tf.unique(tf.reshape(labels, [-1]))  # Flatten labels to check unique values\n",
    "print(\"Unique label values:\", unique_labels.y.numpy())\n"
   ]
  },
  {
   "cell_type": "code",
   "execution_count": 12,
   "id": "faf9e2e1",
   "metadata": {},
   "outputs": [],
   "source": [
    "train_dist = get_class_distribution(train_dataset)\n",
    "print(\"\\nClass distribution in training set:\")\n",
    "for i, count in enumerate(train_dist):\n",
    "    print(f\"Class {i}: {count} samples\")\n",
    "\n",
    "# Calculate class weights\n",
    "total_samples = sum(train_dist)\n",
    "n_classes = len(train_dist)\n",
    "class_weights = {\n",
    "    i: total_samples / (n_classes * count) if count> 0 else 0\n",
    "    for i, count in enumerate(train_dist)\n",
    "}\n",
    "\n",
    "print(\"\\nClass weights:\")\n",
    "for class_idx, weight in class_weights.items():\n",
    "    print(f\"Class {class_idx}: {weight:.2f}\")"
   ]
  },
  {
   "cell_type": "code",
   "execution_count": 13,
   "id": "cbdae474",
   "metadata": {},
   "outputs": [],
   "source": [
    "callbacks = [\n",
    "    #EarlyStopping(monitor='val_loss',patience=20,min_delta=0.00001),\n",
    "    ReduceLROnPlateau(monitor=\"val_loss\",factor=0.8, patience=5,min_delta=0.001,min_lr=5e-5),\n",
    "]"
   ]
  },
  {
   "cell_type": "code",
   "execution_count": 14,
   "id": "99b11f9b",
   "metadata": {},
   "outputs": [],
   "source": [
    "input_shape = (128,128,3)\n",
    "batch_sizes = [8,16,32]\n",
    "learning_rates=[0.002,0.001,0.0005,0.0001]\n",
    "Epochs = 100\n",
    "results1,results2,results3 = [],[],[]\n",
    "\n",
    "train_datasets = [prepare_dataset(train_dataset, batch_size) for batch_size in batch_sizes]\n",
    "val_datasets = [prepare_dataset(val_dataset, batch_size, is_training=False) for batch_size in batch_sizes]"
   ]
  },
  {
   "cell_type": "code",
   "execution_count": null,
   "id": "4e8ef9f2-8c2f-4766-bca3-eb5dcdc061d7",
   "metadata": {
    "scrolled": true
   },
   "outputs": [],
   "source": [
    "for i, batch_size in enumerate(batch_sizes):\n",
    "    train_ds = train_datasets[i]\n",
    "    val_ds = val_datasets[i]\n",
    "    \n",
    "    for lr in learning_rates:\n",
    "        tf.keras.backend.clear_session()\n",
    "\n",
    "        model1 = create_model1()\n",
    "\n",
    "        model1.compile(optimizer=mixed_precision.LossScaleOptimizer(Adam(learning_rate=lr)),loss=CategoricalCrossentropy(),metrics=['accuracy'])\n",
    " \n",
    "        training_history1 = model1.fit(train_ds,epochs=Epochs,validation_data=val_ds,class_weight=class_weights,callbacks=callbacks,verbose=0)\n",
    "\n",
    "        # Evaluate on validation set\n",
    "        val_loss1, val_accuracy1 = model1.evaluate(val_ds, verbose=0)\n",
    "\n",
    "        print(f\"FOR Batch : {batch_size} , LR : {lr} we have \\tEpochs : {len(training_history1.history['loss'])} Val Accuracy : {val_accuracy1:.4f} , Val Loss : {val_loss1:.4f}\")\n",
    "\n",
    "        results1.append({\n",
    "            'batch_size': batch_size,\n",
    "            'learning_rate': lr,\n",
    "            'val_accuracy': val_accuracy1,\n",
    "            'val_loss': val_loss1,\n",
    "            'history':training_history1.history\n",
    "        })\n",
    "        "
   ]
  },
  {
   "cell_type": "markdown",
   "id": "80ad25d7",
   "metadata": {},
   "source": [
    "#### remark:\n",
    "- High lr works better for big batch size\n",
    "- Low lr works better for small batch size"
   ]
  },
  {
   "cell_type": "code",
   "execution_count": 20,
   "id": "91b1e526-b87d-4bf1-909a-cd720a878e0c",
   "metadata": {
    "scrolled": true
   },
   "outputs": [],
   "source": [
    "best_result = min(results1, key=lambda x: x['val_loss'])\n",
    "\n",
    "best_result_hist = best_result['history']\n",
    "\n",
    "print(\"\\nBest parameters: MODEL 1\")\n",
    "print(f\"Batch Size: {best_result['batch_size']}\")\n",
    "print(f\"Learning Rate: {best_result['learning_rate']:.4f}\")\n",
    "print(f\"Validation Accuracy: {best_result['val_accuracy']:.4f}\")\n",
    "print(f\"Validation Loss: {best_result['val_loss']:.4f}\")\n",
    "print(f\"Accuracy: {best_result_hist['accuracy'][-1]:.4f}\")\n",
    "print(f\"Loss: {best_result_hist['loss'][-1]:.4f}\")\n",
    "\n",
    "plot_training_history(best_result_hist['accuracy'],best_result_hist['val_accuracy'],best_result_hist['loss'],best_result_hist['val_loss'],)\n"
   ]
  },
  {
   "cell_type": "code",
   "execution_count": 21,
   "id": "3acc93e7-60b3-4d2e-bfbc-005ec75793d5",
   "metadata": {},
   "outputs": [],
   "source": [
    "# Train final model with best parameters\n",
    "tf.keras.backend.clear_session()\n",
    "final_train_batches = prepare_dataset(train_dataset, best_result['batch_size'])\n",
    "final_val_batches = prepare_dataset(val_dataset, best_result['batch_size'], is_training=False)\n",
    "\n",
    "final_model1 = create_model1()\n",
    "\n",
    "final_model1.compile(optimizer=Adam(learning_rate=best_result['learning_rate']),loss='categorical_crossentropy',metrics=['accuracy'])\n",
    "\n",
    "final_history1 = final_model1.fit(final_train_batches,epochs=150,validation_data=final_val_batches,class_weight=class_weights,callbacks=callbacks,verbose=0)"
   ]
  },
  {
   "cell_type": "code",
   "execution_count": 22,
   "id": "41e56867-bbea-4a43-b6ee-35aae3918929",
   "metadata": {},
   "outputs": [],
   "source": [
    "# plot of the training accuracy and loss\n",
    "plot_training_history(final_history1.history['accuracy'],final_history1.history['val_accuracy'],final_history1.history['loss'],final_history1.history['val_loss'])"
   ]
  },
  {
   "cell_type": "code",
   "execution_count": 23,
   "id": "319b6777-d8d2-4b41-bed3-b123bc9e57bb",
   "metadata": {},
   "outputs": [],
   "source": [
    "# Evaluate on test set\n",
    "final_test_batches = prepare_dataset(test_dataset, best_result['batch_size'],is_training=False)\n",
    "\n",
    "test_loss, test_accuracy = final_model1.evaluate(final_test_batches)\n",
    "print(f\"\\nM1 : Final Test Accuracy: {test_accuracy:.4f},Final Test Loss: {test_loss:.4f}\")\n"
   ]
  },
  {
   "cell_type": "markdown",
   "id": "6008cde4",
   "metadata": {},
   "source": [
    "#### Old \n",
    "- Final Test Accuracy: 0.9250,\n",
    "- Final Test Loss: 0.1644\n",
    "---\n",
    "#### after adding class weights:\n",
    "- Final Test Accuracy: 0.9138,\n",
    "- Final Test Loss: 0.2299\n",
    "\n",
    "### New model one\n",
    "- Final Test Accuracy: 0.8642,\n",
    "- Final Test Loss: 0.3685"
   ]
  },
  {
   "cell_type": "markdown",
   "id": "9c8b7a29",
   "metadata": {},
   "source": [
    "### another train 05/12/2024"
   ]
  },
  {
   "cell_type": "code",
   "execution_count": null,
   "id": "b2bd6f7c",
   "metadata": {},
   "outputs": [
    {
     "name": "stdout",
     "output_type": "stream",
     "text": [
      "0.864\n"
     ]
    }
   ],
   "source": [
    "year,month,day = str(datetime.now().year),str(datetime.now().month),str(datetime.now().day)\n",
    "saved_date = year+'/'+month+'/'+day\n",
    "test_accuracy = str(round(test_accuracy,3))\n",
    "print(test_accuracy)"
   ]
  },
  {
   "cell_type": "code",
   "execution_count": 24,
   "id": "f1e128a6-3124-45db-9f09-42146e60f8cc",
   "metadata": {},
   "outputs": [],
   "source": [
    "final_model1.save(os.path.join('models',f'{saved_date+test_accuracy}.keras'))"
   ]
  }
 ],
 "metadata": {
  "kernelspec": {
   "display_name": "Python 3 (ipykernel)",
   "language": "python",
   "name": "python3"
  },
  "language_info": {
   "codemirror_mode": {
    "name": "ipython",
    "version": 3
   },
   "file_extension": ".py",
   "mimetype": "text/x-python",
   "name": "python",
   "nbconvert_exporter": "python",
   "pygments_lexer": "ipython3",
   "version": "3.11.0rc1"
  }
 },
 "nbformat": 4,
 "nbformat_minor": 5
}
