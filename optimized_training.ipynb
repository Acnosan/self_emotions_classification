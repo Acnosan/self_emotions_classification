{
 "cells": [
  {
   "cell_type": "code",
   "execution_count": null,
   "id": "08b5159f-0691-4441-b2a0-ba6e1ccb858c",
   "metadata": {},
   "outputs": [
    {
     "name": "stderr",
     "output_type": "stream",
     "text": [
      "2024-10-29 21:59:41.647928: E external/local_xla/xla/stream_executor/cuda/cuda_fft.cc:485] Unable to register cuFFT factory: Attempting to register factory for plugin cuFFT when one has already been registered\n",
      "2024-10-29 21:59:41.660048: E external/local_xla/xla/stream_executor/cuda/cuda_dnn.cc:8454] Unable to register cuDNN factory: Attempting to register factory for plugin cuDNN when one has already been registered\n",
      "2024-10-29 21:59:41.663822: E external/local_xla/xla/stream_executor/cuda/cuda_blas.cc:1452] Unable to register cuBLAS factory: Attempting to register factory for plugin cuBLAS when one has already been registered\n",
      "2024-10-29 21:59:41.673659: I tensorflow/core/platform/cpu_feature_guard.cc:210] This TensorFlow binary is optimized to use available CPU instructions in performance-critical operations.\n",
      "To enable the following instructions: AVX2 FMA, in other operations, rebuild TensorFlow with the appropriate compiler flags.\n"
     ]
    }
   ],
   "source": [
    "import tensorflow as tf\n",
    "from tensorflow.keras import Sequential,losses,mixed_precision\n",
    "from tensorflow.keras.layers import InputLayer,Dropout, Dense, Conv2D, MaxPooling2D, Flatten,RandomFlip,RandomRotation,RandomZoom,RandomTranslation,RandomBrightness,RandomContrast\n",
    "from tensorflow.keras.optimizers import Adam\n",
    "from tensorflow.keras.regularizers import l2\n",
    "from tensorflow.keras.callbacks import ModelCheckpoint, EarlyStopping, ReduceLROnPlateau\n",
    "import matplotlib.pyplot as plt\n",
    "from IPython.display import display, HTML\n",
    "import numpy as np\n",
    "import os"
   ]
  },
  {
   "cell_type": "code",
   "execution_count": null,
   "id": "105e4e1e",
   "metadata": {},
   "outputs": [],
   "source": [
    "mixed_precision.set_global_policy('mixed_float16')\n",
    "tf.config.optimizer.set_jit(True)  # Enable XLA\n",
    "os.environ['TF_XLA_FLAGS'] = '--tf_xla_enable_xla_devices'\n",
    "AUTOTUNE = tf.data.AUTOTUNE\n",
    "data_dir = '/tf-acno-projects/image-classification/faces_data'\n",
    "input_shape=(128,128,3)"
   ]
  },
  {
   "cell_type": "code",
   "execution_count": null,
   "id": "9cdd9cdc-dfac-4c20-9c21-a73ebf816374",
   "metadata": {},
   "outputs": [],
   "source": [
    "gpus = tf.config.experimental.list_physical_devices('GPU')\n",
    "if gpus:\n",
    "    try:\n",
    "        for gpu in gpus:\n",
    "            tf.config.experimental.set_virtual_device_configuration(\n",
    "                gpu,\n",
    "                [tf.config.experimental.VirtualDeviceConfiguration(memory_limit=4096)]  # Limit GPU memory usage\n",
    "            )\n",
    "            print(f\"Memory limit set for GPU\\n\")\n",
    "    except RuntimeError as e:\n",
    "        print(e)"
   ]
  },
  {
   "cell_type": "code",
   "execution_count": null,
   "id": "fe43407a",
   "metadata": {},
   "outputs": [],
   "source": [
    "# Before training\n",
    "print(\"\\nXLA Status Check:\")\n",
    "print(f\"XLA JIT enabled: {tf.config.optimizer.get_jit()}\")\n",
    "print(f\"XLA devices: {tf.config.list_logical_devices('XLA_GPU')}\")"
   ]
  },
  {
   "cell_type": "code",
   "execution_count": null,
   "id": "3c9c5a9f",
   "metadata": {},
   "outputs": [],
   "source": [
    "# Define data augmentation\n",
    "data_augmentation = Sequential([\n",
    "    RandomRotation(0.3),\n",
    "    RandomZoom(0.2),\n",
    "    RandomFlip(\"horizontal_and_vertical\"),\n",
    "    RandomBrightness(0.3),\n",
    "    RandomContrast(0.3),\n",
    "    RandomTranslation(0.2, 0.2)\n",
    "])"
   ]
  },
  {
   "cell_type": "code",
   "execution_count": 7,
   "id": "fe8f1b02",
   "metadata": {},
   "outputs": [],
   "source": [
    "# 1. First analyze class distribution\n",
    "def get_class_distribution(dataset):\n",
    "    class_counts = tf.zeros(5, dtype=tf.int32)  # Assuming 5 classes\n",
    "    \n",
    "    for _, labels in dataset:\n",
    "        class_counts += tf.cast(tf.reduce_sum(labels, axis=0), tf.int32)\n",
    "    \n",
    "    return class_counts.numpy()"
   ]
  },
  {
   "cell_type": "code",
   "execution_count": null,
   "id": "6ab38f39",
   "metadata": {},
   "outputs": [],
   "source": [
    "def prepare_dataset(ds, batch_size, is_training=True):\n",
    "    AUTOTUNE = tf.data.AUTOTUNE\n",
    "    \n",
    "    # Apply data augmentation only during training\n",
    "    if is_training:\n",
    "        ds = ds.map(\n",
    "            lambda x, y: (data_augmentation(x, training=True), y),\n",
    "            num_parallel_calls=AUTOTUNE\n",
    "        )\n",
    "    \n",
    "    # Normalize images\n",
    "    ds = ds.map(\n",
    "        lambda x, y: (tf.cast(x, tf.float32) / 255.0, y),\n",
    "        num_parallel_calls=AUTOTUNE\n",
    "    )\n",
    "    \n",
    "    if is_training:\n",
    "        ds = ds.shuffle(1000)\n",
    "    \n",
    "    ds = ds.batch(batch_size).prefetch(AUTOTUNE)\n",
    "    \n",
    "    return ds\n"
   ]
  },
  {
   "cell_type": "code",
   "execution_count": 78,
   "id": "091c609c",
   "metadata": {},
   "outputs": [],
   "source": [
    "def plot_training_history(train_acc,val_acc,train_loss,val_loss):\n",
    "    plt.figure(figsize=(12, 6))\n",
    "    \n",
    "    plt.subplot(1, 2, 1)\n",
    "    plt.plot(train_acc, label='Training Accuracy')\n",
    "    plt.plot(val_acc, label='Validation Accuracy')\n",
    "    plt.title('Model Accuracy')\n",
    "    plt.xlabel('Epoch')\n",
    "    plt.ylabel('Accuracy')\n",
    "    plt.legend()\n",
    "    \n",
    "    plt.subplot(1, 2, 2)\n",
    "    plt.plot(train_loss, label='Training Loss')\n",
    "    plt.plot(val_loss, label='Validation Loss')\n",
    "    plt.title('Model Loss')\n",
    "    plt.xlabel('Epoch')\n",
    "    plt.ylabel('Loss')\n",
    "    plt.legend()\n",
    "    \n",
    "    plt.show()"
   ]
  },
  {
   "cell_type": "code",
   "execution_count": null,
   "id": "5d7e4328-34ec-4c19-9bd1-42747b8ba05a",
   "metadata": {},
   "outputs": [],
   "source": [
    "data_augmentation = Sequential([\n",
    "    RandomRotation(0.1),\n",
    "    RandomZoom(0.1),\n",
    "    RandomFlip(\"horizontal\"),\n",
    "    RandomTranslation(0.1, 0.1)\n",
    "])\n",
    "\n",
    "def create_model(input_shape=input_shape):\n",
    "    regularization_value = 0.0001    \n",
    "    model = Sequential([\n",
    "       InputLayer(shape=input_shape),\n",
    "       data_augmentation,\n",
    "       Conv2D(8,(3,3),\n",
    "              strides=1,\n",
    "              activation='relu',\n",
    "              kernel_regularizer=l2(regularization_value),\n",
    "              input_shape=input_shape),\n",
    "       MaxPooling2D(),\n",
    "       Dropout(0.20),  \n",
    "       \n",
    "       Conv2D(16,(3,3),\n",
    "              strides=1,\n",
    "              activation='relu',\n",
    "              kernel_regularizer=l2(regularization_value)),\n",
    "       MaxPooling2D(),\n",
    "       Dropout(0.30),  \n",
    "                     \n",
    "       Flatten(),\n",
    "       Dense(32,\n",
    "              activation='relu',\n",
    "              kernel_regularizer=l2(regularization_value)),\n",
    "       Dropout(0.40),\n",
    "       Dense(5,\n",
    "              activation='softmax',\n",
    "              dtype='float32')\n",
    "       ])\n",
    "\n",
    "    return model"
   ]
  },
  {
   "cell_type": "code",
   "execution_count": null,
   "id": "4cc54027-b8a5-4e31-ba41-e583e9f21039",
   "metadata": {},
   "outputs": [],
   "source": [
    "dataset = tf.keras.utils.image_dataset_from_directory(\n",
    "    data_dir,\n",
    "    image_size=(128, 128),\n",
    "    label_mode='categorical'  # Ensure labels are one-hot encoded\n",
    "    \n",
    ")"
   ]
  },
  {
   "cell_type": "code",
   "execution_count": 81,
   "id": "959e8863-3b8d-432c-8c54-613151a6cade",
   "metadata": {
    "scrolled": true
   },
   "outputs": [],
   "source": [
    "# Check class names and indices\n",
    "class_names = dataset.class_names\n",
    "for i, class_name in enumerate(class_names):\n",
    "    print(f\"Class: {class_name}, Index: {i}\\n\")"
   ]
  },
  {
   "cell_type": "code",
   "execution_count": 82,
   "id": "e7f179c1-a508-4cd2-8b80-396fe21b7656",
   "metadata": {},
   "outputs": [],
   "source": [
    "DATASET_SIZE = tf.data.experimental.cardinality(dataset).numpy()\n",
    "# Define the sizes of your splits\n",
    "train_size = int(0.8 * DATASET_SIZE)\n",
    "val_size = int(0.1 * DATASET_SIZE)\n",
    "test_size = DATASET_SIZE - train_size - val_size\n",
    "\n",
    "# Split the dataset\n",
    "train_dataset = dataset.take(train_size) # takes 80% of the dataset\n",
    "remaining = dataset.skip(train_size) # skips the first 80% means here we have the 20%\n",
    "val_dataset = remaining.take(val_size) # First 10% of the remaining 20%\n",
    "test_dataset = remaining.skip(val_size) # take the next 10% from the 20% remaining before"
   ]
  },
  {
   "cell_type": "code",
   "execution_count": 84,
   "id": "faf9e2e1",
   "metadata": {},
   "outputs": [],
   "source": [
    "# Get distribution\n",
    "train_dist = get_class_distribution(train_dataset)\n",
    "print(\"\\nClass distribution in training set:\")\n",
    "for i, count in enumerate(train_dist):\n",
    "    print(f\"Class {i}: {count} samples\")\n",
    "\n",
    "# Calculate class weights\n",
    "total_samples = sum(train_dist)\n",
    "n_classes = len(train_dist)\n",
    "class_weights = {\n",
    "    i: total_samples / (n_classes * count) if count> 0 else 0\n",
    "    for i, count in enumerate(train_dist)\n",
    "}\n",
    "\n",
    "print(\"\\nClass weights:\")\n",
    "for class_idx, weight in class_weights.items():\n",
    "    print(f\"Class {class_idx}: {weight:.2f}\")"
   ]
  },
  {
   "cell_type": "code",
   "execution_count": 86,
   "id": "cbdae474",
   "metadata": {},
   "outputs": [],
   "source": [
    "callbacks = [\n",
    "    ModelCheckpoint(\"best_model.keras\", monitor=\"val_loss\", mode=\"min\", save_best_only=True),\n",
    "    EarlyStopping(monitor=\"val_loss\", mode=\"min\", patience=50),\n",
    "    ReduceLROnPlateau(monitor=\"val_loss\", mode=\"min\", factor=0.2, patience=10)\n",
    "]"
   ]
  },
  {
   "cell_type": "code",
   "execution_count": null,
   "id": "4e8ef9f2-8c2f-4766-bca3-eb5dcdc061d7",
   "metadata": {
    "scrolled": true
   },
   "outputs": [],
   "source": [
    "input_shape = (128,128,3)\n",
    "batch_sizes = [8,16,32,64]\n",
    "learning_rates = [0.0001,0.0005]\n",
    "Epochs = 150\n",
    "results = []\n",
    "\n",
    "for batch_size in batch_sizes:\n",
    "    # Configure datasets with current batch size\n",
    "    train_ds = prepare_dataset(train_dataset, batch_size)\n",
    "    val_ds = prepare_dataset(val_dataset, batch_size, in_training=False)\n",
    "    \n",
    "    for lr in learning_rates:\n",
    "        tf.keras.backend.clear_session()\n",
    "        optimizer = Adam(learning_rate=lr)\n",
    "        loss_scaling_optimizer = mixed_precision.LossScaleOptimizer(optimizer)\n",
    "        \n",
    "        model = create_model(input_shape)\n",
    "        model.compile(\n",
    "            optimizer=loss_scaling_optimizer,\n",
    "            loss=losses.categorical_crossentropy,\n",
    "            metrics=['accuracy'])\n",
    "        \n",
    "        history = model.fit(train_ds,\n",
    "                            epochs=Epochs,\n",
    "                            validation_data=val_ds,\n",
    "                            class_weight=class_weights,  # Add class weights here\n",
    "                            callbacks=callbacks,\n",
    "                            verbose=0)\n",
    "        \n",
    "        # Evaluate on validation set\n",
    "        val_loss, val_accuracy = model.evaluate(val_ds, verbose=0)\n",
    "        \n",
    "        results.append({\n",
    "            'batch_size': batch_size,\n",
    "            'learning_rate': lr,\n",
    "            'history':history.history\n",
    "        })"
   ]
  },
  {
   "cell_type": "code",
   "execution_count": null,
   "id": "635d25bb",
   "metadata": {},
   "outputs": [],
   "source": [
    "display(HTML(\"<h1 style='color: red;'>Execution complete! 🎉</h1>\"))\n",
    "display(HTML(\"<h1 style='color: green;'>Execution complete! 🎉</h1>\"))\n",
    "display(HTML(\"<h1 style='color: blue;'>Execution complete! 🎉</h1>\"))\n",
    "display(HTML(\"<h1 style='color: yellow;'>Execution complete! 🎉</h1>\"))"
   ]
  },
  {
   "cell_type": "code",
   "execution_count": 77,
   "id": "91b1e526-b87d-4bf1-909a-cd720a878e0c",
   "metadata": {
    "scrolled": true
   },
   "outputs": [],
   "source": [
    "# Find the entry with the minimum validation loss across all epochs\n",
    "best_result = min(results, key=lambda x: min(x['history']['val_loss']))  # Find the min val_loss from history\n",
    "\n",
    "print(\"\\nBest parameters:\")\n",
    "print(f\"Batch Size: {best_result['batch_size']}\")\n",
    "print(f\"Learning Rate: {best_result['learning_rate']}\")\n",
    "print(f\"Validation Accuracy: {max(best_result['history']['val_accuracy']):.4f}\")  # Access from history\n",
    "print(f\"Validation Loss: {min(best_result['history']['val_loss']):.4f}\")  # Access from history\n",
    "print(f\"Accuracy: {max(best_result['history']['accuracy']):.4f}\")  # Access from history\n",
    "print(f\"Loss: {min(best_result['history']['loss']):.4f}\")  # Access from history\n",
    "\n",
    "# Plot of the training accuracy and loss\n",
    "plot_training_history(\n",
    "    best_result['history']['accuracy'],\n",
    "    best_result['history']['val_accuracy'],\n",
    "    best_result['history']['loss'],\n",
    "    best_result['history']['val_loss'],\n",
    ")"
   ]
  },
  {
   "cell_type": "code",
   "execution_count": 13,
   "id": "3acc93e7-60b3-4d2e-bfbc-005ec75793d5",
   "metadata": {},
   "outputs": [],
   "source": [
    "# Train final model with best parameters\n",
    "tf.keras.backend.clear_session()\n",
    "\n",
    "final_model = create_model(input_shape)\n",
    "final_model.compile(optimizer=Adam(learning_rate=best_result['learning_rate']),\n",
    "                    loss=losses.categorical_crossentropy,\n",
    "                    metrics=['accuracy'])"
   ]
  },
  {
   "cell_type": "code",
   "execution_count": null,
   "id": "18c3249a-c2f6-4a1f-9bdc-0064d500a807",
   "metadata": {
    "scrolled": true
   },
   "outputs": [],
   "source": [
    "final_train_batches = prepare_dataset(train_dataset, best_result['batch_size'])\n",
    "final_val_batches = prepare_dataset(val_dataset, best_result['batch_size'], shuffle=False)\n",
    "\n",
    "final_history = final_model.fit(final_train_batches,\n",
    "                                epochs=100,  # You might want to increase epochs for final training\n",
    "                                validation_data=final_val_batches,\n",
    "                                callbacks=callbacks)\n"
   ]
  },
  {
   "cell_type": "code",
   "execution_count": 16,
   "id": "41e56867-bbea-4a43-b6ee-35aae3918929",
   "metadata": {},
   "outputs": [],
   "source": [
    "train_loss = final_history.history['loss']\n",
    "val_loss = final_history.history['val_loss']\n",
    "train_acc = final_history.history['accuracy']\n",
    "val_acc = final_history.history['val_accuracy']\n",
    "\n",
    "plot_training_history(train_acc,val_acc,train_loss,val_loss)"
   ]
  },
  {
   "cell_type": "code",
   "execution_count": null,
   "id": "319b6777-d8d2-4b41-bed3-b123bc9e57bb",
   "metadata": {},
   "outputs": [],
   "source": [
    "# Evaluate on test set\n",
    "final_test_batches = prepare_dataset(test_dataset, best_result['batch_size'], shuffle=False)\n",
    "test_loss, test_accuracy = final_model.evaluate(final_test_batches)\n",
    "print(f\"\\nFinal Test Accuracy: {test_accuracy:.4f},Final Test Loss: {test_loss:.4f}\")"
   ]
  },
  {
   "cell_type": "markdown",
   "id": "6008cde4",
   "metadata": {},
   "source": [
    "Final Test Accuracy: 0.9250,Final Test Loss: 0.1644\n"
   ]
  },
  {
   "cell_type": "code",
   "execution_count": 23,
   "id": "f1e128a6-3124-45db-9f09-42146e60f8cc",
   "metadata": {},
   "outputs": [],
   "source": [
    "final_model.save(os.path.join('/tf-acno-projects/image-classification/models','emotions_5_class_model_28-10.keras'))"
   ]
  }
 ],
 "metadata": {
  "kernelspec": {
   "display_name": "Python 3 (ipykernel)",
   "language": "python",
   "name": "python3"
  },
  "language_info": {
   "codemirror_mode": {
    "name": "ipython",
    "version": 3
   },
   "file_extension": ".py",
   "mimetype": "text/x-python",
   "name": "python",
   "nbconvert_exporter": "python",
   "pygments_lexer": "ipython3",
   "version": "3.11.0rc1"
  }
 },
 "nbformat": 4,
 "nbformat_minor": 5
}
