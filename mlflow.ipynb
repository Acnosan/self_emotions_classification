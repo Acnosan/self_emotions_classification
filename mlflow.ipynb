{
 "cells": [
  {
   "cell_type": "code",
   "execution_count": 1,
   "metadata": {},
   "outputs": [],
   "source": [
    "import mlflow\n",
    "import pickle\n",
    "import json\n",
    "import os\n",
    "os.chdir('/tf-acno-projects/image-classification')"
   ]
  },
  {
   "cell_type": "code",
   "execution_count": 2,
   "metadata": {},
   "outputs": [
    {
     "name": "stdout",
     "output_type": "stream",
     "text": [
      "Loading params from mlflow_params.json\n",
      "Params loaded successfully.\n",
      "Loading metrics from mlflow_metrics.json\n",
      "Metrics loaded successfully.\n",
      "Loading model from mlflow_model.pkl\n"
     ]
    },
    {
     "name": "stderr",
     "output_type": "stream",
     "text": [
      "2025-02-07 19:29:23.053690: E tensorflow/compiler/xla/stream_executor/cuda/cuda_dnn.cc:9342] Unable to register cuDNN factory: Attempting to register factory for plugin cuDNN when one has already been registered\n",
      "2025-02-07 19:29:23.053793: E tensorflow/compiler/xla/stream_executor/cuda/cuda_fft.cc:609] Unable to register cuFFT factory: Attempting to register factory for plugin cuFFT when one has already been registered\n",
      "2025-02-07 19:29:23.056109: E tensorflow/compiler/xla/stream_executor/cuda/cuda_blas.cc:1518] Unable to register cuBLAS factory: Attempting to register factory for plugin cuBLAS when one has already been registered\n",
      "2025-02-07 19:29:23.281987: I tensorflow/core/platform/cpu_feature_guard.cc:182] This TensorFlow binary is optimized to use available CPU instructions in performance-critical operations.\n",
      "To enable the following instructions: AVX2 FMA, in other operations, rebuild TensorFlow with the appropriate compiler flags.\n"
     ]
    },
    {
     "name": "stdout",
     "output_type": "stream",
     "text": [
      "INFO:tensorflow:Mixed precision compatibility check (mixed_float16): OK\n",
      "Your GPU will likely run quickly with dtype policy mixed_float16 as it has compute capability of at least 7.0. Your GPU: NVIDIA GeForce RTX 3050, compute capability 8.6\n"
     ]
    },
    {
     "name": "stderr",
     "output_type": "stream",
     "text": [
      "2025-02-07 19:29:27.700438: I tensorflow/compiler/xla/stream_executor/cuda/cuda_gpu_executor.cc:880] could not open file to read NUMA node: /sys/bus/pci/devices/0000:01:00.0/numa_node\n",
      "Your kernel may have been built without NUMA support.\n",
      "2025-02-07 19:29:27.751429: I tensorflow/compiler/xla/stream_executor/cuda/cuda_gpu_executor.cc:880] could not open file to read NUMA node: /sys/bus/pci/devices/0000:01:00.0/numa_node\n",
      "Your kernel may have been built without NUMA support.\n",
      "2025-02-07 19:29:27.751487: I tensorflow/compiler/xla/stream_executor/cuda/cuda_gpu_executor.cc:880] could not open file to read NUMA node: /sys/bus/pci/devices/0000:01:00.0/numa_node\n",
      "Your kernel may have been built without NUMA support.\n",
      "2025-02-07 19:29:27.752392: I tensorflow/compiler/xla/stream_executor/cuda/cuda_gpu_executor.cc:880] could not open file to read NUMA node: /sys/bus/pci/devices/0000:01:00.0/numa_node\n",
      "Your kernel may have been built without NUMA support.\n",
      "2025-02-07 19:29:27.752434: I tensorflow/compiler/xla/stream_executor/cuda/cuda_gpu_executor.cc:880] could not open file to read NUMA node: /sys/bus/pci/devices/0000:01:00.0/numa_node\n",
      "Your kernel may have been built without NUMA support.\n",
      "2025-02-07 19:29:27.752456: I tensorflow/compiler/xla/stream_executor/cuda/cuda_gpu_executor.cc:880] could not open file to read NUMA node: /sys/bus/pci/devices/0000:01:00.0/numa_node\n",
      "Your kernel may have been built without NUMA support.\n",
      "2025-02-07 19:29:27.991339: I tensorflow/compiler/xla/stream_executor/cuda/cuda_gpu_executor.cc:880] could not open file to read NUMA node: /sys/bus/pci/devices/0000:01:00.0/numa_node\n",
      "Your kernel may have been built without NUMA support.\n",
      "2025-02-07 19:29:27.991414: I tensorflow/compiler/xla/stream_executor/cuda/cuda_gpu_executor.cc:880] could not open file to read NUMA node: /sys/bus/pci/devices/0000:01:00.0/numa_node\n",
      "Your kernel may have been built without NUMA support.\n",
      "2025-02-07 19:29:27.991422: I tensorflow/core/common_runtime/gpu/gpu_device.cc:1977] Could not identify NUMA node of platform GPU id 0, defaulting to 0.  Your kernel may not have been built with NUMA support.\n",
      "2025-02-07 19:29:27.991484: I tensorflow/compiler/xla/stream_executor/cuda/cuda_gpu_executor.cc:880] could not open file to read NUMA node: /sys/bus/pci/devices/0000:01:00.0/numa_node\n",
      "Your kernel may have been built without NUMA support.\n",
      "2025-02-07 19:29:27.991516: I tensorflow/core/common_runtime/gpu/gpu_device.cc:1886] Created device /job:localhost/replica:0/task:0/device:GPU:0 with 5567 MB memory:  -> device: 0, name: NVIDIA GeForce RTX 3050, pci bus id: 0000:01:00.0, compute capability: 8.6\n",
      "2025-02-07 19:29:38.620563: I tensorflow/compiler/xla/stream_executor/cuda/cuda_gpu_executor.cc:880] could not open file to read NUMA node: /sys/bus/pci/devices/0000:01:00.0/numa_node\n",
      "Your kernel may have been built without NUMA support.\n"
     ]
    },
    {
     "name": "stdout",
     "output_type": "stream",
     "text": [
      "Model loaded successfully.\n",
      "Loading input example from mlflow_input_example.pkl\n",
      "Input example loaded successfully.\n"
     ]
    }
   ],
   "source": [
    "mlflow_storage = 'mlflow_details'\n",
    "\n",
    "model = None\n",
    "input_example = None\n",
    "params = None\n",
    "metrics = None\n",
    "\n",
    "for file in os.listdir(mlflow_storage):\n",
    "    if file.endswith('.pkl'):\n",
    "        if file.startswith('mlflow_model'):\n",
    "            print(f\"Loading model from {file}\")\n",
    "            with open(os.path.join(mlflow_storage, file), 'rb') as f:\n",
    "                try:\n",
    "                    model = pickle.load(f)\n",
    "                    print(\"Model loaded successfully.\")\n",
    "                except Exception as e:\n",
    "                    print(f\"Error loading model: {e}\")\n",
    "        elif file.startswith('mlflow_input_example'):\n",
    "            print(f\"Loading input example from {file}\")\n",
    "            with open(os.path.join(mlflow_storage, file), 'rb') as f:\n",
    "                try:\n",
    "                    input_example = pickle.load(f)\n",
    "                    print(\"Input example loaded successfully.\")\n",
    "                except Exception as e:\n",
    "                    print(f\"Error loading input example: {e}\")\n",
    "                    \n",
    "    elif file.endswith('.json'):\n",
    "        if file.startswith('mlflow_params'):\n",
    "            print(f\"Loading params from {file}\")\n",
    "            with open(os.path.join(mlflow_storage, file), 'r') as f:\n",
    "                try:\n",
    "                    params = json.load(f)\n",
    "                    print(\"Params loaded successfully.\")\n",
    "                except Exception as e:\n",
    "                    print(f\"Error loading params: {e}\")\n",
    "                \n",
    "        elif file.startswith('mlflow_metrics'):\n",
    "            print(f\"Loading metrics from {file}\")\n",
    "            with open(os.path.join(mlflow_storage, file), 'r') as f:\n",
    "                try:\n",
    "                    metrics = json.load(f)\n",
    "                    print(\"Metrics loaded successfully.\")\n",
    "                except Exception as e:\n",
    "                    print(f\"Error loading metrics: {e}\")\n",
    "\n",
    "# Ensure all necessary variables are loaded\n",
    "if model is None:\n",
    "    raise ValueError(\"Model not found in the specified directory.\")\n",
    "if input_example is None:\n",
    "    raise ValueError(\"Input example not found in the specified directory.\")\n",
    "if params is None:\n",
    "    raise ValueError(\"Params not found in the specified directory.\")\n",
    "if metrics is None:\n",
    "    raise ValueError(\"Metrics not found in the specified directory.\")\n"
   ]
  },
  {
   "cell_type": "code",
   "execution_count": 3,
   "metadata": {},
   "outputs": [
    {
     "name": "stderr",
     "output_type": "stream",
     "text": [
      "2025/02/07 19:29:58 WARNING mlflow.utils.git_utils: Failed to import Git (the Git executable is probably not on your PATH), so Git SHA is not available. Error: Failed to initialize: Bad git executable.\n",
      "The git executable must be specified in one of the following ways:\n",
      "    - be included in your $PATH\n",
      "    - be set via $GIT_PYTHON_GIT_EXECUTABLE\n",
      "    - explicitly set via git.refresh(<full-path-to-git-executable>)\n",
      "\n",
      "All git commands will error until this is rectified.\n",
      "\n",
      "This initial message can be silenced or aggravated in the future by setting the\n",
      "$GIT_PYTHON_REFRESH environment variable. Use one of the following values:\n",
      "    - quiet|q|silence|s|silent|none|n|0: for no message or exception\n",
      "    - warn|w|warning|log|l|1: for a warning message (logging level CRITICAL, displayed by default)\n",
      "    - error|e|exception|raise|r|2: for a raised exception\n",
      "\n",
      "Example:\n",
      "    export GIT_PYTHON_REFRESH=quiet\n",
      "\n",
      "2025-02-07 19:30:10.711949: I tensorflow/compiler/xla/stream_executor/cuda/cuda_dnn.cc:442] Loaded cuDNN version 8600\n"
     ]
    },
    {
     "name": "stdout",
     "output_type": "stream",
     "text": [
      "1/1 [==============================] - 7s 7s/step\n",
      "INFO:tensorflow:Assets written to: /tmp/tmppqcifnct/model/data/model/assets\n"
     ]
    },
    {
     "name": "stderr",
     "output_type": "stream",
     "text": [
      "INFO:tensorflow:Assets written to: /tmp/tmppqcifnct/model/data/model/assets\n"
     ]
    },
    {
     "name": "stdout",
     "output_type": "stream",
     "text": [
      "1/1 [==============================] - 0s 171ms/step\n",
      "🏃 View run mlflow-tensorflow-2025 at: http://mlflow:5000/#/experiments/485046540944028152/runs/ae7ed64e31804f2382f97019026d0523\n",
      "🧪 View experiment at: http://mlflow:5000/#/experiments/485046540944028152\n"
     ]
    }
   ],
   "source": [
    "mlflow.set_experiment(\"Classification\")\n",
    "with mlflow.start_run(run_name='mlflow-tensorflow-2025'):\n",
    "    mlflow.log_params(params)\n",
    "    mlflow.log_metrics(metrics)\n",
    "    mlflow.tensorflow.log_model(\n",
    "        model['model_architecture'],\n",
    "        artifact_path=model['model_name'],\n",
    "        input_example=input_example,)"
   ]
  },
  {
   "cell_type": "code",
   "execution_count": 9,
   "metadata": {},
   "outputs": [
    {
     "name": "stderr",
     "output_type": "stream",
     "text": [
      "Successfully registered model 'pre_trained_model'.\n",
      "2025/02/07 19:48:22 INFO mlflow.store.model_registry.abstract_store: Waiting up to 300 seconds for model version to finish creation. Model name: pre_trained_model, version 1\n",
      "Created version '1' of model 'pre_trained_model'.\n"
     ]
    }
   ],
   "source": [
    "model_name = model['model_name']\n",
    "#model_uri = f\"runs:/{mlflow.active_run().info.run_id}/model\"\n",
    "model_uri = f\"runs:/c7878b9000bc4757830e3b1b6151a4b3/{model_name}\"\n",
    "\n",
    "result = mlflow.register_model(\n",
    "    model_uri, model_name\n",
    ")\n"
   ]
  },
  {
   "cell_type": "code",
   "execution_count": 10,
   "metadata": {},
   "outputs": [],
   "source": [
    "model_ver = 1\n",
    "model_uri = f\"models:/{model_name}/{model_ver}\" # or aliasing like @challenger\n",
    "loading_model = mlflow.tensorflow.load_model(model_uri)"
   ]
  },
  {
   "cell_type": "code",
   "execution_count": 11,
   "metadata": {},
   "outputs": [
    {
     "name": "stdout",
     "output_type": "stream",
     "text": [
      "<keras.src.engine.sequential.Sequential object at 0x7fa68025ca10>\n"
     ]
    }
   ],
   "source": [
    "print(loading_model)"
   ]
  },
  {
   "cell_type": "code",
   "execution_count": 14,
   "metadata": {},
   "outputs": [
    {
     "name": "stderr",
     "output_type": "stream",
     "text": [
      "Successfully registered model 'classification-champion'.\n",
      "Copied version '1' of model 'pre_trained_model' to version '1' of model 'classification-champion'.\n"
     ]
    },
    {
     "data": {
      "text/plain": [
       "<ModelVersion: aliases=[], creation_timestamp=1738957839956, current_stage='None', description='', last_updated_timestamp=1738957839956, name='classification-champion', run_id='c7878b9000bc4757830e3b1b6151a4b3', run_link='', source='models:/pre_trained_model/1', status='READY', status_message=None, tags={}, user_id='', version='1'>"
      ]
     },
     "execution_count": 14,
     "metadata": {},
     "output_type": "execute_result"
    }
   ],
   "source": [
    "client = mlflow.MlflowClient()\n",
    "production_model = model_uri # or aliasing like @challenger\n",
    "client.copy_model_version(production_model, 'classification-champion')"
   ]
  },
  {
   "cell_type": "code",
   "execution_count": 15,
   "metadata": {},
   "outputs": [],
   "source": [
    "model_uri_champion = f\"models:/{model_name}@champion\"\n",
    "champion_model = mlflow.tensorflow.load_model(model_uri_champion)"
   ]
  },
  {
   "cell_type": "code",
   "execution_count": 16,
   "metadata": {},
   "outputs": [
    {
     "name": "stdout",
     "output_type": "stream",
     "text": [
      "<keras.src.engine.sequential.Sequential object at 0x7fa66b904a10>\n"
     ]
    }
   ],
   "source": [
    "print(champion_model)"
   ]
  }
 ],
 "metadata": {
  "kernelspec": {
   "display_name": "Python 3 (ipykernel)",
   "language": "python",
   "name": "python3"
  },
  "language_info": {
   "codemirror_mode": {
    "name": "ipython",
    "version": 3
   },
   "file_extension": ".py",
   "mimetype": "text/x-python",
   "name": "python",
   "nbconvert_exporter": "python",
   "pygments_lexer": "ipython3",
   "version": "3.11.0rc1"
  }
 },
 "nbformat": 4,
 "nbformat_minor": 2
}
