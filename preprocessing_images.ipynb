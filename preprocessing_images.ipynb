{
 "cells": [
  {
   "cell_type": "code",
   "execution_count": null,
   "id": "29c963f5-ead7-4479-a568-085d4638870e",
   "metadata": {},
   "outputs": [],
   "source": [
    "from PIL import Image, ImageFile\n",
    "import os"
   ]
  },
  {
   "cell_type": "code",
   "execution_count": null,
   "id": "036bedd6-1007-404c-9cca-a24a656e74ea",
   "metadata": {},
   "outputs": [],
   "source": [
    "allowed_extensions = ['.jpeg', '.jpg', '.png', '.bmp']\n",
    "ImageFile.LOAD_TRUNCATED_IMAGES = True"
   ]
  },
  {
   "cell_type": "code",
   "execution_count": null,
   "id": "2540ecab-c8f4-4ec3-9372-f214f3f60d3a",
   "metadata": {},
   "outputs": [],
   "source": [
    "def is_valid_image(file_path):\n",
    "    try:\n",
    "        with Image.open(file_path) as img:\n",
    "            img.verify()\n",
    "        return True\n",
    "    except:\n",
    "        return False"
   ]
  },
  {
   "cell_type": "code",
   "execution_count": null,
   "id": "16aa781e-f7c2-4aac-9c10-8a9d13b33545",
   "metadata": {},
   "outputs": [],
   "source": [
    "def get_file_extension(file_path):\n",
    "    return os.path.splitext(file_path)[1].lower()"
   ]
  },
  {
   "cell_type": "code",
   "execution_count": null,
   "id": "50992e2c-9a0b-408e-9540-c7ecfe9af65f",
   "metadata": {},
   "outputs": [],
   "source": [
    "def process_images():\n",
    "    for image_class in os.listdir(data_dir):\n",
    "        class_dir = os.path.join(data_dir, image_class)\n",
    "        if not os.path.isdir(class_dir):\n",
    "            continue\n",
    "\n",
    "        for image_name in os.listdir(class_dir):\n",
    "            image_path = os.path.join(class_dir, image_name)\n",
    "            \n",
    "            # Check file extension\n",
    "            if get_file_extension(image_path) not in allowed_extensions:\n",
    "                print(f\"Removed {image_path} due to invalid extension.\")\n",
    "                os.remove(image_path)\n",
    "                continue\n",
    "\n",
    "            # Verify image integrity\n",
    "            if not is_valid_image(image_path):\n",
    "                print(f\"Removed {image_path} due to file corruption or invalid format.\")\n",
    "                os.remove(image_path)\n",
    "                continue\n",
    "\n",
    "            try:\n",
    "                with Image.open(image_path) as img:\n",
    "                    # Convert to RGB if it's not\n",
    "                    if img.mode != 'RGB':\n",
    "                        img = img.convert('RGB')\n",
    "                    \n",
    "                    # Save as PNG\n",
    "                    new_path = os.path.splitext(image_path)[0] + '.png'\n",
    "                    img.save(new_path, \"PNG\")\n",
    "                    \n",
    "                    # Remove the original file if it's not PNG\n",
    "                    if image_path != new_path:\n",
    "                        os.remove(image_path)\n",
    "                        print(f\"Converted {image_path} to PNG.\")\n",
    "            except Exception as e:\n",
    "                print(f\"Error processing {image_path}: {str(e)}\")\n",
    "                os.remove(image_path)"
   ]
  },
  {
   "cell_type": "code",
   "execution_count": null,
   "id": "6ec23b63-3040-494f-bb52-d10c0ca8382a",
   "metadata": {},
   "outputs": [],
   "source": [
    "process_images()\n",
    "print(\"Image preprocessing completed.\")"
   ]
  }
 ],
 "metadata": {
  "kernelspec": {
   "display_name": "Python 3 (ipykernel)",
   "language": "python",
   "name": "python3"
  },
  "language_info": {
   "codemirror_mode": {
    "name": "ipython",
    "version": 3
   },
   "file_extension": ".py",
   "mimetype": "text/x-python",
   "name": "python",
   "nbconvert_exporter": "python",
   "pygments_lexer": "ipython3",
   "version": "3.11.0rc1"
  }
 },
 "nbformat": 4,
 "nbformat_minor": 5
}
