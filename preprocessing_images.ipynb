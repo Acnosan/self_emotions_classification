{
 "cells": [
  {
   "cell_type": "code",
   "execution_count": 2,
   "id": "29c963f5-ead7-4479-a568-085d4638870e",
   "metadata": {},
   "outputs": [],
   "source": [
    "from PIL import Image, ImageFile\n",
    "import os\n",
    "import concurrent.futures\n",
    "os.chdir('/tf-acno-projects/image-classification/')"
   ]
  },
  {
   "cell_type": "code",
   "execution_count": 3,
   "id": "036bedd6-1007-404c-9cca-a24a656e74ea",
   "metadata": {},
   "outputs": [],
   "source": [
    "data_dir = 'faces_data/'\n",
    "allowed_extensions = ['.jpeg', '.jpg', '.png', '.bmp']\n",
    "ImageFile.LOAD_TRUNCATED_IMAGES = True"
   ]
  },
  {
   "cell_type": "code",
   "execution_count": 4,
   "id": "2540ecab-c8f4-4ec3-9372-f214f3f60d3a",
   "metadata": {},
   "outputs": [],
   "source": [
    "def is_valid_image(file_path):\n",
    "    try:\n",
    "        with Image.open(file_path) as img:\n",
    "            img.verify()\n",
    "        return True\n",
    "    except (IOError, SyntaxError):\n",
    "        return False"
   ]
  },
  {
   "cell_type": "code",
   "execution_count": 5,
   "id": "16aa781e-f7c2-4aac-9c10-8a9d13b33545",
   "metadata": {},
   "outputs": [],
   "source": [
    "def get_file_extension(file_path):\n",
    "    return os.path.splitext(file_path)[1].lower()"
   ]
  },
  {
   "cell_type": "code",
   "execution_count": 6,
   "id": "50992e2c-9a0b-408e-9540-c7ecfe9af65f",
   "metadata": {},
   "outputs": [],
   "source": [
    "# Function to process a single image\n",
    "def process_image(image_path):\n",
    "    # Check file extension\n",
    "    if get_file_extension(image_path) not in allowed_extensions:\n",
    "        print(f\"Removed {image_path} due to invalid extension.\")\n",
    "        os.remove(image_path)\n",
    "        return\n",
    "\n",
    "    # Verify image integrity\n",
    "    if not is_valid_image(image_path):\n",
    "        print(f\"Removed {image_path} due to file corruption or invalid format.\")\n",
    "        os.remove(image_path)\n",
    "        return\n",
    "\n",
    "    try:\n",
    "        with Image.open(image_path) as img:\n",
    "            # Convert to RGB if it's not\n",
    "            if img.mode in ['P', 'L', 'RGBA']:  # Handle palette, grayscale, and RGBA\n",
    "                img = img.convert('RGB')\n",
    "                print(f\"Converting {os.path.splitext(image_path)[0]} to RGB\")\n",
    "            img = img.resize((128, 128))\n",
    "             # Save image without ICC profile to avoid iCCP warnings\n",
    "            img.save(image_path, format=\"PNG\", icc_profile=None)\n",
    "            \n",
    "    except Exception as e:\n",
    "        print(f\"Error processing {image_path}: {str(e)}\")\n",
    "        os.remove(image_path)"
   ]
  },
  {
   "cell_type": "code",
   "execution_count": 7,
   "id": "a4640d4d-c975-4aa2-9bf2-3b47ada82b56",
   "metadata": {},
   "outputs": [],
   "source": [
    "# Function to process images in parallel\n",
    "def process_images_in_parallel():\n",
    "    image_paths = []\n",
    "    # Walk through all directories and collect all image paths\n",
    "    for image_class in os.listdir(data_dir):\n",
    "        class_dir = os.path.join(data_dir, image_class)\n",
    "        if not os.path.isdir(class_dir):\n",
    "            continue\n",
    "        \n",
    "        image_paths += [os.path.join(class_dir, image_name) for image_name in os.listdir(class_dir)]\n",
    "    \n",
    "    # Process images in parallel\n",
    "    with concurrent.futures.ProcessPoolExecutor() as executor:\n",
    "        executor.map(process_image, image_paths)"
   ]
  },
  {
   "cell_type": "code",
   "execution_count": 8,
   "id": "6ec23b63-3040-494f-bb52-d10c0ca8382a",
   "metadata": {},
   "outputs": [
    {
     "name": "stdout",
     "output_type": "stream",
     "text": [
      "Image preprocessing completed.\n"
     ]
    }
   ],
   "source": [
    "process_images_in_parallel()\n",
    "print(\"Image preprocessing completed.\")"
   ]
  }
 ],
 "metadata": {
  "kernelspec": {
   "display_name": "Python 3 (ipykernel)",
   "language": "python",
   "name": "python3"
  },
  "language_info": {
   "codemirror_mode": {
    "name": "ipython",
    "version": 3
   },
   "file_extension": ".py",
   "mimetype": "text/x-python",
   "name": "python",
   "nbconvert_exporter": "python",
   "pygments_lexer": "ipython3",
   "version": "3.11.0rc1"
  }
 },
 "nbformat": 4,
 "nbformat_minor": 5
}
