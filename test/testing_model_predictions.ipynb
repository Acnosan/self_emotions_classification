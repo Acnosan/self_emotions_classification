{
 "cells": [
  {
   "cell_type": "code",
   "execution_count": null,
   "id": "4f920322-0e79-4f1e-b38b-51af116131f1",
   "metadata": {},
   "outputs": [],
   "source": [
    "import tensorflow as tf\n",
    "import matplotlib.pyplot as plt\n",
    "import cv2\n",
    "import numpy as np"
   ]
  },
  {
   "cell_type": "code",
   "execution_count": null,
   "id": "d2c0e421-5a44-453e-a762-8ebdb3931831",
   "metadata": {},
   "outputs": [],
   "source": [
    "tf.keras.backend.clear_session()"
   ]
  },
  {
   "cell_type": "code",
   "execution_count": null,
   "id": "48d46a5c-64fa-49c3-ac97-4176e030d361",
   "metadata": {},
   "outputs": [],
   "source": [
    "\n",
    "read_img = cv2.imread(\"sad_guy.jpg\")\n",
    "if read_img is None:\n",
    "    raise ValueError(\"Image not found or unable to read.\")\n",
    "\n",
    "read_img = cv2.cvtColor(read_img, cv2.COLOR_BGR2RGB)\n",
    "plt.imshow(read_img)\n",
    "plt.axis('off')\n",
    "plt.show()\n",
    "\n",
    "# Convert the image to a TensorFlow tensor and resize it\n",
    "resize = tf.image.resize(tf.convert_to_tensor(read_img, dtype=tf.float32), (128, 128))\n",
    "\n",
    "resize = resize.numpy() / 255.0"
   ]
  },
  {
   "cell_type": "code",
   "execution_count": null,
   "id": "b466641b-2bc7-4844-8ca0-31dfa9f3b5ce",
   "metadata": {},
   "outputs": [],
   "source": [
    "class_mapping = {\n",
    "    0: 'angry',\n",
    "    1: 'disgusted',\n",
    "    2: 'happy',\n",
    "    3: 'sad',\n",
    "    4: 'shocked'\n",
    "}"
   ]
  },
  {
   "cell_type": "code",
   "execution_count": null,
   "id": "44ec64ee-f3da-4d8f-874c-896ce5b565e1",
   "metadata": {},
   "outputs": [],
   "source": [
    "loaded_model = tf.keras.models.load_model(\"../models/5_classes_emotions_model.keras\")"
   ]
  },
  {
   "cell_type": "code",
   "execution_count": null,
   "id": "431a9022-b2ae-4c6b-93c6-c1b39541a4d7",
   "metadata": {},
   "outputs": [],
   "source": [
    "#expand the dim of the image for the batch (256.256.3) to (1.256.256.3) , axis = 0 means it will be at the start\n",
    "processed_image = np.expand_dims(resize, axis=0)\n",
    "\n",
    "yhat=loaded_model.predict(processed_image)\n",
    "predicted_class = np.argmax(yhat)\n",
    "print(f'Image: \"angry man\" , Prediction: {class_mapping.get(predicted_class, \"UNKNOWN\")}, Probabilities: {yhat}')\n"
   ]
  },
  {
   "cell_type": "code",
   "execution_count": null,
   "id": "0dd13c02-2681-4cbc-a796-c0880e306f1a",
   "metadata": {},
   "outputs": [],
   "source": [
    "# Create a dummy label for evaluation (assuming a multi-class classification, replace with actual if available)\n",
    "dummy_label = np.array([[0, 0, 0, 1, 0]])  # Adjust based on your class mapping\n",
    "\n",
    "# Evaluate the model\n",
    "loss, accuracy = loaded_model.evaluate(processed_image, dummy_label, verbose=1)\n",
    "# Output results\n",
    "print(f'Loss: {loss:.4f}')\n",
    "print(f'Accuracy: {accuracy:.4f}')"
   ]
  }
 ],
 "metadata": {
  "kernelspec": {
   "display_name": "Python 3",
   "language": "python",
   "name": "python3"
  },
  "language_info": {
   "codemirror_mode": {
    "name": "ipython",
    "version": 3
   },
   "file_extension": ".py",
   "mimetype": "text/x-python",
   "name": "python",
   "nbconvert_exporter": "python",
   "pygments_lexer": "ipython3",
   "version": "3.12.3"
  }
 },
 "nbformat": 4,
 "nbformat_minor": 5
}
